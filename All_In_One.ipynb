{
  "nbformat": 4,
  "nbformat_minor": 0,
  "metadata": {
    "colab": {
      "name": "All In One.ipynb",
      "provenance": [],
      "collapsed_sections": [],
      "authorship_tag": "ABX9TyPRNPHHPfBCPTRe4hWciefe",
      "include_colab_link": true
    },
    "kernelspec": {
      "name": "python3",
      "display_name": "Python 3"
    },
    "language_info": {
      "name": "python"
    }
  },
  "cells": [
    {
      "cell_type": "markdown",
      "metadata": {
        "id": "view-in-github",
        "colab_type": "text"
      },
      "source": [
        "<a href=\"https://colab.research.google.com/github/sidchaubey/Python_Revision/blob/master/All_In_One.ipynb\" target=\"_parent\"><img src=\"https://colab.research.google.com/assets/colab-badge.svg\" alt=\"Open In Colab\"/></a>"
      ]
    },
    {
      "cell_type": "code",
      "metadata": {
        "id": "HBdoNanLVRYa"
      },
      "source": [
        "#  print(\"Hello\")"
      ],
      "execution_count": 7,
      "outputs": []
    },
    {
      "cell_type": "code",
      "metadata": {
        "id": "ckTQYXJUXEtz"
      },
      "source": [
        "import seaborn as sns"
      ],
      "execution_count": 2,
      "outputs": []
    },
    {
      "cell_type": "code",
      "metadata": {
        "id": "TVHhS8YcXQyi"
      },
      "source": [
        "import tensorflow as tf"
      ],
      "execution_count": 4,
      "outputs": []
    },
    {
      "cell_type": "code",
      "metadata": {
        "colab": {
          "base_uri": "https://localhost:8080/",
          "height": 35
        },
        "id": "1zELp_TwXWr9",
        "outputId": "251127da-2375-4a7b-e793-16d385505c42"
      },
      "source": [
        "tf.__version__"
      ],
      "execution_count": 5,
      "outputs": [
        {
          "output_type": "execute_result",
          "data": {
            "application/vnd.google.colaboratory.intrinsic+json": {
              "type": "string"
            },
            "text/plain": [
              "'2.6.0'"
            ]
          },
          "metadata": {},
          "execution_count": 5
        }
      ]
    },
    {
      "cell_type": "code",
      "metadata": {
        "id": "N01Aah6_XbUY"
      },
      "source": [
        "%tensorflow_version 2.x"
      ],
      "execution_count": 6,
      "outputs": []
    },
    {
      "cell_type": "code",
      "metadata": {
        "colab": {
          "base_uri": "https://localhost:8080/"
        },
        "id": "ZgBLxe6VXnOm",
        "outputId": "03ef517e-387a-46de-a078-3df7d9bf7e44"
      },
      "source": [
        "%%sh\n",
        "\n",
        "pip install jupyter\n",
        "pip install lxml\n",
        "pip install matplotlib\n",
        "pip install pandas\n",
        "pip install Pillow\n",
        "pip install scikit-learn\n",
        "pip install seaborn\n",
        "pip install tensorflow\n",
        "\n",
        "\n",
        "pip freeze > requirements.txt"
      ],
      "execution_count": 9,
      "outputs": [
        {
          "output_type": "stream",
          "name": "stdout",
          "text": [
            "Requirement already satisfied: jupyter in /usr/local/lib/python3.7/dist-packages (1.0.0)\n",
            "Requirement already satisfied: ipywidgets in /usr/local/lib/python3.7/dist-packages (from jupyter) (7.6.5)\n",
            "Requirement already satisfied: nbconvert in /usr/local/lib/python3.7/dist-packages (from jupyter) (5.6.1)\n",
            "Requirement already satisfied: qtconsole in /usr/local/lib/python3.7/dist-packages (from jupyter) (5.1.1)\n",
            "Requirement already satisfied: jupyter-console in /usr/local/lib/python3.7/dist-packages (from jupyter) (5.2.0)\n",
            "Requirement already satisfied: notebook in /usr/local/lib/python3.7/dist-packages (from jupyter) (5.3.1)\n",
            "Requirement already satisfied: ipykernel in /usr/local/lib/python3.7/dist-packages (from jupyter) (4.10.1)\n",
            "Requirement already satisfied: jupyter-client in /usr/local/lib/python3.7/dist-packages (from ipykernel->jupyter) (5.3.5)\n",
            "Requirement already satisfied: tornado>=4.0 in /usr/local/lib/python3.7/dist-packages (from ipykernel->jupyter) (5.1.1)\n",
            "Requirement already satisfied: ipython>=4.0.0 in /usr/local/lib/python3.7/dist-packages (from ipykernel->jupyter) (5.5.0)\n",
            "Requirement already satisfied: traitlets>=4.1.0 in /usr/local/lib/python3.7/dist-packages (from ipykernel->jupyter) (5.1.0)\n",
            "Requirement already satisfied: prompt-toolkit<2.0.0,>=1.0.4 in /usr/local/lib/python3.7/dist-packages (from ipython>=4.0.0->ipykernel->jupyter) (1.0.18)\n",
            "Requirement already satisfied: pygments in /usr/local/lib/python3.7/dist-packages (from ipython>=4.0.0->ipykernel->jupyter) (2.6.1)\n",
            "Requirement already satisfied: decorator in /usr/local/lib/python3.7/dist-packages (from ipython>=4.0.0->ipykernel->jupyter) (4.4.2)\n",
            "Requirement already satisfied: simplegeneric>0.8 in /usr/local/lib/python3.7/dist-packages (from ipython>=4.0.0->ipykernel->jupyter) (0.8.1)\n",
            "Requirement already satisfied: pexpect in /usr/local/lib/python3.7/dist-packages (from ipython>=4.0.0->ipykernel->jupyter) (4.8.0)\n",
            "Requirement already satisfied: setuptools>=18.5 in /usr/local/lib/python3.7/dist-packages (from ipython>=4.0.0->ipykernel->jupyter) (57.4.0)\n",
            "Requirement already satisfied: pickleshare in /usr/local/lib/python3.7/dist-packages (from ipython>=4.0.0->ipykernel->jupyter) (0.7.5)\n",
            "Requirement already satisfied: six>=1.9.0 in /usr/local/lib/python3.7/dist-packages (from prompt-toolkit<2.0.0,>=1.0.4->ipython>=4.0.0->ipykernel->jupyter) (1.15.0)\n",
            "Requirement already satisfied: wcwidth in /usr/local/lib/python3.7/dist-packages (from prompt-toolkit<2.0.0,>=1.0.4->ipython>=4.0.0->ipykernel->jupyter) (0.2.5)\n",
            "Requirement already satisfied: ipython-genutils~=0.2.0 in /usr/local/lib/python3.7/dist-packages (from ipywidgets->jupyter) (0.2.0)\n",
            "Requirement already satisfied: nbformat>=4.2.0 in /usr/local/lib/python3.7/dist-packages (from ipywidgets->jupyter) (5.1.3)\n",
            "Requirement already satisfied: widgetsnbextension~=3.5.0 in /usr/local/lib/python3.7/dist-packages (from ipywidgets->jupyter) (3.5.1)\n",
            "Requirement already satisfied: jupyterlab-widgets>=1.0.0 in /usr/local/lib/python3.7/dist-packages (from ipywidgets->jupyter) (1.0.2)\n",
            "Requirement already satisfied: jupyter-core in /usr/local/lib/python3.7/dist-packages (from nbformat>=4.2.0->ipywidgets->jupyter) (4.7.1)\n",
            "Requirement already satisfied: jsonschema!=2.5.0,>=2.4 in /usr/local/lib/python3.7/dist-packages (from nbformat>=4.2.0->ipywidgets->jupyter) (2.6.0)\n",
            "Requirement already satisfied: Send2Trash in /usr/local/lib/python3.7/dist-packages (from notebook->jupyter) (1.8.0)\n",
            "Requirement already satisfied: terminado>=0.8.1 in /usr/local/lib/python3.7/dist-packages (from notebook->jupyter) (0.12.1)\n",
            "Requirement already satisfied: jinja2 in /usr/local/lib/python3.7/dist-packages (from notebook->jupyter) (2.11.3)\n",
            "Requirement already satisfied: python-dateutil>=2.1 in /usr/local/lib/python3.7/dist-packages (from jupyter-client->ipykernel->jupyter) (2.8.2)\n",
            "Requirement already satisfied: pyzmq>=13 in /usr/local/lib/python3.7/dist-packages (from jupyter-client->ipykernel->jupyter) (22.2.1)\n",
            "Requirement already satisfied: ptyprocess in /usr/local/lib/python3.7/dist-packages (from terminado>=0.8.1->notebook->jupyter) (0.7.0)\n",
            "Requirement already satisfied: MarkupSafe>=0.23 in /usr/local/lib/python3.7/dist-packages (from jinja2->notebook->jupyter) (2.0.1)\n",
            "Requirement already satisfied: testpath in /usr/local/lib/python3.7/dist-packages (from nbconvert->jupyter) (0.5.0)\n",
            "Requirement already satisfied: pandocfilters>=1.4.1 in /usr/local/lib/python3.7/dist-packages (from nbconvert->jupyter) (1.5.0)\n",
            "Requirement already satisfied: entrypoints>=0.2.2 in /usr/local/lib/python3.7/dist-packages (from nbconvert->jupyter) (0.3)\n",
            "Requirement already satisfied: defusedxml in /usr/local/lib/python3.7/dist-packages (from nbconvert->jupyter) (0.7.1)\n",
            "Requirement already satisfied: bleach in /usr/local/lib/python3.7/dist-packages (from nbconvert->jupyter) (4.1.0)\n",
            "Requirement already satisfied: mistune<2,>=0.8.1 in /usr/local/lib/python3.7/dist-packages (from nbconvert->jupyter) (0.8.4)\n",
            "Requirement already satisfied: packaging in /usr/local/lib/python3.7/dist-packages (from bleach->nbconvert->jupyter) (21.0)\n",
            "Requirement already satisfied: webencodings in /usr/local/lib/python3.7/dist-packages (from bleach->nbconvert->jupyter) (0.5.1)\n",
            "Requirement already satisfied: pyparsing>=2.0.2 in /usr/local/lib/python3.7/dist-packages (from packaging->bleach->nbconvert->jupyter) (2.4.7)\n",
            "Requirement already satisfied: qtpy in /usr/local/lib/python3.7/dist-packages (from qtconsole->jupyter) (1.11.1)\n",
            "Requirement already satisfied: lxml in /usr/local/lib/python3.7/dist-packages (4.2.6)\n",
            "Requirement already satisfied: matplotlib in /usr/local/lib/python3.7/dist-packages (3.2.2)\n",
            "Requirement already satisfied: python-dateutil>=2.1 in /usr/local/lib/python3.7/dist-packages (from matplotlib) (2.8.2)\n",
            "Requirement already satisfied: pyparsing!=2.0.4,!=2.1.2,!=2.1.6,>=2.0.1 in /usr/local/lib/python3.7/dist-packages (from matplotlib) (2.4.7)\n",
            "Requirement already satisfied: numpy>=1.11 in /usr/local/lib/python3.7/dist-packages (from matplotlib) (1.19.5)\n",
            "Requirement already satisfied: cycler>=0.10 in /usr/local/lib/python3.7/dist-packages (from matplotlib) (0.10.0)\n",
            "Requirement already satisfied: kiwisolver>=1.0.1 in /usr/local/lib/python3.7/dist-packages (from matplotlib) (1.3.2)\n",
            "Requirement already satisfied: six in /usr/local/lib/python3.7/dist-packages (from cycler>=0.10->matplotlib) (1.15.0)\n",
            "Requirement already satisfied: pandas in /usr/local/lib/python3.7/dist-packages (1.1.5)\n",
            "Requirement already satisfied: numpy>=1.15.4 in /usr/local/lib/python3.7/dist-packages (from pandas) (1.19.5)\n",
            "Requirement already satisfied: pytz>=2017.2 in /usr/local/lib/python3.7/dist-packages (from pandas) (2018.9)\n",
            "Requirement already satisfied: python-dateutil>=2.7.3 in /usr/local/lib/python3.7/dist-packages (from pandas) (2.8.2)\n",
            "Requirement already satisfied: six>=1.5 in /usr/local/lib/python3.7/dist-packages (from python-dateutil>=2.7.3->pandas) (1.15.0)\n",
            "Requirement already satisfied: Pillow in /usr/local/lib/python3.7/dist-packages (7.1.2)\n",
            "Requirement already satisfied: scikit-learn in /usr/local/lib/python3.7/dist-packages (0.22.2.post1)\n",
            "Requirement already satisfied: scipy>=0.17.0 in /usr/local/lib/python3.7/dist-packages (from scikit-learn) (1.4.1)\n",
            "Requirement already satisfied: joblib>=0.11 in /usr/local/lib/python3.7/dist-packages (from scikit-learn) (1.0.1)\n",
            "Requirement already satisfied: numpy>=1.11.0 in /usr/local/lib/python3.7/dist-packages (from scikit-learn) (1.19.5)\n",
            "Requirement already satisfied: seaborn in /usr/local/lib/python3.7/dist-packages (0.11.2)\n",
            "Requirement already satisfied: pandas>=0.23 in /usr/local/lib/python3.7/dist-packages (from seaborn) (1.1.5)\n",
            "Requirement already satisfied: numpy>=1.15 in /usr/local/lib/python3.7/dist-packages (from seaborn) (1.19.5)\n",
            "Requirement already satisfied: scipy>=1.0 in /usr/local/lib/python3.7/dist-packages (from seaborn) (1.4.1)\n",
            "Requirement already satisfied: matplotlib>=2.2 in /usr/local/lib/python3.7/dist-packages (from seaborn) (3.2.2)\n",
            "Requirement already satisfied: pyparsing!=2.0.4,!=2.1.2,!=2.1.6,>=2.0.1 in /usr/local/lib/python3.7/dist-packages (from matplotlib>=2.2->seaborn) (2.4.7)\n",
            "Requirement already satisfied: cycler>=0.10 in /usr/local/lib/python3.7/dist-packages (from matplotlib>=2.2->seaborn) (0.10.0)\n",
            "Requirement already satisfied: python-dateutil>=2.1 in /usr/local/lib/python3.7/dist-packages (from matplotlib>=2.2->seaborn) (2.8.2)\n",
            "Requirement already satisfied: kiwisolver>=1.0.1 in /usr/local/lib/python3.7/dist-packages (from matplotlib>=2.2->seaborn) (1.3.2)\n",
            "Requirement already satisfied: six in /usr/local/lib/python3.7/dist-packages (from cycler>=0.10->matplotlib>=2.2->seaborn) (1.15.0)\n",
            "Requirement already satisfied: pytz>=2017.2 in /usr/local/lib/python3.7/dist-packages (from pandas>=0.23->seaborn) (2018.9)\n",
            "Requirement already satisfied: tensorflow in /usr/local/lib/python3.7/dist-packages (2.6.0)\n",
            "Requirement already satisfied: absl-py~=0.10 in /usr/local/lib/python3.7/dist-packages (from tensorflow) (0.12.0)\n",
            "Requirement already satisfied: six~=1.15.0 in /usr/local/lib/python3.7/dist-packages (from tensorflow) (1.15.0)\n",
            "Requirement already satisfied: google-pasta~=0.2 in /usr/local/lib/python3.7/dist-packages (from tensorflow) (0.2.0)\n",
            "Requirement already satisfied: keras-preprocessing~=1.1.2 in /usr/local/lib/python3.7/dist-packages (from tensorflow) (1.1.2)\n",
            "Requirement already satisfied: protobuf>=3.9.2 in /usr/local/lib/python3.7/dist-packages (from tensorflow) (3.17.3)\n",
            "Requirement already satisfied: numpy~=1.19.2 in /usr/local/lib/python3.7/dist-packages (from tensorflow) (1.19.5)\n",
            "Requirement already satisfied: termcolor~=1.1.0 in /usr/local/lib/python3.7/dist-packages (from tensorflow) (1.1.0)\n",
            "Requirement already satisfied: h5py~=3.1.0 in /usr/local/lib/python3.7/dist-packages (from tensorflow) (3.1.0)\n",
            "Requirement already satisfied: keras~=2.6 in /usr/local/lib/python3.7/dist-packages (from tensorflow) (2.6.0)\n",
            "Requirement already satisfied: gast==0.4.0 in /usr/local/lib/python3.7/dist-packages (from tensorflow) (0.4.0)\n",
            "Requirement already satisfied: opt-einsum~=3.3.0 in /usr/local/lib/python3.7/dist-packages (from tensorflow) (3.3.0)\n",
            "Requirement already satisfied: clang~=5.0 in /usr/local/lib/python3.7/dist-packages (from tensorflow) (5.0)\n",
            "Requirement already satisfied: grpcio<2.0,>=1.37.0 in /usr/local/lib/python3.7/dist-packages (from tensorflow) (1.40.0)\n",
            "Requirement already satisfied: wrapt~=1.12.1 in /usr/local/lib/python3.7/dist-packages (from tensorflow) (1.12.1)\n",
            "Requirement already satisfied: flatbuffers~=1.12.0 in /usr/local/lib/python3.7/dist-packages (from tensorflow) (1.12)\n",
            "Requirement already satisfied: wheel~=0.35 in /usr/local/lib/python3.7/dist-packages (from tensorflow) (0.37.0)\n",
            "Requirement already satisfied: typing-extensions~=3.7.4 in /usr/local/lib/python3.7/dist-packages (from tensorflow) (3.7.4.3)\n",
            "Requirement already satisfied: tensorflow-estimator~=2.6 in /usr/local/lib/python3.7/dist-packages (from tensorflow) (2.6.0)\n",
            "Requirement already satisfied: tensorboard~=2.6 in /usr/local/lib/python3.7/dist-packages (from tensorflow) (2.6.0)\n",
            "Requirement already satisfied: astunparse~=1.6.3 in /usr/local/lib/python3.7/dist-packages (from tensorflow) (1.6.3)\n",
            "Requirement already satisfied: cached-property in /usr/local/lib/python3.7/dist-packages (from h5py~=3.1.0->tensorflow) (1.5.2)\n",
            "Requirement already satisfied: setuptools>=41.0.0 in /usr/local/lib/python3.7/dist-packages (from tensorboard~=2.6->tensorflow) (57.4.0)\n",
            "Requirement already satisfied: google-auth<2,>=1.6.3 in /usr/local/lib/python3.7/dist-packages (from tensorboard~=2.6->tensorflow) (1.35.0)\n",
            "Requirement already satisfied: google-auth-oauthlib<0.5,>=0.4.1 in /usr/local/lib/python3.7/dist-packages (from tensorboard~=2.6->tensorflow) (0.4.6)\n",
            "Requirement already satisfied: requests<3,>=2.21.0 in /usr/local/lib/python3.7/dist-packages (from tensorboard~=2.6->tensorflow) (2.23.0)\n",
            "Requirement already satisfied: werkzeug>=0.11.15 in /usr/local/lib/python3.7/dist-packages (from tensorboard~=2.6->tensorflow) (1.0.1)\n",
            "Requirement already satisfied: tensorboard-data-server<0.7.0,>=0.6.0 in /usr/local/lib/python3.7/dist-packages (from tensorboard~=2.6->tensorflow) (0.6.1)\n",
            "Requirement already satisfied: tensorboard-plugin-wit>=1.6.0 in /usr/local/lib/python3.7/dist-packages (from tensorboard~=2.6->tensorflow) (1.8.0)\n",
            "Requirement already satisfied: markdown>=2.6.8 in /usr/local/lib/python3.7/dist-packages (from tensorboard~=2.6->tensorflow) (3.3.4)\n",
            "Requirement already satisfied: cachetools<5.0,>=2.0.0 in /usr/local/lib/python3.7/dist-packages (from google-auth<2,>=1.6.3->tensorboard~=2.6->tensorflow) (4.2.2)\n",
            "Requirement already satisfied: pyasn1-modules>=0.2.1 in /usr/local/lib/python3.7/dist-packages (from google-auth<2,>=1.6.3->tensorboard~=2.6->tensorflow) (0.2.8)\n",
            "Requirement already satisfied: rsa<5,>=3.1.4 in /usr/local/lib/python3.7/dist-packages (from google-auth<2,>=1.6.3->tensorboard~=2.6->tensorflow) (4.7.2)\n",
            "Requirement already satisfied: requests-oauthlib>=0.7.0 in /usr/local/lib/python3.7/dist-packages (from google-auth-oauthlib<0.5,>=0.4.1->tensorboard~=2.6->tensorflow) (1.3.0)\n",
            "Requirement already satisfied: importlib-metadata in /usr/local/lib/python3.7/dist-packages (from markdown>=2.6.8->tensorboard~=2.6->tensorflow) (4.8.1)\n",
            "Requirement already satisfied: pyasn1<0.5.0,>=0.4.6 in /usr/local/lib/python3.7/dist-packages (from pyasn1-modules>=0.2.1->google-auth<2,>=1.6.3->tensorboard~=2.6->tensorflow) (0.4.8)\n",
            "Requirement already satisfied: urllib3!=1.25.0,!=1.25.1,<1.26,>=1.21.1 in /usr/local/lib/python3.7/dist-packages (from requests<3,>=2.21.0->tensorboard~=2.6->tensorflow) (1.24.3)\n",
            "Requirement already satisfied: idna<3,>=2.5 in /usr/local/lib/python3.7/dist-packages (from requests<3,>=2.21.0->tensorboard~=2.6->tensorflow) (2.10)\n",
            "Requirement already satisfied: certifi>=2017.4.17 in /usr/local/lib/python3.7/dist-packages (from requests<3,>=2.21.0->tensorboard~=2.6->tensorflow) (2021.5.30)\n",
            "Requirement already satisfied: chardet<4,>=3.0.2 in /usr/local/lib/python3.7/dist-packages (from requests<3,>=2.21.0->tensorboard~=2.6->tensorflow) (3.0.4)\n",
            "Requirement already satisfied: oauthlib>=3.0.0 in /usr/local/lib/python3.7/dist-packages (from requests-oauthlib>=0.7.0->google-auth-oauthlib<0.5,>=0.4.1->tensorboard~=2.6->tensorflow) (3.1.1)\n",
            "Requirement already satisfied: zipp>=0.5 in /usr/local/lib/python3.7/dist-packages (from importlib-metadata->markdown>=2.6.8->tensorboard~=2.6->tensorflow) (3.5.0)\n"
          ]
        }
      ]
    },
    {
      "cell_type": "code",
      "metadata": {
        "colab": {
          "base_uri": "https://localhost:8080/"
        },
        "id": "uBZ_CvfxaEXU",
        "outputId": "6de11926-47d2-4199-ec0c-d31b35fccdd0"
      },
      "source": [
        "path = \"/content/requirements.txt\"\n",
        "\n",
        "with open(path) as f:\n",
        "  data = f.readlines()\n",
        "\n",
        "\n",
        "print(data)\n",
        "\n",
        "data_without_n = []\n",
        "\n",
        "for i in data:\n",
        "  data_without_n.append(i.split(\"==\")[0])\n",
        "\n",
        "print(data_without_n)"
      ],
      "execution_count": 16,
      "outputs": [
        {
          "output_type": "stream",
          "name": "stdout",
          "text": [
            "['absl-py==0.12.0\\n', 'alabaster==0.7.12\\n', 'albumentations==0.1.12\\n', 'altair==4.1.0\\n', 'appdirs==1.4.4\\n', 'argcomplete==1.12.3\\n', 'argon2-cffi==21.1.0\\n', 'arviz==0.11.2\\n', 'astor==0.8.1\\n', 'astropy==4.3.1\\n', 'astunparse==1.6.3\\n', 'atari-py==0.2.9\\n', 'atomicwrites==1.4.0\\n', 'attrs==21.2.0\\n', 'audioread==2.1.9\\n', 'autograd==1.3\\n', 'Babel==2.9.1\\n', 'backcall==0.2.0\\n', 'beautifulsoup4==4.6.3\\n', 'bleach==4.1.0\\n', 'blis==0.4.1\\n', 'bokeh==2.3.3\\n', 'Bottleneck==1.3.2\\n', 'branca==0.4.2\\n', 'bs4==0.0.1\\n', 'CacheControl==0.12.6\\n', 'cached-property==1.5.2\\n', 'cachetools==4.2.2\\n', 'catalogue==1.0.0\\n', 'certifi==2021.5.30\\n', 'cffi==1.14.6\\n', 'cftime==1.5.0\\n', 'chardet==3.0.4\\n', 'charset-normalizer==2.0.5\\n', 'clang==5.0\\n', 'click==7.1.2\\n', 'cloudpickle==1.3.0\\n', 'cmake==3.12.0\\n', 'cmdstanpy==0.9.5\\n', 'colorcet==2.0.6\\n', 'colorlover==0.3.0\\n', 'community==1.0.0b1\\n', 'contextlib2==0.5.5\\n', 'convertdate==2.3.2\\n', 'coverage==3.7.1\\n', 'coveralls==0.5\\n', 'crcmod==1.7\\n', 'cufflinks==0.17.3\\n', 'cvxopt==1.2.6\\n', 'cvxpy==1.0.31\\n', 'cycler==0.10.0\\n', 'cymem==2.0.5\\n', 'Cython==0.29.24\\n', 'daft==0.0.4\\n', 'dask==2.12.0\\n', 'datascience==0.10.6\\n', 'debugpy==1.0.0\\n', 'decorator==4.4.2\\n', 'defusedxml==0.7.1\\n', 'descartes==1.1.0\\n', 'dill==0.3.4\\n', 'distributed==1.25.3\\n', 'dlib @ file:///dlib-19.18.0-cp37-cp37m-linux_x86_64.whl\\n', 'dm-tree==0.1.6\\n', 'docopt==0.6.2\\n', 'docutils==0.17.1\\n', 'dopamine-rl==1.0.5\\n', 'earthengine-api==0.1.282\\n', 'easydict==1.9\\n', 'ecos==2.0.7.post1\\n', 'editdistance==0.5.3\\n', 'en-core-web-sm @ https://github.com/explosion/spacy-models/releases/download/en_core_web_sm-2.2.5/en_core_web_sm-2.2.5.tar.gz\\n', 'entrypoints==0.3\\n', 'ephem==4.0.0.2\\n', 'et-xmlfile==1.1.0\\n', 'fa2==0.3.5\\n', 'fastai==1.0.61\\n', 'fastdtw==0.3.4\\n', 'fastprogress==1.0.0\\n', 'fastrlock==0.6\\n', 'fbprophet==0.7.1\\n', 'feather-format==0.4.1\\n', 'filelock==3.0.12\\n', 'firebase-admin==4.4.0\\n', 'fix-yahoo-finance==0.0.22\\n', 'Flask==1.1.4\\n', 'flatbuffers==1.12\\n', 'folium==0.8.3\\n', 'future==0.16.0\\n', 'gast==0.4.0\\n', 'GDAL==2.2.2\\n', 'gdown==3.6.4\\n', 'gensim==3.6.0\\n', 'geographiclib==1.52\\n', 'geopy==1.17.0\\n', 'gin-config==0.4.0\\n', 'glob2==0.7\\n', 'google==2.0.3\\n', 'google-api-core==1.26.3\\n', 'google-api-python-client==1.12.8\\n', 'google-auth==1.35.0\\n', 'google-auth-httplib2==0.0.4\\n', 'google-auth-oauthlib==0.4.6\\n', 'google-cloud-bigquery==1.21.0\\n', 'google-cloud-bigquery-storage==1.1.0\\n', 'google-cloud-core==1.0.3\\n', 'google-cloud-datastore==1.8.0\\n', 'google-cloud-firestore==1.7.0\\n', 'google-cloud-language==1.2.0\\n', 'google-cloud-storage==1.18.1\\n', 'google-cloud-translate==1.5.0\\n', 'google-colab @ file:///colabtools/dist/google-colab-1.0.0.tar.gz\\n', 'google-pasta==0.2.0\\n', 'google-resumable-media==0.4.1\\n', 'googleapis-common-protos==1.53.0\\n', 'googledrivedownloader==0.4\\n', 'graphviz==0.10.1\\n', 'greenlet==1.1.1\\n', 'grpcio==1.40.0\\n', 'gspread==3.0.1\\n', 'gspread-dataframe==3.0.8\\n', 'gym==0.17.3\\n', 'h5py==3.1.0\\n', 'HeapDict==1.0.1\\n', 'hijri-converter==2.2.1\\n', 'holidays==0.10.5.2\\n', 'holoviews==1.14.5\\n', 'html5lib==1.0.1\\n', 'httpimport==0.5.18\\n', 'httplib2==0.17.4\\n', 'httplib2shim==0.0.3\\n', 'humanize==0.5.1\\n', 'hyperopt==0.1.2\\n', 'ideep4py==2.0.0.post3\\n', 'idna==2.10\\n', 'imageio==2.4.1\\n', 'imagesize==1.2.0\\n', 'imbalanced-learn==0.4.3\\n', 'imblearn==0.0\\n', 'imgaug==0.2.9\\n', 'importlib-metadata==4.8.1\\n', 'importlib-resources==5.2.2\\n', 'imutils==0.5.4\\n', 'inflect==2.1.0\\n', 'iniconfig==1.1.1\\n', 'intel-openmp==2021.3.0\\n', 'intervaltree==2.1.0\\n', 'ipykernel==4.10.1\\n', 'ipython==5.5.0\\n', 'ipython-genutils==0.2.0\\n', 'ipython-sql==0.3.9\\n', 'ipywidgets==7.6.5\\n', 'itsdangerous==1.1.0\\n', 'jax==0.2.19\\n', 'jaxlib @ https://storage.googleapis.com/jax-releases/cuda111/jaxlib-0.1.70+cuda111-cp37-none-manylinux2010_x86_64.whl\\n', 'jdcal==1.4.1\\n', 'jedi==0.18.0\\n', 'jieba==0.42.1\\n', 'Jinja2==2.11.3\\n', 'joblib==1.0.1\\n', 'jpeg4py==0.1.4\\n', 'jsonschema==2.6.0\\n', 'jupyter==1.0.0\\n', 'jupyter-client==5.3.5\\n', 'jupyter-console==5.2.0\\n', 'jupyter-core==4.7.1\\n', 'jupyterlab-pygments==0.1.2\\n', 'jupyterlab-widgets==1.0.2\\n', 'kaggle==1.5.12\\n', 'kapre==0.3.5\\n', 'keras==2.6.0\\n', 'Keras-Preprocessing==1.1.2\\n', 'keras-vis==0.4.1\\n', 'kiwisolver==1.3.2\\n', 'korean-lunar-calendar==0.2.1\\n', 'librosa==0.8.1\\n', 'lightgbm==2.2.3\\n', 'llvmlite==0.34.0\\n', 'lmdb==0.99\\n', 'LunarCalendar==0.0.9\\n', 'lxml==4.2.6\\n', 'Markdown==3.3.4\\n', 'MarkupSafe==2.0.1\\n', 'matplotlib==3.2.2\\n', 'matplotlib-inline==0.1.3\\n', 'matplotlib-venn==0.11.6\\n', 'missingno==0.5.0\\n', 'mistune==0.8.4\\n', 'mizani==0.6.0\\n', 'mkl==2019.0\\n', 'mlxtend==0.14.0\\n', 'more-itertools==8.9.0\\n', 'moviepy==0.2.3.5\\n', 'mpmath==1.2.1\\n', 'msgpack==1.0.2\\n', 'multiprocess==0.70.12.2\\n', 'multitasking==0.0.9\\n', 'murmurhash==1.0.5\\n', 'music21==5.5.0\\n', 'natsort==5.5.0\\n', 'nbclient==0.5.4\\n', 'nbconvert==5.6.1\\n', 'nbformat==5.1.3\\n', 'nest-asyncio==1.5.1\\n', 'netCDF4==1.5.7\\n', 'networkx==2.6.3\\n', 'nibabel==3.0.2\\n', 'nltk==3.2.5\\n', 'notebook==5.3.1\\n', 'numba==0.51.2\\n', 'numexpr==2.7.3\\n', 'numpy==1.19.5\\n', 'nvidia-ml-py3==7.352.0\\n', 'oauth2client==4.1.3\\n', 'oauthlib==3.1.1\\n', 'okgrade==0.4.3\\n', 'opencv-contrib-python==4.1.2.30\\n', 'opencv-python==4.1.2.30\\n', 'openpyxl==2.5.9\\n', 'opt-einsum==3.3.0\\n', 'osqp==0.6.2.post0\\n', 'packaging==21.0\\n', 'palettable==3.3.0\\n', 'pandas==1.1.5\\n', 'pandas-datareader==0.9.0\\n', 'pandas-gbq==0.13.3\\n', 'pandas-profiling==1.4.1\\n', 'pandocfilters==1.5.0\\n', 'panel==0.12.1\\n', 'param==1.11.1\\n', 'parso==0.8.2\\n', 'pathlib==1.0.1\\n', 'patsy==0.5.1\\n', 'pep517==0.11.0\\n', 'pexpect==4.8.0\\n', 'pickleshare==0.7.5\\n', 'Pillow==7.1.2\\n', 'pip-tools==6.2.0\\n', 'plac==1.1.3\\n', 'plotly==4.4.1\\n', 'plotnine==0.6.0\\n', 'pluggy==0.7.1\\n', 'pooch==1.5.1\\n', 'portpicker==1.3.9\\n', 'prefetch-generator==1.0.1\\n', 'preshed==3.0.5\\n', 'prettytable==2.2.0\\n', 'progressbar2==3.38.0\\n', 'prometheus-client==0.11.0\\n', 'promise==2.3\\n', 'prompt-toolkit==1.0.18\\n', 'protobuf==3.17.3\\n', 'psutil==5.4.8\\n', 'psycopg2==2.7.6.1\\n', 'ptyprocess==0.7.0\\n', 'py==1.10.0\\n', 'pyarrow==3.0.0\\n', 'pyasn1==0.4.8\\n', 'pyasn1-modules==0.2.8\\n', 'pycocotools==2.0.2\\n', 'pycparser==2.20\\n', 'pyct==0.4.8\\n', 'pydata-google-auth==1.2.0\\n', 'pydot==1.3.0\\n', 'pydot-ng==2.0.0\\n', 'pydotplus==2.0.2\\n', 'PyDrive==1.3.1\\n', 'pyemd==0.5.1\\n', 'pyerfa==2.0.0\\n', 'pyglet==1.5.0\\n', 'Pygments==2.6.1\\n', 'pygobject==3.26.1\\n', 'pymc3==3.11.4\\n', 'PyMeeus==0.5.11\\n', 'pymongo==3.12.0\\n', 'pymystem3==0.2.0\\n', 'PyOpenGL==3.1.5\\n', 'pyparsing==2.4.7\\n', 'pyrsistent==0.18.0\\n', 'pysndfile==1.3.8\\n', 'PySocks==1.7.1\\n', 'pystan==2.19.1.1\\n', 'pytest==3.6.4\\n', 'python-apt==0.0.0\\n', 'python-chess==0.23.11\\n', 'python-dateutil==2.8.2\\n', 'python-louvain==0.15\\n', 'python-slugify==5.0.2\\n', 'python-utils==2.5.6\\n', 'pytz==2018.9\\n', 'pyviz-comms==2.1.0\\n', 'PyWavelets==1.1.1\\n', 'PyYAML==3.13\\n', 'pyzmq==22.2.1\\n', 'qdldl==0.1.5.post0\\n', 'qtconsole==5.1.1\\n', 'QtPy==1.11.1\\n', 'regex==2019.12.20\\n', 'requests==2.23.0\\n', 'requests-oauthlib==1.3.0\\n', 'resampy==0.2.2\\n', 'retrying==1.3.3\\n', 'rpy2==3.4.5\\n', 'rsa==4.7.2\\n', 'scikit-image==0.16.2\\n', 'scikit-learn==0.22.2.post1\\n', 'scipy==1.4.1\\n', 'screen-resolution-extra==0.0.0\\n', 'scs==2.1.4\\n', 'seaborn==0.11.2\\n', 'semver==2.13.0\\n', 'Send2Trash==1.8.0\\n', 'setuptools-git==1.2\\n', 'Shapely==1.7.1\\n', 'simplegeneric==0.8.1\\n', 'six==1.15.0\\n', 'sklearn==0.0\\n', 'sklearn-pandas==1.8.0\\n', 'smart-open==5.2.1\\n', 'snowballstemmer==2.1.0\\n', 'sortedcontainers==2.4.0\\n', 'SoundFile==0.10.3.post1\\n', 'spacy==2.2.4\\n', 'Sphinx==1.8.5\\n', 'sphinxcontrib-serializinghtml==1.1.5\\n', 'sphinxcontrib-websupport==1.2.4\\n', 'SQLAlchemy==1.4.23\\n', 'sqlparse==0.4.2\\n', 'srsly==1.0.5\\n', 'statsmodels==0.10.2\\n', 'sympy==1.7.1\\n', 'tables==3.4.4\\n', 'tabulate==0.8.9\\n', 'tblib==1.7.0\\n', 'tensorboard==2.6.0\\n', 'tensorboard-data-server==0.6.1\\n', 'tensorboard-plugin-wit==1.8.0\\n', 'tensorflow @ file:///tensorflow-2.6.0-cp37-cp37m-linux_x86_64.whl\\n', 'tensorflow-datasets==4.0.1\\n', 'tensorflow-estimator==2.6.0\\n', 'tensorflow-gcs-config==2.6.0\\n', 'tensorflow-hub==0.12.0\\n', 'tensorflow-metadata==1.2.0\\n', 'tensorflow-probability==0.13.0\\n', 'termcolor==1.1.0\\n', 'terminado==0.12.1\\n', 'testpath==0.5.0\\n', 'text-unidecode==1.3\\n', 'textblob==0.15.3\\n', 'Theano-PyMC==1.1.2\\n', 'thinc==7.4.0\\n', 'tifffile==2021.8.30\\n', 'toml==0.10.2\\n', 'tomli==1.2.1\\n', 'toolz==0.11.1\\n', 'torch @ https://download.pytorch.org/whl/cu102/torch-1.9.0%2Bcu102-cp37-cp37m-linux_x86_64.whl\\n', 'torchsummary==1.5.1\\n', 'torchtext==0.10.0\\n', 'torchvision @ https://download.pytorch.org/whl/cu102/torchvision-0.10.0%2Bcu102-cp37-cp37m-linux_x86_64.whl\\n', 'tornado==5.1.1\\n', 'tqdm==4.62.2\\n', 'traitlets==5.1.0\\n', 'tweepy==3.10.0\\n', 'typeguard==2.7.1\\n', 'typing-extensions==3.7.4.3\\n', 'tzlocal==1.5.1\\n', 'uritemplate==3.0.1\\n', 'urllib3==1.24.3\\n', 'vega-datasets==0.9.0\\n', 'wasabi==0.8.2\\n', 'wcwidth==0.2.5\\n', 'webencodings==0.5.1\\n', 'Werkzeug==1.0.1\\n', 'widgetsnbextension==3.5.1\\n', 'wordcloud==1.5.0\\n', 'wrapt==1.12.1\\n', 'xarray==0.18.2\\n', 'xgboost==0.90\\n', 'xkit==0.0.0\\n', 'xlrd==1.1.0\\n', 'xlwt==1.3.0\\n', 'yellowbrick==0.9.1\\n', 'zict==2.0.0\\n', 'zipp==3.5.0\\n']\n",
            "['absl-py', 'alabaster', 'albumentations', 'altair', 'appdirs', 'argcomplete', 'argon2-cffi', 'arviz', 'astor', 'astropy', 'astunparse', 'atari-py', 'atomicwrites', 'attrs', 'audioread', 'autograd', 'Babel', 'backcall', 'beautifulsoup4', 'bleach', 'blis', 'bokeh', 'Bottleneck', 'branca', 'bs4', 'CacheControl', 'cached-property', 'cachetools', 'catalogue', 'certifi', 'cffi', 'cftime', 'chardet', 'charset-normalizer', 'clang', 'click', 'cloudpickle', 'cmake', 'cmdstanpy', 'colorcet', 'colorlover', 'community', 'contextlib2', 'convertdate', 'coverage', 'coveralls', 'crcmod', 'cufflinks', 'cvxopt', 'cvxpy', 'cycler', 'cymem', 'Cython', 'daft', 'dask', 'datascience', 'debugpy', 'decorator', 'defusedxml', 'descartes', 'dill', 'distributed', 'dlib @ file:///dlib-19.18.0-cp37-cp37m-linux_x86_64.whl\\n', 'dm-tree', 'docopt', 'docutils', 'dopamine-rl', 'earthengine-api', 'easydict', 'ecos', 'editdistance', 'en-core-web-sm @ https://github.com/explosion/spacy-models/releases/download/en_core_web_sm-2.2.5/en_core_web_sm-2.2.5.tar.gz\\n', 'entrypoints', 'ephem', 'et-xmlfile', 'fa2', 'fastai', 'fastdtw', 'fastprogress', 'fastrlock', 'fbprophet', 'feather-format', 'filelock', 'firebase-admin', 'fix-yahoo-finance', 'Flask', 'flatbuffers', 'folium', 'future', 'gast', 'GDAL', 'gdown', 'gensim', 'geographiclib', 'geopy', 'gin-config', 'glob2', 'google', 'google-api-core', 'google-api-python-client', 'google-auth', 'google-auth-httplib2', 'google-auth-oauthlib', 'google-cloud-bigquery', 'google-cloud-bigquery-storage', 'google-cloud-core', 'google-cloud-datastore', 'google-cloud-firestore', 'google-cloud-language', 'google-cloud-storage', 'google-cloud-translate', 'google-colab @ file:///colabtools/dist/google-colab-1.0.0.tar.gz\\n', 'google-pasta', 'google-resumable-media', 'googleapis-common-protos', 'googledrivedownloader', 'graphviz', 'greenlet', 'grpcio', 'gspread', 'gspread-dataframe', 'gym', 'h5py', 'HeapDict', 'hijri-converter', 'holidays', 'holoviews', 'html5lib', 'httpimport', 'httplib2', 'httplib2shim', 'humanize', 'hyperopt', 'ideep4py', 'idna', 'imageio', 'imagesize', 'imbalanced-learn', 'imblearn', 'imgaug', 'importlib-metadata', 'importlib-resources', 'imutils', 'inflect', 'iniconfig', 'intel-openmp', 'intervaltree', 'ipykernel', 'ipython', 'ipython-genutils', 'ipython-sql', 'ipywidgets', 'itsdangerous', 'jax', 'jaxlib @ https://storage.googleapis.com/jax-releases/cuda111/jaxlib-0.1.70+cuda111-cp37-none-manylinux2010_x86_64.whl\\n', 'jdcal', 'jedi', 'jieba', 'Jinja2', 'joblib', 'jpeg4py', 'jsonschema', 'jupyter', 'jupyter-client', 'jupyter-console', 'jupyter-core', 'jupyterlab-pygments', 'jupyterlab-widgets', 'kaggle', 'kapre', 'keras', 'Keras-Preprocessing', 'keras-vis', 'kiwisolver', 'korean-lunar-calendar', 'librosa', 'lightgbm', 'llvmlite', 'lmdb', 'LunarCalendar', 'lxml', 'Markdown', 'MarkupSafe', 'matplotlib', 'matplotlib-inline', 'matplotlib-venn', 'missingno', 'mistune', 'mizani', 'mkl', 'mlxtend', 'more-itertools', 'moviepy', 'mpmath', 'msgpack', 'multiprocess', 'multitasking', 'murmurhash', 'music21', 'natsort', 'nbclient', 'nbconvert', 'nbformat', 'nest-asyncio', 'netCDF4', 'networkx', 'nibabel', 'nltk', 'notebook', 'numba', 'numexpr', 'numpy', 'nvidia-ml-py3', 'oauth2client', 'oauthlib', 'okgrade', 'opencv-contrib-python', 'opencv-python', 'openpyxl', 'opt-einsum', 'osqp', 'packaging', 'palettable', 'pandas', 'pandas-datareader', 'pandas-gbq', 'pandas-profiling', 'pandocfilters', 'panel', 'param', 'parso', 'pathlib', 'patsy', 'pep517', 'pexpect', 'pickleshare', 'Pillow', 'pip-tools', 'plac', 'plotly', 'plotnine', 'pluggy', 'pooch', 'portpicker', 'prefetch-generator', 'preshed', 'prettytable', 'progressbar2', 'prometheus-client', 'promise', 'prompt-toolkit', 'protobuf', 'psutil', 'psycopg2', 'ptyprocess', 'py', 'pyarrow', 'pyasn1', 'pyasn1-modules', 'pycocotools', 'pycparser', 'pyct', 'pydata-google-auth', 'pydot', 'pydot-ng', 'pydotplus', 'PyDrive', 'pyemd', 'pyerfa', 'pyglet', 'Pygments', 'pygobject', 'pymc3', 'PyMeeus', 'pymongo', 'pymystem3', 'PyOpenGL', 'pyparsing', 'pyrsistent', 'pysndfile', 'PySocks', 'pystan', 'pytest', 'python-apt', 'python-chess', 'python-dateutil', 'python-louvain', 'python-slugify', 'python-utils', 'pytz', 'pyviz-comms', 'PyWavelets', 'PyYAML', 'pyzmq', 'qdldl', 'qtconsole', 'QtPy', 'regex', 'requests', 'requests-oauthlib', 'resampy', 'retrying', 'rpy2', 'rsa', 'scikit-image', 'scikit-learn', 'scipy', 'screen-resolution-extra', 'scs', 'seaborn', 'semver', 'Send2Trash', 'setuptools-git', 'Shapely', 'simplegeneric', 'six', 'sklearn', 'sklearn-pandas', 'smart-open', 'snowballstemmer', 'sortedcontainers', 'SoundFile', 'spacy', 'Sphinx', 'sphinxcontrib-serializinghtml', 'sphinxcontrib-websupport', 'SQLAlchemy', 'sqlparse', 'srsly', 'statsmodels', 'sympy', 'tables', 'tabulate', 'tblib', 'tensorboard', 'tensorboard-data-server', 'tensorboard-plugin-wit', 'tensorflow @ file:///tensorflow-2.6.0-cp37-cp37m-linux_x86_64.whl\\n', 'tensorflow-datasets', 'tensorflow-estimator', 'tensorflow-gcs-config', 'tensorflow-hub', 'tensorflow-metadata', 'tensorflow-probability', 'termcolor', 'terminado', 'testpath', 'text-unidecode', 'textblob', 'Theano-PyMC', 'thinc', 'tifffile', 'toml', 'tomli', 'toolz', 'torch @ https://download.pytorch.org/whl/cu102/torch-1.9.0%2Bcu102-cp37-cp37m-linux_x86_64.whl\\n', 'torchsummary', 'torchtext', 'torchvision @ https://download.pytorch.org/whl/cu102/torchvision-0.10.0%2Bcu102-cp37-cp37m-linux_x86_64.whl\\n', 'tornado', 'tqdm', 'traitlets', 'tweepy', 'typeguard', 'typing-extensions', 'tzlocal', 'uritemplate', 'urllib3', 'vega-datasets', 'wasabi', 'wcwidth', 'webencodings', 'Werkzeug', 'widgetsnbextension', 'wordcloud', 'wrapt', 'xarray', 'xgboost', 'xkit', 'xlrd', 'xlwt', 'yellowbrick', 'zict', 'zipp']\n"
          ]
        }
      ]
    },
    {
      "cell_type": "code",
      "metadata": {
        "colab": {
          "base_uri": "https://localhost:8080/"
        },
        "id": "nWfgI_pOayA3",
        "outputId": "f5f0adc3-8138-4f1a-bd2d-e0371087d231"
      },
      "source": [
        "print(\"The number of packages preinstalled in colab are: \", len(data))"
      ],
      "execution_count": 17,
      "outputs": [
        {
          "output_type": "stream",
          "name": "stdout",
          "text": [
            "The number of packages preinstalled in colab are:  384\n"
          ]
        }
      ]
    },
    {
      "cell_type": "code",
      "metadata": {
        "colab": {
          "base_uri": "https://localhost:8080/"
        },
        "id": "5fJ7Nqz4cF_w",
        "outputId": "d0bdb7fc-eb99-46b3-9fa1-a8cdf3a13297"
      },
      "source": [
        "print('pandas' in data_without_n)\n",
        "print(\"numpy\" in data_without_n)"
      ],
      "execution_count": 20,
      "outputs": [
        {
          "output_type": "stream",
          "name": "stdout",
          "text": [
            "True\n",
            "True\n"
          ]
        }
      ]
    },
    {
      "cell_type": "markdown",
      "metadata": {
        "id": "4dPiyG5behIw"
      },
      "source": [
        "# Numpy"
      ]
    },
    {
      "cell_type": "code",
      "metadata": {
        "colab": {
          "base_uri": "https://localhost:8080/"
        },
        "id": "SqbaPR-jcv_Q",
        "outputId": "dce697be-8e84-487b-c988-cceb3ffbfc8d"
      },
      "source": [
        "import numpy as np\n",
        "\n",
        "lst = list(range(100))\n",
        "\n",
        "print(\"Type of List: \", type(lst))\n",
        "num_array = np.array(lst)\n",
        "print(num_array)\n",
        "print(\"Type of numpy array: \",type(num_array))"
      ],
      "execution_count": 23,
      "outputs": [
        {
          "output_type": "stream",
          "name": "stdout",
          "text": [
            "Type of List:  <class 'list'>\n",
            "[ 0  1  2  3  4  5  6  7  8  9 10 11 12 13 14 15 16 17 18 19 20 21 22 23\n",
            " 24 25 26 27 28 29 30 31 32 33 34 35 36 37 38 39 40 41 42 43 44 45 46 47\n",
            " 48 49 50 51 52 53 54 55 56 57 58 59 60 61 62 63 64 65 66 67 68 69 70 71\n",
            " 72 73 74 75 76 77 78 79 80 81 82 83 84 85 86 87 88 89 90 91 92 93 94 95\n",
            " 96 97 98 99]\n",
            "Type of numpy array:  <class 'numpy.ndarray'>\n"
          ]
        }
      ]
    },
    {
      "cell_type": "code",
      "metadata": {
        "colab": {
          "base_uri": "https://localhost:8080/"
        },
        "id": "ST5WL6abevOc",
        "outputId": "da8b6a16-ea71-41ab-ec84-1c247df191d9"
      },
      "source": [
        "%%timeit\n",
        "\n",
        "[i**2 for i in lst]"
      ],
      "execution_count": 24,
      "outputs": [
        {
          "output_type": "stream",
          "name": "stdout",
          "text": [
            "10000 loops, best of 5: 24.7 µs per loop\n"
          ]
        }
      ]
    },
    {
      "cell_type": "code",
      "metadata": {
        "colab": {
          "base_uri": "https://localhost:8080/"
        },
        "id": "mQhshYwtivXp",
        "outputId": "d006786b-56e8-417f-ee0f-28efcaa43efa"
      },
      "source": [
        "%%timeit\n",
        "\n",
        "num_array**2"
      ],
      "execution_count": 26,
      "outputs": [
        {
          "output_type": "stream",
          "name": "stdout",
          "text": [
            "The slowest run took 31.17 times longer than the fastest. This could mean that an intermediate result is being cached.\n",
            "1000000 loops, best of 5: 908 ns per loop\n"
          ]
        }
      ]
    },
    {
      "cell_type": "code",
      "metadata": {
        "colab": {
          "base_uri": "https://localhost:8080/"
        },
        "id": "liroJgZ0i0s8",
        "outputId": "4929f322-20c7-4db9-f00d-76b7f1c2a342"
      },
      "source": [
        "# 2-D matrix\n",
        "\n",
        "lst_2d = [[1,2,3], [4,5,6]]\n",
        "\n",
        "num_array2d = np.array(lst_2d)\n",
        "print(num_array2d)\n",
        "print(num_array2d.ndim)\n",
        "print(num_array2d.shape)"
      ],
      "execution_count": 27,
      "outputs": [
        {
          "output_type": "stream",
          "name": "stdout",
          "text": [
            "[[1 2 3]\n",
            " [4 5 6]]\n",
            "2\n",
            "(2, 3)\n"
          ]
        }
      ]
    },
    {
      "cell_type": "code",
      "metadata": {
        "colab": {
          "base_uri": "https://localhost:8080/"
        },
        "id": "O8bZZpXzjhzw",
        "outputId": "1407166c-7a9d-423b-837d-413a09a8d8ca"
      },
      "source": [
        "num_arange = np.arange(start=0,stop=100, step=2)\n",
        "num_arange"
      ],
      "execution_count": 31,
      "outputs": [
        {
          "output_type": "execute_result",
          "data": {
            "text/plain": [
              "array([ 0,  2,  4,  6,  8, 10, 12, 14, 16, 18, 20, 22, 24, 26, 28, 30, 32,\n",
              "       34, 36, 38, 40, 42, 44, 46, 48, 50, 52, 54, 56, 58, 60, 62, 64, 66,\n",
              "       68, 70, 72, 74, 76, 78, 80, 82, 84, 86, 88, 90, 92, 94, 96, 98])"
            ]
          },
          "metadata": {},
          "execution_count": 31
        }
      ]
    },
    {
      "cell_type": "code",
      "metadata": {
        "colab": {
          "base_uri": "https://localhost:8080/"
        },
        "id": "dwXdscpkjuot",
        "outputId": "23c5e84f-d300-48e3-f5c8-0f26ea29182c"
      },
      "source": [
        "# Numpy array containing zeros\n",
        "\n",
        "print(np.zeros(3))\n",
        "print(\"\\n\\n\")\n",
        "print(np.zeros((4,4)))\n",
        "print(\"\\n\\n\")\n",
        "print(np.zeros((4,4,4)))"
      ],
      "execution_count": 35,
      "outputs": [
        {
          "output_type": "stream",
          "name": "stdout",
          "text": [
            "[0. 0. 0.]\n",
            "\n",
            "\n",
            "\n",
            "[[0. 0. 0. 0.]\n",
            " [0. 0. 0. 0.]\n",
            " [0. 0. 0. 0.]\n",
            " [0. 0. 0. 0.]]\n",
            "\n",
            "\n",
            "\n",
            "[[[0. 0. 0. 0.]\n",
            "  [0. 0. 0. 0.]\n",
            "  [0. 0. 0. 0.]\n",
            "  [0. 0. 0. 0.]]\n",
            "\n",
            " [[0. 0. 0. 0.]\n",
            "  [0. 0. 0. 0.]\n",
            "  [0. 0. 0. 0.]\n",
            "  [0. 0. 0. 0.]]\n",
            "\n",
            " [[0. 0. 0. 0.]\n",
            "  [0. 0. 0. 0.]\n",
            "  [0. 0. 0. 0.]\n",
            "  [0. 0. 0. 0.]]\n",
            "\n",
            " [[0. 0. 0. 0.]\n",
            "  [0. 0. 0. 0.]\n",
            "  [0. 0. 0. 0.]\n",
            "  [0. 0. 0. 0.]]]\n"
          ]
        }
      ]
    },
    {
      "cell_type": "code",
      "metadata": {
        "colab": {
          "base_uri": "https://localhost:8080/"
        },
        "id": "riZioHHBj4cB",
        "outputId": "b534d1a5-c3bc-44ef-c9b8-ceeb59ee2612"
      },
      "source": [
        "print(np.ones((1,4)))"
      ],
      "execution_count": 37,
      "outputs": [
        {
          "output_type": "stream",
          "name": "stdout",
          "text": [
            "[[1. 1. 1. 1.]]\n"
          ]
        }
      ]
    },
    {
      "cell_type": "code",
      "metadata": {
        "colab": {
          "base_uri": "https://localhost:8080/"
        },
        "id": "DoGaeWoWkb6C",
        "outputId": "3a5bbb65-24b2-42e2-e98d-24794885a18f"
      },
      "source": [
        "np.linspace(0,10,10)"
      ],
      "execution_count": 39,
      "outputs": [
        {
          "output_type": "execute_result",
          "data": {
            "text/plain": [
              "array([ 0.        ,  1.11111111,  2.22222222,  3.33333333,  4.44444444,\n",
              "        5.55555556,  6.66666667,  7.77777778,  8.88888889, 10.        ])"
            ]
          },
          "metadata": {},
          "execution_count": 39
        }
      ]
    },
    {
      "cell_type": "code",
      "metadata": {
        "colab": {
          "base_uri": "https://localhost:8080/"
        },
        "id": "e89Vi3c1kjKf",
        "outputId": "cc94d519-6556-4c14-d369-d1a17d782031"
      },
      "source": [
        "# Random\n",
        "\n",
        "np.random.rand(100)"
      ],
      "execution_count": 40,
      "outputs": [
        {
          "output_type": "execute_result",
          "data": {
            "text/plain": [
              "array([0.09350082, 0.96221813, 0.14228896, 0.10213096, 0.82796047,\n",
              "       0.67072653, 0.33099002, 0.96170447, 0.8396554 , 0.36144859,\n",
              "       0.68437683, 0.22822517, 0.7563542 , 0.74311086, 0.77206335,\n",
              "       0.21384808, 0.44307845, 0.54624669, 0.18472809, 0.61397214,\n",
              "       0.2086608 , 0.53002909, 0.48739103, 0.04359501, 0.10178127,\n",
              "       0.9219625 , 0.13525815, 0.47802411, 0.88804619, 0.23158344,\n",
              "       0.35337488, 0.67271782, 0.32537259, 0.57866089, 0.55614272,\n",
              "       0.36100395, 0.42473838, 0.73426612, 0.66626626, 0.19977216,\n",
              "       0.0802183 , 0.81863084, 0.22556851, 0.62541337, 0.61558855,\n",
              "       0.87051603, 0.52152611, 0.242935  , 0.51205268, 0.14078287,\n",
              "       0.18710753, 0.3995985 , 0.168682  , 0.08448166, 0.30840509,\n",
              "       0.70398085, 0.32507747, 0.77015783, 0.77029232, 0.48197848,\n",
              "       0.2444908 , 0.32838958, 0.37796489, 0.74793173, 0.44704187,\n",
              "       0.31181512, 0.06550329, 0.59616569, 0.34227694, 0.42526755,\n",
              "       0.42210175, 0.97437436, 0.91116036, 0.3265563 , 0.56766921,\n",
              "       0.37617769, 0.62326035, 0.15897458, 0.99069524, 0.96108683,\n",
              "       0.45890629, 0.97544328, 0.01356755, 0.62769756, 0.21954272,\n",
              "       0.86467502, 0.14829654, 0.65881299, 0.97450565, 0.83699122,\n",
              "       0.72244035, 0.86613356, 0.01143443, 0.02590383, 0.37339721,\n",
              "       0.71070399, 0.71284801, 0.25007799, 0.89296349, 0.68448702])"
            ]
          },
          "metadata": {},
          "execution_count": 40
        }
      ]
    },
    {
      "cell_type": "code",
      "metadata": {
        "colab": {
          "base_uri": "https://localhost:8080/"
        },
        "id": "WcW-OnlDkx0j",
        "outputId": "40fdf3d7-d52d-4a50-daca-0dde06f6d0ee"
      },
      "source": [
        "np.random.rand(100)"
      ],
      "execution_count": 41,
      "outputs": [
        {
          "output_type": "execute_result",
          "data": {
            "text/plain": [
              "array([0.8555444 , 0.42554401, 0.69043068, 0.22863864, 0.99380076,\n",
              "       0.67469027, 0.89421389, 0.35039517, 0.89334209, 0.41895304,\n",
              "       0.61217392, 0.514194  , 0.41904843, 0.8420032 , 0.6932197 ,\n",
              "       0.19874263, 0.17636084, 0.46816496, 0.00189431, 0.95241545,\n",
              "       0.9727813 , 0.27145776, 0.38429186, 0.3754964 , 0.36244689,\n",
              "       0.48899164, 0.95654665, 0.23531976, 0.72314439, 0.92305138,\n",
              "       0.84749482, 0.41790375, 0.47106497, 0.1924532 , 0.16514342,\n",
              "       0.48382496, 0.47304099, 0.98476894, 0.5113662 , 0.19970573,\n",
              "       0.17318296, 0.46396656, 0.12667752, 0.7002859 , 0.35001611,\n",
              "       0.72303199, 0.78480878, 0.56937176, 0.65953012, 0.66325564,\n",
              "       0.25666411, 0.96396571, 0.24449374, 0.32373977, 0.0306233 ,\n",
              "       0.55979323, 0.80206018, 0.5477916 , 0.9865828 , 0.46015517,\n",
              "       0.64524314, 0.84974704, 0.83896768, 0.86649559, 0.36239633,\n",
              "       0.56307446, 0.28500024, 0.50469862, 0.41333345, 0.42591611,\n",
              "       0.72426838, 0.5020566 , 0.30652968, 0.68286755, 0.8666947 ,\n",
              "       0.44667807, 0.44181027, 0.21016694, 0.85980327, 0.40383972,\n",
              "       0.60417302, 0.2583862 , 0.44317471, 0.47619977, 0.48756306,\n",
              "       0.0434593 , 0.21519525, 0.15840667, 0.37984579, 0.2972584 ,\n",
              "       0.08966984, 0.47295967, 0.40287558, 0.7015055 , 0.72931706,\n",
              "       0.1512969 , 0.16420116, 0.3719307 , 0.42596965, 0.50389445])"
            ]
          },
          "metadata": {},
          "execution_count": 41
        }
      ]
    },
    {
      "cell_type": "code",
      "metadata": {
        "colab": {
          "base_uri": "https://localhost:8080/"
        },
        "id": "xk7nvoHZk2tk",
        "outputId": "2dc7c6a6-2973-4bd1-deaa-53328c5e6a38"
      },
      "source": [
        "np.random.seed(0)\n",
        "\n",
        "print(np.random.rand(10))\n"
      ],
      "execution_count": 46,
      "outputs": [
        {
          "output_type": "stream",
          "name": "stdout",
          "text": [
            "[0.5488135  0.71518937 0.60276338 0.54488318 0.4236548  0.64589411\n",
            " 0.43758721 0.891773   0.96366276 0.38344152]\n"
          ]
        }
      ]
    },
    {
      "cell_type": "code",
      "metadata": {
        "colab": {
          "base_uri": "https://localhost:8080/"
        },
        "id": "BYMkx3KalmxB",
        "outputId": "156d7f1e-52eb-45d5-b39b-9fa1c44396a9"
      },
      "source": [
        "np.random.seed(0)\n",
        "\n",
        "print(np.random.rand(10))"
      ],
      "execution_count": 45,
      "outputs": [
        {
          "output_type": "stream",
          "name": "stdout",
          "text": [
            "[0.5488135  0.71518937 0.60276338 0.54488318 0.4236548  0.64589411\n",
            " 0.43758721 0.891773   0.96366276 0.38344152]\n"
          ]
        }
      ]
    },
    {
      "cell_type": "code",
      "metadata": {
        "colab": {
          "base_uri": "https://localhost:8080/"
        },
        "id": "R9vdZJBqk-Zp",
        "outputId": "26201e93-6a0b-4fff-d5b9-8bbb093e024c"
      },
      "source": [
        "print(np.random.randn(10))\n",
        "print(np.random.randn(10))"
      ],
      "execution_count": 44,
      "outputs": [
        {
          "output_type": "stream",
          "name": "stdout",
          "text": [
            "[ 1.49407907 -0.20515826  0.3130677  -0.85409574 -2.55298982  0.6536186\n",
            "  0.8644362  -0.74216502  2.26975462 -1.45436567]\n",
            "[ 0.04575852 -0.18718385  1.53277921  1.46935877  0.15494743  0.37816252\n",
            " -0.88778575 -1.98079647 -0.34791215  0.15634897]\n"
          ]
        }
      ]
    },
    {
      "cell_type": "code",
      "metadata": {
        "colab": {
          "base_uri": "https://localhost:8080/"
        },
        "id": "qKLq3e8AlYW1",
        "outputId": "930a317c-983a-4686-b4e4-8d921181cd6a"
      },
      "source": [
        "np.random.randint(0, 100, 100)"
      ],
      "execution_count": 48,
      "outputs": [
        {
          "output_type": "execute_result",
          "data": {
            "text/plain": [
              "array([79, 47, 64, 82, 99, 88, 49, 29, 19, 19, 14, 39, 32, 65,  9, 57, 32,\n",
              "       31, 74, 23, 35, 75, 55, 28, 34,  0,  0, 36, 53,  5, 38, 17, 79,  4,\n",
              "       42, 58, 31,  1, 65, 41, 57, 35, 11, 46, 82, 91,  0, 14, 99, 53, 12,\n",
              "       42, 84, 75, 68,  6, 68, 47,  3, 76, 52, 78, 15, 20, 99, 58, 23, 79,\n",
              "       13, 85, 48, 49, 69, 41, 35, 64, 95, 69, 94,  0, 50, 36, 34, 48, 93,\n",
              "        3, 98, 42, 77, 21, 73,  0, 10, 43, 58, 23, 59,  2, 98, 62])"
            ]
          },
          "metadata": {},
          "execution_count": 48
        }
      ]
    },
    {
      "cell_type": "code",
      "metadata": {
        "colab": {
          "base_uri": "https://localhost:8080/"
        },
        "id": "oEvQZNiJl6bm",
        "outputId": "b2b3daad-39a3-4540-ab2e-8b69a4713ca6"
      },
      "source": [
        "a = np.random.randint(0, 100, 100)\n",
        "a.shape"
      ],
      "execution_count": 49,
      "outputs": [
        {
          "output_type": "execute_result",
          "data": {
            "text/plain": [
              "(100,)"
            ]
          },
          "metadata": {},
          "execution_count": 49
        }
      ]
    },
    {
      "cell_type": "code",
      "metadata": {
        "colab": {
          "base_uri": "https://localhost:8080/"
        },
        "id": "PBxKZAb3mHwb",
        "outputId": "e5f9d6b8-d053-47cd-b0f8-e60f9be8c46c"
      },
      "source": [
        "a.reshape(10,10)"
      ],
      "execution_count": 50,
      "outputs": [
        {
          "output_type": "execute_result",
          "data": {
            "text/plain": [
              "array([[35, 94, 67, 82, 46, 99, 20, 81, 50, 27],\n",
              "       [14, 41, 58, 65, 36, 10, 86, 43, 11,  2],\n",
              "       [51, 80, 32, 54,  0, 38, 19, 46, 42, 56],\n",
              "       [60, 77, 30, 24,  2,  3, 94, 98, 13, 40],\n",
              "       [72, 19, 95, 72, 26, 66, 52, 67, 61, 14],\n",
              "       [96,  4, 67, 11, 86, 77, 75, 56, 16, 24],\n",
              "       [29, 21, 25, 80, 60, 61, 83, 33, 32, 70],\n",
              "       [85, 31, 13, 71, 56, 24, 79, 41, 18, 40],\n",
              "       [54, 79, 11, 38, 93,  1, 95, 44, 88, 24],\n",
              "       [67, 82,  3, 76, 35, 86, 61, 69, 87, 43]])"
            ]
          },
          "metadata": {},
          "execution_count": 50
        }
      ]
    },
    {
      "cell_type": "code",
      "metadata": {
        "colab": {
          "base_uri": "https://localhost:8080/"
        },
        "id": "H3OotxiTmKN5",
        "outputId": "41b44814-577d-4d7e-e5c0-032c25f50e75"
      },
      "source": [
        "a.reshape(10,5,2)"
      ],
      "execution_count": 52,
      "outputs": [
        {
          "output_type": "execute_result",
          "data": {
            "text/plain": [
              "array([[[35, 94],\n",
              "        [67, 82],\n",
              "        [46, 99],\n",
              "        [20, 81],\n",
              "        [50, 27]],\n",
              "\n",
              "       [[14, 41],\n",
              "        [58, 65],\n",
              "        [36, 10],\n",
              "        [86, 43],\n",
              "        [11,  2]],\n",
              "\n",
              "       [[51, 80],\n",
              "        [32, 54],\n",
              "        [ 0, 38],\n",
              "        [19, 46],\n",
              "        [42, 56]],\n",
              "\n",
              "       [[60, 77],\n",
              "        [30, 24],\n",
              "        [ 2,  3],\n",
              "        [94, 98],\n",
              "        [13, 40]],\n",
              "\n",
              "       [[72, 19],\n",
              "        [95, 72],\n",
              "        [26, 66],\n",
              "        [52, 67],\n",
              "        [61, 14]],\n",
              "\n",
              "       [[96,  4],\n",
              "        [67, 11],\n",
              "        [86, 77],\n",
              "        [75, 56],\n",
              "        [16, 24]],\n",
              "\n",
              "       [[29, 21],\n",
              "        [25, 80],\n",
              "        [60, 61],\n",
              "        [83, 33],\n",
              "        [32, 70]],\n",
              "\n",
              "       [[85, 31],\n",
              "        [13, 71],\n",
              "        [56, 24],\n",
              "        [79, 41],\n",
              "        [18, 40]],\n",
              "\n",
              "       [[54, 79],\n",
              "        [11, 38],\n",
              "        [93,  1],\n",
              "        [95, 44],\n",
              "        [88, 24]],\n",
              "\n",
              "       [[67, 82],\n",
              "        [ 3, 76],\n",
              "        [35, 86],\n",
              "        [61, 69],\n",
              "        [87, 43]]])"
            ]
          },
          "metadata": {},
          "execution_count": 52
        }
      ]
    },
    {
      "cell_type": "code",
      "metadata": {
        "colab": {
          "base_uri": "https://localhost:8080/"
        },
        "id": "3wLDC0yBmNIp",
        "outputId": "a58c9edb-d906-41ff-da11-b4a98f4af9db"
      },
      "source": [
        "a.min()"
      ],
      "execution_count": 53,
      "outputs": [
        {
          "output_type": "execute_result",
          "data": {
            "text/plain": [
              "0"
            ]
          },
          "metadata": {},
          "execution_count": 53
        }
      ]
    },
    {
      "cell_type": "code",
      "metadata": {
        "colab": {
          "base_uri": "https://localhost:8080/"
        },
        "id": "yVtTy2WpmbND",
        "outputId": "da0ca05d-ec34-46fa-e60c-ad7d11d17130"
      },
      "source": [
        "a.max()"
      ],
      "execution_count": 54,
      "outputs": [
        {
          "output_type": "execute_result",
          "data": {
            "text/plain": [
              "99"
            ]
          },
          "metadata": {},
          "execution_count": 54
        }
      ]
    },
    {
      "cell_type": "code",
      "metadata": {
        "colab": {
          "base_uri": "https://localhost:8080/"
        },
        "id": "aNQonm95mcoJ",
        "outputId": "d5bb9d8d-9506-4307-8e34-ad0d640e1929"
      },
      "source": [
        "a.argmin()"
      ],
      "execution_count": 55,
      "outputs": [
        {
          "output_type": "execute_result",
          "data": {
            "text/plain": [
              "24"
            ]
          },
          "metadata": {},
          "execution_count": 55
        }
      ]
    },
    {
      "cell_type": "code",
      "metadata": {
        "colab": {
          "base_uri": "https://localhost:8080/"
        },
        "id": "rEbFAP-ymfOA",
        "outputId": "8095dda6-0db8-4209-8bbc-a8221d2a421d"
      },
      "source": [
        "a.argmax()"
      ],
      "execution_count": 56,
      "outputs": [
        {
          "output_type": "execute_result",
          "data": {
            "text/plain": [
              "5"
            ]
          },
          "metadata": {},
          "execution_count": 56
        }
      ]
    },
    {
      "cell_type": "code",
      "metadata": {
        "colab": {
          "base_uri": "https://localhost:8080/"
        },
        "id": "e_ZcsvlNmgr3",
        "outputId": "638be5e0-87bc-44b0-cb3a-9fae6867aa13"
      },
      "source": [
        "a[a.argmin()]"
      ],
      "execution_count": 58,
      "outputs": [
        {
          "output_type": "execute_result",
          "data": {
            "text/plain": [
              "0"
            ]
          },
          "metadata": {},
          "execution_count": 58
        }
      ]
    },
    {
      "cell_type": "code",
      "metadata": {
        "colab": {
          "base_uri": "https://localhost:8080/"
        },
        "id": "3a-nAJbWmloO",
        "outputId": "83bb3374-e11f-4d1b-b26e-392a7c756ccb"
      },
      "source": [
        "a[a.argmax()]"
      ],
      "execution_count": 59,
      "outputs": [
        {
          "output_type": "execute_result",
          "data": {
            "text/plain": [
              "99"
            ]
          },
          "metadata": {},
          "execution_count": 59
        }
      ]
    },
    {
      "cell_type": "code",
      "metadata": {
        "colab": {
          "base_uri": "https://localhost:8080/"
        },
        "id": "R2fS9Srkmqpq",
        "outputId": "79df0306-21ed-46c7-e09f-d782d086cdea"
      },
      "source": [
        "# indexing\n",
        "\n",
        "print(a[0])\n",
        "print(a[-1])\n",
        "print(a[len(a)-1])\n",
        "print(a[:10])\n",
        "print(a[::-1])\n",
        "print(a[::])"
      ],
      "execution_count": 60,
      "outputs": [
        {
          "output_type": "stream",
          "name": "stdout",
          "text": [
            "35\n",
            "43\n",
            "43\n",
            "[35 94 67 82 46 99 20 81 50 27]\n",
            "[43 87 69 61 86 35 76  3 82 67 24 88 44 95  1 93 38 11 79 54 40 18 41 79\n",
            " 24 56 71 13 31 85 70 32 33 83 61 60 80 25 21 29 24 16 56 75 77 86 11 67\n",
            "  4 96 14 61 67 52 66 26 72 95 19 72 40 13 98 94  3  2 24 30 77 60 56 42\n",
            " 46 19 38  0 54 32 80 51  2 11 43 86 10 36 65 58 41 14 27 50 81 20 99 46\n",
            " 82 67 94 35]\n",
            "[35 94 67 82 46 99 20 81 50 27 14 41 58 65 36 10 86 43 11  2 51 80 32 54\n",
            "  0 38 19 46 42 56 60 77 30 24  2  3 94 98 13 40 72 19 95 72 26 66 52 67\n",
            " 61 14 96  4 67 11 86 77 75 56 16 24 29 21 25 80 60 61 83 33 32 70 85 31\n",
            " 13 71 56 24 79 41 18 40 54 79 11 38 93  1 95 44 88 24 67 82  3 76 35 86\n",
            " 61 69 87 43]\n"
          ]
        }
      ]
    },
    {
      "cell_type": "code",
      "metadata": {
        "colab": {
          "base_uri": "https://localhost:8080/"
        },
        "id": "W3jBJWqbnxA-",
        "outputId": "0b63610f-54a0-4a14-ec26-3e0c1d5b2d42"
      },
      "source": [
        "# Broadcasting\n",
        "\n",
        "a = np.arange(10)\n",
        "b = np.arange(10).reshape(-1, 1)\n",
        "\n",
        "print(a.shape)\n",
        "print(b.shape)\n",
        "\n",
        "c = a+b\n",
        "print(c)"
      ],
      "execution_count": 65,
      "outputs": [
        {
          "output_type": "stream",
          "name": "stdout",
          "text": [
            "(10,)\n",
            "(10, 1)\n",
            "[[ 0  1  2  3  4  5  6  7  8  9]\n",
            " [ 1  2  3  4  5  6  7  8  9 10]\n",
            " [ 2  3  4  5  6  7  8  9 10 11]\n",
            " [ 3  4  5  6  7  8  9 10 11 12]\n",
            " [ 4  5  6  7  8  9 10 11 12 13]\n",
            " [ 5  6  7  8  9 10 11 12 13 14]\n",
            " [ 6  7  8  9 10 11 12 13 14 15]\n",
            " [ 7  8  9 10 11 12 13 14 15 16]\n",
            " [ 8  9 10 11 12 13 14 15 16 17]\n",
            " [ 9 10 11 12 13 14 15 16 17 18]]\n"
          ]
        }
      ]
    },
    {
      "cell_type": "code",
      "metadata": {
        "colab": {
          "base_uri": "https://localhost:8080/"
        },
        "id": "mEQVNANaoHwB",
        "outputId": "387e28d0-55ef-487e-cb0e-68ce6b916243"
      },
      "source": [
        "c>10"
      ],
      "execution_count": 69,
      "outputs": [
        {
          "output_type": "execute_result",
          "data": {
            "text/plain": [
              "array([[False, False, False, False, False, False, False, False, False,\n",
              "        False],\n",
              "       [False, False, False, False, False, False, False, False, False,\n",
              "        False],\n",
              "       [False, False, False, False, False, False, False, False, False,\n",
              "         True],\n",
              "       [False, False, False, False, False, False, False, False,  True,\n",
              "         True],\n",
              "       [False, False, False, False, False, False, False,  True,  True,\n",
              "         True],\n",
              "       [False, False, False, False, False, False,  True,  True,  True,\n",
              "         True],\n",
              "       [False, False, False, False, False,  True,  True,  True,  True,\n",
              "         True],\n",
              "       [False, False, False, False,  True,  True,  True,  True,  True,\n",
              "         True],\n",
              "       [False, False, False,  True,  True,  True,  True,  True,  True,\n",
              "         True],\n",
              "       [False, False,  True,  True,  True,  True,  True,  True,  True,\n",
              "         True]])"
            ]
          },
          "metadata": {},
          "execution_count": 69
        }
      ]
    },
    {
      "cell_type": "code",
      "metadata": {
        "colab": {
          "base_uri": "https://localhost:8080/"
        },
        "id": "BdywlYaUo2vS",
        "outputId": "688c29ab-06e8-4e04-f502-efb955ec9226"
      },
      "source": [
        "c[c>10]"
      ],
      "execution_count": 70,
      "outputs": [
        {
          "output_type": "execute_result",
          "data": {
            "text/plain": [
              "array([11, 11, 12, 11, 12, 13, 11, 12, 13, 14, 11, 12, 13, 14, 15, 11, 12,\n",
              "       13, 14, 15, 16, 11, 12, 13, 14, 15, 16, 17, 11, 12, 13, 14, 15, 16,\n",
              "       17, 18])"
            ]
          },
          "metadata": {},
          "execution_count": 70
        }
      ]
    },
    {
      "cell_type": "code",
      "metadata": {
        "colab": {
          "base_uri": "https://localhost:8080/"
        },
        "id": "zsBSW08xpDfo",
        "outputId": "2794912d-882c-43a5-fd37-261b160a35d1"
      },
      "source": [
        "# Numpy Operations\n",
        "\n",
        "np.sin(a)"
      ],
      "execution_count": 72,
      "outputs": [
        {
          "output_type": "execute_result",
          "data": {
            "text/plain": [
              "array([ 0.        ,  0.84147098,  0.90929743,  0.14112001, -0.7568025 ,\n",
              "       -0.95892427, -0.2794155 ,  0.6569866 ,  0.98935825,  0.41211849])"
            ]
          },
          "metadata": {},
          "execution_count": 72
        }
      ]
    },
    {
      "cell_type": "code",
      "metadata": {
        "colab": {
          "base_uri": "https://localhost:8080/"
        },
        "id": "stwY9uQApNcD",
        "outputId": "6ad268d4-3e38-4c88-ed28-f329a9de0959"
      },
      "source": [
        "np.tanh(a)"
      ],
      "execution_count": 73,
      "outputs": [
        {
          "output_type": "execute_result",
          "data": {
            "text/plain": [
              "array([0.        , 0.76159416, 0.96402758, 0.99505475, 0.9993293 ,\n",
              "       0.9999092 , 0.99998771, 0.99999834, 0.99999977, 0.99999997])"
            ]
          },
          "metadata": {},
          "execution_count": 73
        }
      ]
    },
    {
      "cell_type": "code",
      "metadata": {
        "colab": {
          "base_uri": "https://localhost:8080/"
        },
        "id": "qFWwEFKzpTcz",
        "outputId": "77916c18-7b52-40e1-d388-d4e440a01283"
      },
      "source": [
        "a-2"
      ],
      "execution_count": 74,
      "outputs": [
        {
          "output_type": "execute_result",
          "data": {
            "text/plain": [
              "array([-2, -1,  0,  1,  2,  3,  4,  5,  6,  7])"
            ]
          },
          "metadata": {},
          "execution_count": 74
        }
      ]
    },
    {
      "cell_type": "code",
      "metadata": {
        "colab": {
          "base_uri": "https://localhost:8080/"
        },
        "id": "A5aSyo-rpVnG",
        "outputId": "50fde692-4739-4267-fa9e-8e78ff5de618"
      },
      "source": [
        "a-b"
      ],
      "execution_count": 75,
      "outputs": [
        {
          "output_type": "execute_result",
          "data": {
            "text/plain": [
              "array([[ 0,  1,  2,  3,  4,  5,  6,  7,  8,  9],\n",
              "       [-1,  0,  1,  2,  3,  4,  5,  6,  7,  8],\n",
              "       [-2, -1,  0,  1,  2,  3,  4,  5,  6,  7],\n",
              "       [-3, -2, -1,  0,  1,  2,  3,  4,  5,  6],\n",
              "       [-4, -3, -2, -1,  0,  1,  2,  3,  4,  5],\n",
              "       [-5, -4, -3, -2, -1,  0,  1,  2,  3,  4],\n",
              "       [-6, -5, -4, -3, -2, -1,  0,  1,  2,  3],\n",
              "       [-7, -6, -5, -4, -3, -2, -1,  0,  1,  2],\n",
              "       [-8, -7, -6, -5, -4, -3, -2, -1,  0,  1],\n",
              "       [-9, -8, -7, -6, -5, -4, -3, -2, -1,  0]])"
            ]
          },
          "metadata": {},
          "execution_count": 75
        }
      ]
    },
    {
      "cell_type": "code",
      "metadata": {
        "colab": {
          "base_uri": "https://localhost:8080/"
        },
        "id": "yrra1IjApXWW",
        "outputId": "770246eb-3c2a-4f71-f182-99b9457eb1a1"
      },
      "source": [
        "a*b"
      ],
      "execution_count": 76,
      "outputs": [
        {
          "output_type": "execute_result",
          "data": {
            "text/plain": [
              "array([[ 0,  0,  0,  0,  0,  0,  0,  0,  0,  0],\n",
              "       [ 0,  1,  2,  3,  4,  5,  6,  7,  8,  9],\n",
              "       [ 0,  2,  4,  6,  8, 10, 12, 14, 16, 18],\n",
              "       [ 0,  3,  6,  9, 12, 15, 18, 21, 24, 27],\n",
              "       [ 0,  4,  8, 12, 16, 20, 24, 28, 32, 36],\n",
              "       [ 0,  5, 10, 15, 20, 25, 30, 35, 40, 45],\n",
              "       [ 0,  6, 12, 18, 24, 30, 36, 42, 48, 54],\n",
              "       [ 0,  7, 14, 21, 28, 35, 42, 49, 56, 63],\n",
              "       [ 0,  8, 16, 24, 32, 40, 48, 56, 64, 72],\n",
              "       [ 0,  9, 18, 27, 36, 45, 54, 63, 72, 81]])"
            ]
          },
          "metadata": {},
          "execution_count": 76
        }
      ]
    },
    {
      "cell_type": "code",
      "metadata": {
        "colab": {
          "base_uri": "https://localhost:8080/"
        },
        "id": "gwk8VgCFpaZp",
        "outputId": "30a9a135-1fbb-4883-a020-073889d0587d"
      },
      "source": [
        "d = a/a\n",
        "d"
      ],
      "execution_count": 82,
      "outputs": [
        {
          "output_type": "stream",
          "name": "stderr",
          "text": [
            "/usr/local/lib/python3.7/dist-packages/ipykernel_launcher.py:1: RuntimeWarning: invalid value encountered in true_divide\n",
            "  \"\"\"Entry point for launching an IPython kernel.\n"
          ]
        },
        {
          "output_type": "execute_result",
          "data": {
            "text/plain": [
              "array([nan,  1.,  1.,  1.,  1.,  1.,  1.,  1.,  1.,  1.])"
            ]
          },
          "metadata": {},
          "execution_count": 82
        }
      ]
    },
    {
      "cell_type": "code",
      "metadata": {
        "colab": {
          "base_uri": "https://localhost:8080/"
        },
        "id": "7Gp3nP0Fph35",
        "outputId": "245e5e38-427d-4319-f403-24f84cabe706"
      },
      "source": [
        "type(d[0])"
      ],
      "execution_count": 83,
      "outputs": [
        {
          "output_type": "execute_result",
          "data": {
            "text/plain": [
              "numpy.float64"
            ]
          },
          "metadata": {},
          "execution_count": 83
        }
      ]
    },
    {
      "cell_type": "code",
      "metadata": {
        "colab": {
          "base_uri": "https://localhost:8080/"
        },
        "id": "Xz1CQY7appag",
        "outputId": "cbd13d2d-d2f4-4a3d-f9ba-cae27110f80a"
      },
      "source": [
        "d[0]"
      ],
      "execution_count": 84,
      "outputs": [
        {
          "output_type": "execute_result",
          "data": {
            "text/plain": [
              "nan"
            ]
          },
          "metadata": {},
          "execution_count": 84
        }
      ]
    },
    {
      "cell_type": "code",
      "metadata": {
        "colab": {
          "base_uri": "https://localhost:8080/"
        },
        "id": "xjwNax6xpwaw",
        "outputId": "02dfc2ef-37ba-4846-c22e-eac7529a55b9"
      },
      "source": [
        "f = 1/a\n",
        "f"
      ],
      "execution_count": 85,
      "outputs": [
        {
          "output_type": "stream",
          "name": "stderr",
          "text": [
            "/usr/local/lib/python3.7/dist-packages/ipykernel_launcher.py:1: RuntimeWarning: divide by zero encountered in true_divide\n",
            "  \"\"\"Entry point for launching an IPython kernel.\n"
          ]
        },
        {
          "output_type": "execute_result",
          "data": {
            "text/plain": [
              "array([       inf, 1.        , 0.5       , 0.33333333, 0.25      ,\n",
              "       0.2       , 0.16666667, 0.14285714, 0.125     , 0.11111111])"
            ]
          },
          "metadata": {},
          "execution_count": 85
        }
      ]
    },
    {
      "cell_type": "code",
      "metadata": {
        "colab": {
          "base_uri": "https://localhost:8080/"
        },
        "id": "gR3vi0pMp12r",
        "outputId": "cb7e6d8c-ac55-48ea-fdc4-f78339291874"
      },
      "source": [
        "np.sqrt(a)"
      ],
      "execution_count": 86,
      "outputs": [
        {
          "output_type": "execute_result",
          "data": {
            "text/plain": [
              "array([0.        , 1.        , 1.41421356, 1.73205081, 2.        ,\n",
              "       2.23606798, 2.44948974, 2.64575131, 2.82842712, 3.        ])"
            ]
          },
          "metadata": {},
          "execution_count": 86
        }
      ]
    },
    {
      "cell_type": "code",
      "metadata": {
        "colab": {
          "base_uri": "https://localhost:8080/"
        },
        "id": "uZ3fmQGAp-Zt",
        "outputId": "23223e19-0061-4d92-9005-0c997a538eaf"
      },
      "source": [
        "np.square(a)"
      ],
      "execution_count": 87,
      "outputs": [
        {
          "output_type": "execute_result",
          "data": {
            "text/plain": [
              "array([ 0,  1,  4,  9, 16, 25, 36, 49, 64, 81])"
            ]
          },
          "metadata": {},
          "execution_count": 87
        }
      ]
    },
    {
      "cell_type": "code",
      "metadata": {
        "colab": {
          "base_uri": "https://localhost:8080/"
        },
        "id": "yuG3A02IqBsT",
        "outputId": "fb8dea11-2a28-48d7-d2af-4a45137e546b"
      },
      "source": [
        "print(a)\n",
        "\n",
        "np.cumsum(a)"
      ],
      "execution_count": 89,
      "outputs": [
        {
          "output_type": "stream",
          "name": "stdout",
          "text": [
            "[0 1 2 3 4 5 6 7 8 9]\n"
          ]
        },
        {
          "output_type": "execute_result",
          "data": {
            "text/plain": [
              "array([ 0,  1,  3,  6, 10, 15, 21, 28, 36, 45])"
            ]
          },
          "metadata": {},
          "execution_count": 89
        }
      ]
    },
    {
      "cell_type": "code",
      "metadata": {
        "colab": {
          "base_uri": "https://localhost:8080/"
        },
        "id": "OA1snO5SqEpI",
        "outputId": "9f494f87-2e87-4d92-cfcb-76364fcd05ab"
      },
      "source": [
        "a.cumprod()"
      ],
      "execution_count": 90,
      "outputs": [
        {
          "output_type": "execute_result",
          "data": {
            "text/plain": [
              "array([0, 0, 0, 0, 0, 0, 0, 0, 0, 0])"
            ]
          },
          "metadata": {},
          "execution_count": 90
        }
      ]
    },
    {
      "cell_type": "code",
      "metadata": {
        "colab": {
          "base_uri": "https://localhost:8080/"
        },
        "id": "oMaYkDKNqSDt",
        "outputId": "da99a4e2-0746-4b60-9cee-b2baa6164056"
      },
      "source": [
        "np.count_nonzero(a)"
      ],
      "execution_count": 92,
      "outputs": [
        {
          "output_type": "execute_result",
          "data": {
            "text/plain": [
              "9"
            ]
          },
          "metadata": {},
          "execution_count": 92
        }
      ]
    },
    {
      "cell_type": "code",
      "metadata": {
        "colab": {
          "base_uri": "https://localhost:8080/"
        },
        "id": "NzyHJ8TMqW_P",
        "outputId": "c47bcb3b-c0b9-4b1e-b535-6b251d97ce3a"
      },
      "source": [
        "a.var()"
      ],
      "execution_count": 93,
      "outputs": [
        {
          "output_type": "execute_result",
          "data": {
            "text/plain": [
              "8.25"
            ]
          },
          "metadata": {},
          "execution_count": 93
        }
      ]
    },
    {
      "cell_type": "code",
      "metadata": {
        "colab": {
          "base_uri": "https://localhost:8080/"
        },
        "id": "JsGKqqpLqbQr",
        "outputId": "ee9d1451-fe15-44e6-caff-d3ad92bde302"
      },
      "source": [
        "a.std(\n",
        ")"
      ],
      "execution_count": 94,
      "outputs": [
        {
          "output_type": "execute_result",
          "data": {
            "text/plain": [
              "2.8722813232690143"
            ]
          },
          "metadata": {},
          "execution_count": 94
        }
      ]
    },
    {
      "cell_type": "code",
      "metadata": {
        "colab": {
          "base_uri": "https://localhost:8080/"
        },
        "id": "tHUNnD22qdnW",
        "outputId": "be738cd6-b16d-4f96-a3a6-f227e3f69561"
      },
      "source": [
        "a.mean()"
      ],
      "execution_count": 95,
      "outputs": [
        {
          "output_type": "execute_result",
          "data": {
            "text/plain": [
              "4.5"
            ]
          },
          "metadata": {},
          "execution_count": 95
        }
      ]
    },
    {
      "cell_type": "code",
      "metadata": {
        "colab": {
          "base_uri": "https://localhost:8080/"
        },
        "id": "IN31nB-WqgFF",
        "outputId": "682270b9-9a6b-4341-fc00-cb750113844b"
      },
      "source": [
        "np.median(a)"
      ],
      "execution_count": 97,
      "outputs": [
        {
          "output_type": "execute_result",
          "data": {
            "text/plain": [
              "4.5"
            ]
          },
          "metadata": {},
          "execution_count": 97
        }
      ]
    },
    {
      "cell_type": "code",
      "metadata": {
        "colab": {
          "base_uri": "https://localhost:8080/"
        },
        "id": "KxlcUfL5qhVQ",
        "outputId": "5c88c3d7-6b73-44db-ee2b-c4f1704bfb2d"
      },
      "source": [
        "from scipy.stats import mode\n",
        "\n",
        "v = np.random.randint(0,10, 10000)\n",
        "mode(v)"
      ],
      "execution_count": 101,
      "outputs": [
        {
          "output_type": "execute_result",
          "data": {
            "text/plain": [
              "ModeResult(mode=array([9]), count=array([1042]))"
            ]
          },
          "metadata": {},
          "execution_count": 101
        }
      ]
    },
    {
      "cell_type": "code",
      "metadata": {
        "colab": {
          "base_uri": "https://localhost:8080/"
        },
        "id": "H61aeht3qqlh",
        "outputId": "f58d5698-688b-4be4-8ca0-faee6832a290"
      },
      "source": [
        "from collections import Counter\n",
        "\n",
        "print(Counter(v))\n",
        "\n",
        "print(Counter(v)[9])"
      ],
      "execution_count": 107,
      "outputs": [
        {
          "output_type": "stream",
          "name": "stdout",
          "text": [
            "Counter({9: 1042, 8: 1041, 1: 1034, 5: 1022, 3: 1005, 6: 989, 7: 975, 2: 970, 0: 963, 4: 959})\n",
            "1042\n"
          ]
        }
      ]
    },
    {
      "cell_type": "code",
      "metadata": {
        "colab": {
          "base_uri": "https://localhost:8080/"
        },
        "id": "lgcRT27yq67O",
        "outputId": "33e6ecc0-b9ee-4493-c51e-d47bf287e19a"
      },
      "source": [
        "from collections import defaultdict\n",
        "\n",
        "a = defaultdict(lambda x: [])\n",
        "a"
      ],
      "execution_count": 112,
      "outputs": [
        {
          "output_type": "execute_result",
          "data": {
            "text/plain": [
              "defaultdict(<function __main__.<lambda>>, {})"
            ]
          },
          "metadata": {},
          "execution_count": 112
        }
      ]
    },
    {
      "cell_type": "markdown",
      "metadata": {
        "id": "rHxSdVkBr83c"
      },
      "source": [
        "# Pandas"
      ]
    },
    {
      "cell_type": "code",
      "metadata": {
        "colab": {
          "base_uri": "https://localhost:8080/"
        },
        "id": "aQhlFlBGruoJ",
        "outputId": "ebd28e0e-c5b0-4228-af97-71bec9a4d81d"
      },
      "source": [
        "!wget https://www.bis.org/statistics/full_bis_lbs_diss_csv.zip"
      ],
      "execution_count": 113,
      "outputs": [
        {
          "output_type": "stream",
          "name": "stdout",
          "text": [
            "--2021-09-19 20:14:18--  https://www.bis.org/statistics/full_bis_lbs_diss_csv.zip\n",
            "Resolving www.bis.org (www.bis.org)... 185.58.128.7\n",
            "Connecting to www.bis.org (www.bis.org)|185.58.128.7|:443... connected.\n",
            "HTTP request sent, awaiting response... 200 OK\n",
            "Length: unspecified [application/octet-stream]\n",
            "Saving to: ‘full_bis_lbs_diss_csv.zip’\n",
            "\n",
            "full_bis_lbs_diss_c     [   <=>              ]  52.35M  9.45MB/s    in 7.2s    \n",
            "\n",
            "2021-09-19 20:14:26 (7.23 MB/s) - ‘full_bis_lbs_diss_csv.zip’ saved [54894511]\n",
            "\n"
          ]
        }
      ]
    },
    {
      "cell_type": "code",
      "metadata": {
        "colab": {
          "base_uri": "https://localhost:8080/"
        },
        "id": "gLYEH2wIsfZW",
        "outputId": "e6c12ae1-4d6f-49a9-c3cd-a983d7d2e91c"
      },
      "source": [
        "!unzip /content/full_bis_lbs_diss_csv.zip"
      ],
      "execution_count": 114,
      "outputs": [
        {
          "output_type": "stream",
          "name": "stdout",
          "text": [
            "Archive:  /content/full_bis_lbs_diss_csv.zip\n",
            "  inflating: WEBSTATS_LBS_D_PUB_DATAFLOW_csv_col.csv  \n"
          ]
        }
      ]
    },
    {
      "cell_type": "code",
      "metadata": {
        "colab": {
          "base_uri": "https://localhost:8080/",
          "height": 741
        },
        "id": "DNAUhWWbsllD",
        "outputId": "a20d2607-e200-4008-f88a-53d90edf68e2"
      },
      "source": [
        "import pandas as pd\n",
        "\n",
        "df = pd.read_csv(\"/content/WEBSTATS_LBS_D_PUB_DATAFLOW_csv_col.csv\")\n",
        "df.head()"
      ],
      "execution_count": 115,
      "outputs": [
        {
          "output_type": "execute_result",
          "data": {
            "text/html": [
              "<div>\n",
              "<style scoped>\n",
              "    .dataframe tbody tr th:only-of-type {\n",
              "        vertical-align: middle;\n",
              "    }\n",
              "\n",
              "    .dataframe tbody tr th {\n",
              "        vertical-align: top;\n",
              "    }\n",
              "\n",
              "    .dataframe thead th {\n",
              "        text-align: right;\n",
              "    }\n",
              "</style>\n",
              "<table border=\"1\" class=\"dataframe\">\n",
              "  <thead>\n",
              "    <tr style=\"text-align: right;\">\n",
              "      <th></th>\n",
              "      <th>FREQ</th>\n",
              "      <th>Frequency</th>\n",
              "      <th>L_MEASURE</th>\n",
              "      <th>Measure</th>\n",
              "      <th>L_POSITION</th>\n",
              "      <th>Balance sheet position</th>\n",
              "      <th>L_INSTR</th>\n",
              "      <th>Type of instruments</th>\n",
              "      <th>L_DENOM</th>\n",
              "      <th>Currency denomination</th>\n",
              "      <th>L_CURR_TYPE</th>\n",
              "      <th>Currency type of reporting country</th>\n",
              "      <th>L_PARENT_CTY</th>\n",
              "      <th>Parent country</th>\n",
              "      <th>L_REP_BANK_TYPE</th>\n",
              "      <th>Type of reporting institutions</th>\n",
              "      <th>L_REP_CTY</th>\n",
              "      <th>Reporting country</th>\n",
              "      <th>L_CP_SECTOR</th>\n",
              "      <th>Counterparty sector</th>\n",
              "      <th>L_CP_COUNTRY</th>\n",
              "      <th>Counterparty country</th>\n",
              "      <th>L_POS_TYPE</th>\n",
              "      <th>Position type</th>\n",
              "      <th>Time Period</th>\n",
              "      <th>1977-Q4</th>\n",
              "      <th>1978-Q1</th>\n",
              "      <th>1978-Q2</th>\n",
              "      <th>1978-Q3</th>\n",
              "      <th>1978-Q4</th>\n",
              "      <th>1979-Q1</th>\n",
              "      <th>1979-Q2</th>\n",
              "      <th>1979-Q3</th>\n",
              "      <th>1979-Q4</th>\n",
              "      <th>1980-Q1</th>\n",
              "      <th>1980-Q2</th>\n",
              "      <th>1980-Q3</th>\n",
              "      <th>1980-Q4</th>\n",
              "      <th>1981-Q1</th>\n",
              "      <th>1981-Q2</th>\n",
              "      <th>...</th>\n",
              "      <th>2011-Q2</th>\n",
              "      <th>2011-Q3</th>\n",
              "      <th>2011-Q4</th>\n",
              "      <th>2012-Q1</th>\n",
              "      <th>2012-Q2</th>\n",
              "      <th>2012-Q3</th>\n",
              "      <th>2012-Q4</th>\n",
              "      <th>2013-Q1</th>\n",
              "      <th>2013-Q2</th>\n",
              "      <th>2013-Q3</th>\n",
              "      <th>2013-Q4</th>\n",
              "      <th>2014-Q1</th>\n",
              "      <th>2014-Q2</th>\n",
              "      <th>2014-Q3</th>\n",
              "      <th>2014-Q4</th>\n",
              "      <th>2015-Q1</th>\n",
              "      <th>2015-Q2</th>\n",
              "      <th>2015-Q3</th>\n",
              "      <th>2015-Q4</th>\n",
              "      <th>2016-Q1</th>\n",
              "      <th>2016-Q2</th>\n",
              "      <th>2016-Q3</th>\n",
              "      <th>2016-Q4</th>\n",
              "      <th>2017-Q1</th>\n",
              "      <th>2017-Q2</th>\n",
              "      <th>2017-Q3</th>\n",
              "      <th>2017-Q4</th>\n",
              "      <th>2018-Q1</th>\n",
              "      <th>2018-Q2</th>\n",
              "      <th>2018-Q3</th>\n",
              "      <th>2018-Q4</th>\n",
              "      <th>2019-Q1</th>\n",
              "      <th>2019-Q2</th>\n",
              "      <th>2019-Q3</th>\n",
              "      <th>2019-Q4</th>\n",
              "      <th>2020-Q1</th>\n",
              "      <th>2020-Q2</th>\n",
              "      <th>2020-Q3</th>\n",
              "      <th>2020-Q4</th>\n",
              "      <th>2021-Q1</th>\n",
              "    </tr>\n",
              "  </thead>\n",
              "  <tbody>\n",
              "    <tr>\n",
              "      <th>0</th>\n",
              "      <td>Q</td>\n",
              "      <td>Quarterly</td>\n",
              "      <td>F</td>\n",
              "      <td>FX and break adjusted change (BIS calculated)</td>\n",
              "      <td>C</td>\n",
              "      <td>Total claims</td>\n",
              "      <td>A</td>\n",
              "      <td>All instruments</td>\n",
              "      <td>CHF</td>\n",
              "      <td>Swiss Franc</td>\n",
              "      <td>A</td>\n",
              "      <td>All currencies (=D+F+U)</td>\n",
              "      <td>5J</td>\n",
              "      <td>All countries</td>\n",
              "      <td>A</td>\n",
              "      <td>All reporting banks/institutions (domestic, fo...</td>\n",
              "      <td>5A</td>\n",
              "      <td>All reporting countries</td>\n",
              "      <td>A</td>\n",
              "      <td>All sectors</td>\n",
              "      <td>1C</td>\n",
              "      <td>International organisations</td>\n",
              "      <td>N</td>\n",
              "      <td>Cross-border</td>\n",
              "      <td>Q:F:C:A:CHF:A:5J:A:5A:A:1C:N</td>\n",
              "      <td>NaN</td>\n",
              "      <td>-1.725</td>\n",
              "      <td>39.519</td>\n",
              "      <td>-44.993</td>\n",
              "      <td>45.005</td>\n",
              "      <td>2.231</td>\n",
              "      <td>-17.743</td>\n",
              "      <td>-27.377</td>\n",
              "      <td>8.695</td>\n",
              "      <td>-4.375</td>\n",
              "      <td>6.783</td>\n",
              "      <td>4.788</td>\n",
              "      <td>8.111</td>\n",
              "      <td>-30.537</td>\n",
              "      <td>14.969</td>\n",
              "      <td>...</td>\n",
              "      <td>12.881</td>\n",
              "      <td>32.620</td>\n",
              "      <td>-479.392</td>\n",
              "      <td>84.138</td>\n",
              "      <td>6.756</td>\n",
              "      <td>144.042</td>\n",
              "      <td>1710.610</td>\n",
              "      <td>-27.754</td>\n",
              "      <td>-283.713</td>\n",
              "      <td>-1086.346</td>\n",
              "      <td>607.883</td>\n",
              "      <td>-248.590</td>\n",
              "      <td>-358.287</td>\n",
              "      <td>249.439</td>\n",
              "      <td>-132.366</td>\n",
              "      <td>412.066</td>\n",
              "      <td>-10.601</td>\n",
              "      <td>-207.443</td>\n",
              "      <td>-68.488</td>\n",
              "      <td>-61.684</td>\n",
              "      <td>242.098</td>\n",
              "      <td>-167.746</td>\n",
              "      <td>-159.325</td>\n",
              "      <td>298.492</td>\n",
              "      <td>-352.555</td>\n",
              "      <td>-168.495</td>\n",
              "      <td>-35.811</td>\n",
              "      <td>144.544</td>\n",
              "      <td>-143.614</td>\n",
              "      <td>0.091</td>\n",
              "      <td>-75.289</td>\n",
              "      <td>-390.021</td>\n",
              "      <td>-347.322</td>\n",
              "      <td>-382.308</td>\n",
              "      <td>-55.171</td>\n",
              "      <td>-194.847</td>\n",
              "      <td>104.808</td>\n",
              "      <td>-28.299</td>\n",
              "      <td>-388.690</td>\n",
              "      <td>-347.531</td>\n",
              "    </tr>\n",
              "    <tr>\n",
              "      <th>1</th>\n",
              "      <td>Q</td>\n",
              "      <td>Quarterly</td>\n",
              "      <td>F</td>\n",
              "      <td>FX and break adjusted change (BIS calculated)</td>\n",
              "      <td>C</td>\n",
              "      <td>Total claims</td>\n",
              "      <td>A</td>\n",
              "      <td>All instruments</td>\n",
              "      <td>CHF</td>\n",
              "      <td>Swiss Franc</td>\n",
              "      <td>A</td>\n",
              "      <td>All currencies (=D+F+U)</td>\n",
              "      <td>5J</td>\n",
              "      <td>All countries</td>\n",
              "      <td>A</td>\n",
              "      <td>All reporting banks/institutions (domestic, fo...</td>\n",
              "      <td>5A</td>\n",
              "      <td>All reporting countries</td>\n",
              "      <td>A</td>\n",
              "      <td>All sectors</td>\n",
              "      <td>1N</td>\n",
              "      <td>Offshore centres</td>\n",
              "      <td>N</td>\n",
              "      <td>Cross-border</td>\n",
              "      <td>Q:F:C:A:CHF:A:5J:A:5A:A:1N:N</td>\n",
              "      <td>NaN</td>\n",
              "      <td>-72.318</td>\n",
              "      <td>-39.357</td>\n",
              "      <td>183.905</td>\n",
              "      <td>84.796</td>\n",
              "      <td>139.488</td>\n",
              "      <td>304.163</td>\n",
              "      <td>301.945</td>\n",
              "      <td>-83.247</td>\n",
              "      <td>761.755</td>\n",
              "      <td>-185.211</td>\n",
              "      <td>278.251</td>\n",
              "      <td>617.978</td>\n",
              "      <td>13.479</td>\n",
              "      <td>168.246</td>\n",
              "      <td>...</td>\n",
              "      <td>-514.312</td>\n",
              "      <td>-1285.626</td>\n",
              "      <td>-3030.498</td>\n",
              "      <td>-1153.783</td>\n",
              "      <td>-1421.988</td>\n",
              "      <td>-2219.717</td>\n",
              "      <td>1317.883</td>\n",
              "      <td>-1560.924</td>\n",
              "      <td>882.527</td>\n",
              "      <td>-451.802</td>\n",
              "      <td>2331.388</td>\n",
              "      <td>-2708.770</td>\n",
              "      <td>1833.465</td>\n",
              "      <td>4680.002</td>\n",
              "      <td>1156.849</td>\n",
              "      <td>-3217.545</td>\n",
              "      <td>-1058.659</td>\n",
              "      <td>-3113.650</td>\n",
              "      <td>-767.154</td>\n",
              "      <td>-2722.832</td>\n",
              "      <td>493.930</td>\n",
              "      <td>-1698.976</td>\n",
              "      <td>576.693</td>\n",
              "      <td>-1553.547</td>\n",
              "      <td>2256.965</td>\n",
              "      <td>451.115</td>\n",
              "      <td>-1441.822</td>\n",
              "      <td>1516.788</td>\n",
              "      <td>-266.965</td>\n",
              "      <td>-1294.612</td>\n",
              "      <td>-1122.829</td>\n",
              "      <td>-764.798</td>\n",
              "      <td>1840.657</td>\n",
              "      <td>7914.651</td>\n",
              "      <td>12342.556</td>\n",
              "      <td>1299.177</td>\n",
              "      <td>-10167.751</td>\n",
              "      <td>-2013.523</td>\n",
              "      <td>-212.637</td>\n",
              "      <td>-2089.863</td>\n",
              "    </tr>\n",
              "    <tr>\n",
              "      <th>2</th>\n",
              "      <td>Q</td>\n",
              "      <td>Quarterly</td>\n",
              "      <td>F</td>\n",
              "      <td>FX and break adjusted change (BIS calculated)</td>\n",
              "      <td>C</td>\n",
              "      <td>Total claims</td>\n",
              "      <td>A</td>\n",
              "      <td>All instruments</td>\n",
              "      <td>CHF</td>\n",
              "      <td>Swiss Franc</td>\n",
              "      <td>A</td>\n",
              "      <td>All currencies (=D+F+U)</td>\n",
              "      <td>5J</td>\n",
              "      <td>All countries</td>\n",
              "      <td>A</td>\n",
              "      <td>All reporting banks/institutions (domestic, fo...</td>\n",
              "      <td>5A</td>\n",
              "      <td>All reporting countries</td>\n",
              "      <td>A</td>\n",
              "      <td>All sectors</td>\n",
              "      <td>1W</td>\n",
              "      <td>British Overseas Territories</td>\n",
              "      <td>N</td>\n",
              "      <td>Cross-border</td>\n",
              "      <td>Q:F:C:A:CHF:A:5J:A:5A:A:1W:N</td>\n",
              "      <td>NaN</td>\n",
              "      <td>NaN</td>\n",
              "      <td>NaN</td>\n",
              "      <td>NaN</td>\n",
              "      <td>NaN</td>\n",
              "      <td>NaN</td>\n",
              "      <td>NaN</td>\n",
              "      <td>NaN</td>\n",
              "      <td>NaN</td>\n",
              "      <td>NaN</td>\n",
              "      <td>NaN</td>\n",
              "      <td>NaN</td>\n",
              "      <td>NaN</td>\n",
              "      <td>NaN</td>\n",
              "      <td>NaN</td>\n",
              "      <td>...</td>\n",
              "      <td>0.776</td>\n",
              "      <td>-0.852</td>\n",
              "      <td>1.114</td>\n",
              "      <td>-1.101</td>\n",
              "      <td>-0.904</td>\n",
              "      <td>-0.021</td>\n",
              "      <td>2.924</td>\n",
              "      <td>-0.863</td>\n",
              "      <td>-0.028</td>\n",
              "      <td>-0.123</td>\n",
              "      <td>-0.288</td>\n",
              "      <td>0.112</td>\n",
              "      <td>0.143</td>\n",
              "      <td>-0.055</td>\n",
              "      <td>-1.356</td>\n",
              "      <td>0.957</td>\n",
              "      <td>-0.402</td>\n",
              "      <td>0.611</td>\n",
              "      <td>-0.623</td>\n",
              "      <td>0.229</td>\n",
              "      <td>0.540</td>\n",
              "      <td>-0.522</td>\n",
              "      <td>-0.355</td>\n",
              "      <td>-0.034</td>\n",
              "      <td>-3.008</td>\n",
              "      <td>0.000</td>\n",
              "      <td>0.000</td>\n",
              "      <td>-0.001</td>\n",
              "      <td>0.000</td>\n",
              "      <td>0.000</td>\n",
              "      <td>0.000</td>\n",
              "      <td>38.919</td>\n",
              "      <td>33.415</td>\n",
              "      <td>0.010</td>\n",
              "      <td>-0.008</td>\n",
              "      <td>-25.838</td>\n",
              "      <td>-26.772</td>\n",
              "      <td>-23.363</td>\n",
              "      <td>-0.001</td>\n",
              "      <td>0.016</td>\n",
              "    </tr>\n",
              "    <tr>\n",
              "      <th>3</th>\n",
              "      <td>Q</td>\n",
              "      <td>Quarterly</td>\n",
              "      <td>F</td>\n",
              "      <td>FX and break adjusted change (BIS calculated)</td>\n",
              "      <td>C</td>\n",
              "      <td>Total claims</td>\n",
              "      <td>A</td>\n",
              "      <td>All instruments</td>\n",
              "      <td>CHF</td>\n",
              "      <td>Swiss Franc</td>\n",
              "      <td>A</td>\n",
              "      <td>All currencies (=D+F+U)</td>\n",
              "      <td>5J</td>\n",
              "      <td>All countries</td>\n",
              "      <td>A</td>\n",
              "      <td>All reporting banks/institutions (domestic, fo...</td>\n",
              "      <td>5A</td>\n",
              "      <td>All reporting countries</td>\n",
              "      <td>A</td>\n",
              "      <td>All sectors</td>\n",
              "      <td>1Z</td>\n",
              "      <td>West Indies UK</td>\n",
              "      <td>N</td>\n",
              "      <td>Cross-border</td>\n",
              "      <td>Q:F:C:A:CHF:A:5J:A:5A:A:1Z:N</td>\n",
              "      <td>NaN</td>\n",
              "      <td>2.900</td>\n",
              "      <td>-0.021</td>\n",
              "      <td>0.374</td>\n",
              "      <td>0.175</td>\n",
              "      <td>4.220</td>\n",
              "      <td>-3.049</td>\n",
              "      <td>3.446</td>\n",
              "      <td>-2.694</td>\n",
              "      <td>13.064</td>\n",
              "      <td>-2.236</td>\n",
              "      <td>-6.769</td>\n",
              "      <td>-1.379</td>\n",
              "      <td>-1.403</td>\n",
              "      <td>-0.629</td>\n",
              "      <td>...</td>\n",
              "      <td>104.268</td>\n",
              "      <td>-187.693</td>\n",
              "      <td>-320.530</td>\n",
              "      <td>201.370</td>\n",
              "      <td>-218.596</td>\n",
              "      <td>-243.667</td>\n",
              "      <td>-86.934</td>\n",
              "      <td>181.005</td>\n",
              "      <td>10.547</td>\n",
              "      <td>-52.305</td>\n",
              "      <td>636.548</td>\n",
              "      <td>-172.541</td>\n",
              "      <td>848.264</td>\n",
              "      <td>335.592</td>\n",
              "      <td>294.600</td>\n",
              "      <td>-491.847</td>\n",
              "      <td>-74.829</td>\n",
              "      <td>-219.457</td>\n",
              "      <td>311.228</td>\n",
              "      <td>1.639</td>\n",
              "      <td>65.728</td>\n",
              "      <td>-293.327</td>\n",
              "      <td>-201.523</td>\n",
              "      <td>-125.909</td>\n",
              "      <td>420.697</td>\n",
              "      <td>-72.450</td>\n",
              "      <td>-405.548</td>\n",
              "      <td>214.242</td>\n",
              "      <td>-15.397</td>\n",
              "      <td>101.792</td>\n",
              "      <td>-197.456</td>\n",
              "      <td>-43.168</td>\n",
              "      <td>328.134</td>\n",
              "      <td>405.777</td>\n",
              "      <td>37.479</td>\n",
              "      <td>544.669</td>\n",
              "      <td>207.914</td>\n",
              "      <td>-591.110</td>\n",
              "      <td>-38.659</td>\n",
              "      <td>-417.187</td>\n",
              "    </tr>\n",
              "    <tr>\n",
              "      <th>4</th>\n",
              "      <td>Q</td>\n",
              "      <td>Quarterly</td>\n",
              "      <td>F</td>\n",
              "      <td>FX and break adjusted change (BIS calculated)</td>\n",
              "      <td>C</td>\n",
              "      <td>Total claims</td>\n",
              "      <td>A</td>\n",
              "      <td>All instruments</td>\n",
              "      <td>CHF</td>\n",
              "      <td>Swiss Franc</td>\n",
              "      <td>A</td>\n",
              "      <td>All currencies (=D+F+U)</td>\n",
              "      <td>5J</td>\n",
              "      <td>All countries</td>\n",
              "      <td>A</td>\n",
              "      <td>All reporting banks/institutions (domestic, fo...</td>\n",
              "      <td>5A</td>\n",
              "      <td>All reporting countries</td>\n",
              "      <td>A</td>\n",
              "      <td>All sectors</td>\n",
              "      <td>2B</td>\n",
              "      <td>Residual developing Europe</td>\n",
              "      <td>N</td>\n",
              "      <td>Cross-border</td>\n",
              "      <td>Q:F:C:A:CHF:A:5J:A:5A:A:2B:N</td>\n",
              "      <td>NaN</td>\n",
              "      <td>-186.138</td>\n",
              "      <td>3.275</td>\n",
              "      <td>11.274</td>\n",
              "      <td>70.617</td>\n",
              "      <td>28.726</td>\n",
              "      <td>90.303</td>\n",
              "      <td>26.780</td>\n",
              "      <td>73.008</td>\n",
              "      <td>98.954</td>\n",
              "      <td>125.188</td>\n",
              "      <td>-64.535</td>\n",
              "      <td>388.950</td>\n",
              "      <td>-6.598</td>\n",
              "      <td>129.931</td>\n",
              "      <td>...</td>\n",
              "      <td>-2.831</td>\n",
              "      <td>-3.334</td>\n",
              "      <td>-3.632</td>\n",
              "      <td>20.335</td>\n",
              "      <td>0.081</td>\n",
              "      <td>-0.194</td>\n",
              "      <td>-0.212</td>\n",
              "      <td>0.746</td>\n",
              "      <td>-0.467</td>\n",
              "      <td>-0.724</td>\n",
              "      <td>-2.522</td>\n",
              "      <td>2.824</td>\n",
              "      <td>-119.684</td>\n",
              "      <td>0.818</td>\n",
              "      <td>3.123</td>\n",
              "      <td>-1.331</td>\n",
              "      <td>0.973</td>\n",
              "      <td>0.036</td>\n",
              "      <td>-1.231</td>\n",
              "      <td>2.217</td>\n",
              "      <td>-0.268</td>\n",
              "      <td>0.992</td>\n",
              "      <td>-0.207</td>\n",
              "      <td>-2.024</td>\n",
              "      <td>7.421</td>\n",
              "      <td>-2.345</td>\n",
              "      <td>1.724</td>\n",
              "      <td>-1.265</td>\n",
              "      <td>-0.139</td>\n",
              "      <td>0.770</td>\n",
              "      <td>-0.157</td>\n",
              "      <td>0.799</td>\n",
              "      <td>2.589</td>\n",
              "      <td>-1.108</td>\n",
              "      <td>-1.303</td>\n",
              "      <td>-0.170</td>\n",
              "      <td>3.711</td>\n",
              "      <td>-3.461</td>\n",
              "      <td>-0.317</td>\n",
              "      <td>-4.694</td>\n",
              "    </tr>\n",
              "  </tbody>\n",
              "</table>\n",
              "<p>5 rows × 199 columns</p>\n",
              "</div>"
            ],
            "text/plain": [
              "  FREQ  Frequency L_MEASURE  ...   2020-Q3  2020-Q4   2021-Q1\n",
              "0    Q  Quarterly         F  ...   -28.299 -388.690  -347.531\n",
              "1    Q  Quarterly         F  ... -2013.523 -212.637 -2089.863\n",
              "2    Q  Quarterly         F  ...   -23.363   -0.001     0.016\n",
              "3    Q  Quarterly         F  ...  -591.110  -38.659  -417.187\n",
              "4    Q  Quarterly         F  ...    -3.461   -0.317    -4.694\n",
              "\n",
              "[5 rows x 199 columns]"
            ]
          },
          "metadata": {},
          "execution_count": 115
        }
      ]
    },
    {
      "cell_type": "code",
      "metadata": {
        "colab": {
          "base_uri": "https://localhost:8080/"
        },
        "id": "jLwzAEpTsvf1",
        "outputId": "a7a0e73c-fd0e-420b-be21-1b1fc469de69"
      },
      "source": [
        "df.shape"
      ],
      "execution_count": 116,
      "outputs": [
        {
          "output_type": "execute_result",
          "data": {
            "text/plain": [
              "(282863, 199)"
            ]
          },
          "metadata": {},
          "execution_count": 116
        }
      ]
    },
    {
      "cell_type": "code",
      "metadata": {
        "colab": {
          "base_uri": "https://localhost:8080/"
        },
        "id": "L6DexXEhs2WD",
        "outputId": "03671840-0373-45b8-d96e-0ae1fc109602"
      },
      "source": [
        "df.info()"
      ],
      "execution_count": 119,
      "outputs": [
        {
          "output_type": "stream",
          "name": "stdout",
          "text": [
            "<class 'pandas.core.frame.DataFrame'>\n",
            "RangeIndex: 282863 entries, 0 to 282862\n",
            "Columns: 199 entries, FREQ to 2021-Q1\n",
            "dtypes: float64(174), object(25)\n",
            "memory usage: 429.5+ MB\n"
          ]
        }
      ]
    },
    {
      "cell_type": "code",
      "metadata": {
        "colab": {
          "base_uri": "https://localhost:8080/",
          "height": 349
        },
        "id": "phJ0CIh8s4jf",
        "outputId": "9b457cef-8a0b-428c-f38f-545176a3063d"
      },
      "source": [
        "df.describe()"
      ],
      "execution_count": 121,
      "outputs": [
        {
          "output_type": "execute_result",
          "data": {
            "text/html": [
              "<div>\n",
              "<style scoped>\n",
              "    .dataframe tbody tr th:only-of-type {\n",
              "        vertical-align: middle;\n",
              "    }\n",
              "\n",
              "    .dataframe tbody tr th {\n",
              "        vertical-align: top;\n",
              "    }\n",
              "\n",
              "    .dataframe thead th {\n",
              "        text-align: right;\n",
              "    }\n",
              "</style>\n",
              "<table border=\"1\" class=\"dataframe\">\n",
              "  <thead>\n",
              "    <tr style=\"text-align: right;\">\n",
              "      <th></th>\n",
              "      <th>1977-Q4</th>\n",
              "      <th>1978-Q1</th>\n",
              "      <th>1978-Q2</th>\n",
              "      <th>1978-Q3</th>\n",
              "      <th>1978-Q4</th>\n",
              "      <th>1979-Q1</th>\n",
              "      <th>1979-Q2</th>\n",
              "      <th>1979-Q3</th>\n",
              "      <th>1979-Q4</th>\n",
              "      <th>1980-Q1</th>\n",
              "      <th>1980-Q2</th>\n",
              "      <th>1980-Q3</th>\n",
              "      <th>1980-Q4</th>\n",
              "      <th>1981-Q1</th>\n",
              "      <th>1981-Q2</th>\n",
              "      <th>1981-Q3</th>\n",
              "      <th>1981-Q4</th>\n",
              "      <th>1982-Q1</th>\n",
              "      <th>1982-Q2</th>\n",
              "      <th>1982-Q3</th>\n",
              "      <th>1982-Q4</th>\n",
              "      <th>1983-Q1</th>\n",
              "      <th>1983-Q2</th>\n",
              "      <th>1983-Q3</th>\n",
              "      <th>1983-Q4</th>\n",
              "      <th>1984-Q1</th>\n",
              "      <th>1984-Q2</th>\n",
              "      <th>1984-Q3</th>\n",
              "      <th>1984-Q4</th>\n",
              "      <th>1985-Q1</th>\n",
              "      <th>1985-Q2</th>\n",
              "      <th>1985-Q3</th>\n",
              "      <th>1985-Q4</th>\n",
              "      <th>1986-Q1</th>\n",
              "      <th>1986-Q2</th>\n",
              "      <th>1986-Q3</th>\n",
              "      <th>1986-Q4</th>\n",
              "      <th>1987-Q1</th>\n",
              "      <th>1987-Q2</th>\n",
              "      <th>1987-Q3</th>\n",
              "      <th>...</th>\n",
              "      <th>2011-Q2</th>\n",
              "      <th>2011-Q3</th>\n",
              "      <th>2011-Q4</th>\n",
              "      <th>2012-Q1</th>\n",
              "      <th>2012-Q2</th>\n",
              "      <th>2012-Q3</th>\n",
              "      <th>2012-Q4</th>\n",
              "      <th>2013-Q1</th>\n",
              "      <th>2013-Q2</th>\n",
              "      <th>2013-Q3</th>\n",
              "      <th>2013-Q4</th>\n",
              "      <th>2014-Q1</th>\n",
              "      <th>2014-Q2</th>\n",
              "      <th>2014-Q3</th>\n",
              "      <th>2014-Q4</th>\n",
              "      <th>2015-Q1</th>\n",
              "      <th>2015-Q2</th>\n",
              "      <th>2015-Q3</th>\n",
              "      <th>2015-Q4</th>\n",
              "      <th>2016-Q1</th>\n",
              "      <th>2016-Q2</th>\n",
              "      <th>2016-Q3</th>\n",
              "      <th>2016-Q4</th>\n",
              "      <th>2017-Q1</th>\n",
              "      <th>2017-Q2</th>\n",
              "      <th>2017-Q3</th>\n",
              "      <th>2017-Q4</th>\n",
              "      <th>2018-Q1</th>\n",
              "      <th>2018-Q2</th>\n",
              "      <th>2018-Q3</th>\n",
              "      <th>2018-Q4</th>\n",
              "      <th>2019-Q1</th>\n",
              "      <th>2019-Q2</th>\n",
              "      <th>2019-Q3</th>\n",
              "      <th>2019-Q4</th>\n",
              "      <th>2020-Q1</th>\n",
              "      <th>2020-Q2</th>\n",
              "      <th>2020-Q3</th>\n",
              "      <th>2020-Q4</th>\n",
              "      <th>2021-Q1</th>\n",
              "    </tr>\n",
              "  </thead>\n",
              "  <tbody>\n",
              "    <tr>\n",
              "      <th>count</th>\n",
              "      <td>11993.000000</td>\n",
              "      <td>24324.000000</td>\n",
              "      <td>24575.000000</td>\n",
              "      <td>24796.000000</td>\n",
              "      <td>2.448600e+04</td>\n",
              "      <td>2.424100e+04</td>\n",
              "      <td>2.435500e+04</td>\n",
              "      <td>2.439000e+04</td>\n",
              "      <td>2.459800e+04</td>\n",
              "      <td>2.467700e+04</td>\n",
              "      <td>2.475800e+04</td>\n",
              "      <td>2.480100e+04</td>\n",
              "      <td>2.492000e+04</td>\n",
              "      <td>2.540500e+04</td>\n",
              "      <td>2.546800e+04</td>\n",
              "      <td>2.554700e+04</td>\n",
              "      <td>2.547600e+04</td>\n",
              "      <td>2.569400e+04</td>\n",
              "      <td>2.574700e+04</td>\n",
              "      <td>2.567200e+04</td>\n",
              "      <td>2.343500e+04</td>\n",
              "      <td>2.589800e+04</td>\n",
              "      <td>2.675400e+04</td>\n",
              "      <td>2.674400e+04</td>\n",
              "      <td>2.824900e+04</td>\n",
              "      <td>3.020300e+04</td>\n",
              "      <td>3.042300e+04</td>\n",
              "      <td>3.038600e+04</td>\n",
              "      <td>3.035400e+04</td>\n",
              "      <td>3.039700e+04</td>\n",
              "      <td>3.057000e+04</td>\n",
              "      <td>3.060700e+04</td>\n",
              "      <td>3.126100e+04</td>\n",
              "      <td>3.130300e+04</td>\n",
              "      <td>3.137100e+04</td>\n",
              "      <td>3.129300e+04</td>\n",
              "      <td>3.131200e+04</td>\n",
              "      <td>3.124800e+04</td>\n",
              "      <td>3.136800e+04</td>\n",
              "      <td>3.139700e+04</td>\n",
              "      <td>...</td>\n",
              "      <td>9.759400e+04</td>\n",
              "      <td>9.815000e+04</td>\n",
              "      <td>9.855500e+04</td>\n",
              "      <td>1.000860e+05</td>\n",
              "      <td>1.099170e+05</td>\n",
              "      <td>1.145080e+05</td>\n",
              "      <td>1.155190e+05</td>\n",
              "      <td>1.163180e+05</td>\n",
              "      <td>1.162630e+05</td>\n",
              "      <td>1.192140e+05</td>\n",
              "      <td>1.849830e+05</td>\n",
              "      <td>2.173820e+05</td>\n",
              "      <td>2.194340e+05</td>\n",
              "      <td>2.200280e+05</td>\n",
              "      <td>2.289690e+05</td>\n",
              "      <td>2.308230e+05</td>\n",
              "      <td>2.306650e+05</td>\n",
              "      <td>2.310440e+05</td>\n",
              "      <td>2.311710e+05</td>\n",
              "      <td>2.321810e+05</td>\n",
              "      <td>2.325690e+05</td>\n",
              "      <td>2.319870e+05</td>\n",
              "      <td>2.331780e+05</td>\n",
              "      <td>2.348230e+05</td>\n",
              "      <td>2.349530e+05</td>\n",
              "      <td>2.361800e+05</td>\n",
              "      <td>2.361960e+05</td>\n",
              "      <td>2.371930e+05</td>\n",
              "      <td>2.366760e+05</td>\n",
              "      <td>2.363370e+05</td>\n",
              "      <td>2.359610e+05</td>\n",
              "      <td>2.357380e+05</td>\n",
              "      <td>2.352270e+05</td>\n",
              "      <td>2.350470e+05</td>\n",
              "      <td>2.349640e+05</td>\n",
              "      <td>2.347290e+05</td>\n",
              "      <td>2.343290e+05</td>\n",
              "      <td>2.343840e+05</td>\n",
              "      <td>2.356060e+05</td>\n",
              "      <td>2.338180e+05</td>\n",
              "    </tr>\n",
              "    <tr>\n",
              "      <th>mean</th>\n",
              "      <td>4767.375135</td>\n",
              "      <td>2417.093270</td>\n",
              "      <td>2522.709954</td>\n",
              "      <td>2799.035459</td>\n",
              "      <td>3.265528e+03</td>\n",
              "      <td>3.020824e+03</td>\n",
              "      <td>3.436489e+03</td>\n",
              "      <td>3.826334e+03</td>\n",
              "      <td>4.033415e+03</td>\n",
              "      <td>4.019946e+03</td>\n",
              "      <td>4.248837e+03</td>\n",
              "      <td>4.398436e+03</td>\n",
              "      <td>4.815199e+03</td>\n",
              "      <td>4.651893e+03</td>\n",
              "      <td>4.573881e+03</td>\n",
              "      <td>4.929221e+03</td>\n",
              "      <td>5.342440e+03</td>\n",
              "      <td>5.277897e+03</td>\n",
              "      <td>5.092714e+03</td>\n",
              "      <td>5.466727e+03</td>\n",
              "      <td>5.632835e+03</td>\n",
              "      <td>5.456781e+03</td>\n",
              "      <td>6.181650e+03</td>\n",
              "      <td>5.961481e+03</td>\n",
              "      <td>6.753377e+03</td>\n",
              "      <td>6.428683e+03</td>\n",
              "      <td>6.400214e+03</td>\n",
              "      <td>6.217726e+03</td>\n",
              "      <td>6.482197e+03</td>\n",
              "      <td>6.714785e+03</td>\n",
              "      <td>6.506301e+03</td>\n",
              "      <td>7.074763e+03</td>\n",
              "      <td>7.600610e+03</td>\n",
              "      <td>7.758295e+03</td>\n",
              "      <td>8.067300e+03</td>\n",
              "      <td>9.288054e+03</td>\n",
              "      <td>9.854439e+03</td>\n",
              "      <td>1.012627e+04</td>\n",
              "      <td>1.080616e+04</td>\n",
              "      <td>1.141881e+04</td>\n",
              "      <td>...</td>\n",
              "      <td>3.528361e+04</td>\n",
              "      <td>3.628304e+04</td>\n",
              "      <td>3.283108e+04</td>\n",
              "      <td>3.385584e+04</td>\n",
              "      <td>4.240589e+04</td>\n",
              "      <td>4.197579e+04</td>\n",
              "      <td>4.104670e+04</td>\n",
              "      <td>4.027846e+04</td>\n",
              "      <td>3.988385e+04</td>\n",
              "      <td>3.947325e+04</td>\n",
              "      <td>3.498828e+04</td>\n",
              "      <td>3.212757e+04</td>\n",
              "      <td>3.209808e+04</td>\n",
              "      <td>3.065331e+04</td>\n",
              "      <td>3.072046e+04</td>\n",
              "      <td>3.017523e+04</td>\n",
              "      <td>2.912043e+04</td>\n",
              "      <td>2.928153e+04</td>\n",
              "      <td>2.899878e+04</td>\n",
              "      <td>3.093624e+04</td>\n",
              "      <td>3.150047e+04</td>\n",
              "      <td>3.124525e+04</td>\n",
              "      <td>2.950320e+04</td>\n",
              "      <td>3.135460e+04</td>\n",
              "      <td>3.169106e+04</td>\n",
              "      <td>3.238085e+04</td>\n",
              "      <td>3.278891e+04</td>\n",
              "      <td>3.449185e+04</td>\n",
              "      <td>3.310188e+04</td>\n",
              "      <td>3.268350e+04</td>\n",
              "      <td>3.293233e+04</td>\n",
              "      <td>3.434785e+04</td>\n",
              "      <td>3.462905e+04</td>\n",
              "      <td>3.455567e+04</td>\n",
              "      <td>3.388306e+04</td>\n",
              "      <td>3.815783e+04</td>\n",
              "      <td>3.638792e+04</td>\n",
              "      <td>3.827980e+04</td>\n",
              "      <td>3.993199e+04</td>\n",
              "      <td>4.041286e+04</td>\n",
              "    </tr>\n",
              "    <tr>\n",
              "      <th>std</th>\n",
              "      <td>30649.186664</td>\n",
              "      <td>22026.271811</td>\n",
              "      <td>22557.108789</td>\n",
              "      <td>24510.443376</td>\n",
              "      <td>2.853206e+04</td>\n",
              "      <td>2.825609e+04</td>\n",
              "      <td>3.045250e+04</td>\n",
              "      <td>3.365812e+04</td>\n",
              "      <td>3.613887e+04</td>\n",
              "      <td>3.663024e+04</td>\n",
              "      <td>3.915028e+04</td>\n",
              "      <td>4.036189e+04</td>\n",
              "      <td>4.320223e+04</td>\n",
              "      <td>4.360440e+04</td>\n",
              "      <td>4.330768e+04</td>\n",
              "      <td>4.579376e+04</td>\n",
              "      <td>4.946970e+04</td>\n",
              "      <td>5.001115e+04</td>\n",
              "      <td>4.954351e+04</td>\n",
              "      <td>5.165691e+04</td>\n",
              "      <td>5.426217e+04</td>\n",
              "      <td>5.315450e+04</td>\n",
              "      <td>5.389642e+04</td>\n",
              "      <td>5.393169e+04</td>\n",
              "      <td>6.447028e+04</td>\n",
              "      <td>6.389811e+04</td>\n",
              "      <td>6.404823e+04</td>\n",
              "      <td>6.318069e+04</td>\n",
              "      <td>6.441637e+04</td>\n",
              "      <td>6.650435e+04</td>\n",
              "      <td>6.629009e+04</td>\n",
              "      <td>6.995004e+04</td>\n",
              "      <td>7.439285e+04</td>\n",
              "      <td>7.705678e+04</td>\n",
              "      <td>8.011047e+04</td>\n",
              "      <td>8.839389e+04</td>\n",
              "      <td>9.496611e+04</td>\n",
              "      <td>9.966508e+04</td>\n",
              "      <td>1.048599e+05</td>\n",
              "      <td>1.107004e+05</td>\n",
              "      <td>...</td>\n",
              "      <td>4.880795e+05</td>\n",
              "      <td>4.914316e+05</td>\n",
              "      <td>4.680756e+05</td>\n",
              "      <td>4.706688e+05</td>\n",
              "      <td>7.480199e+05</td>\n",
              "      <td>7.493017e+05</td>\n",
              "      <td>7.504013e+05</td>\n",
              "      <td>7.281122e+05</td>\n",
              "      <td>7.260510e+05</td>\n",
              "      <td>7.407677e+05</td>\n",
              "      <td>7.550637e+05</td>\n",
              "      <td>7.161333e+05</td>\n",
              "      <td>7.192789e+05</td>\n",
              "      <td>6.800909e+05</td>\n",
              "      <td>6.857329e+05</td>\n",
              "      <td>6.588082e+05</td>\n",
              "      <td>6.650015e+05</td>\n",
              "      <td>6.590587e+05</td>\n",
              "      <td>6.655249e+05</td>\n",
              "      <td>7.006803e+05</td>\n",
              "      <td>7.165586e+05</td>\n",
              "      <td>7.247332e+05</td>\n",
              "      <td>6.810367e+05</td>\n",
              "      <td>7.134706e+05</td>\n",
              "      <td>7.341364e+05</td>\n",
              "      <td>7.504522e+05</td>\n",
              "      <td>7.645099e+05</td>\n",
              "      <td>7.987339e+05</td>\n",
              "      <td>7.680044e+05</td>\n",
              "      <td>7.611506e+05</td>\n",
              "      <td>7.662341e+05</td>\n",
              "      <td>7.772165e+05</td>\n",
              "      <td>7.936368e+05</td>\n",
              "      <td>7.867578e+05</td>\n",
              "      <td>7.961176e+05</td>\n",
              "      <td>8.146957e+05</td>\n",
              "      <td>8.461607e+05</td>\n",
              "      <td>8.853810e+05</td>\n",
              "      <td>9.266695e+05</td>\n",
              "      <td>9.167538e+05</td>\n",
              "    </tr>\n",
              "    <tr>\n",
              "      <th>min</th>\n",
              "      <td>-44673.000000</td>\n",
              "      <td>-42983.000000</td>\n",
              "      <td>-45802.000000</td>\n",
              "      <td>-47801.000000</td>\n",
              "      <td>-4.451800e+04</td>\n",
              "      <td>-4.581300e+04</td>\n",
              "      <td>-4.729400e+04</td>\n",
              "      <td>-4.806800e+04</td>\n",
              "      <td>-5.143000e+04</td>\n",
              "      <td>-4.953400e+04</td>\n",
              "      <td>-5.517800e+04</td>\n",
              "      <td>-5.682600e+04</td>\n",
              "      <td>-4.973700e+04</td>\n",
              "      <td>-5.613700e+04</td>\n",
              "      <td>-5.034700e+04</td>\n",
              "      <td>-5.395000e+04</td>\n",
              "      <td>-5.709000e+04</td>\n",
              "      <td>-5.530300e+04</td>\n",
              "      <td>-5.291300e+04</td>\n",
              "      <td>-5.168600e+04</td>\n",
              "      <td>-4.443200e+04</td>\n",
              "      <td>-2.608387e+04</td>\n",
              "      <td>-4.153900e+04</td>\n",
              "      <td>-1.894700e+04</td>\n",
              "      <td>-1.314367e+04</td>\n",
              "      <td>-1.788400e+04</td>\n",
              "      <td>-2.593500e+04</td>\n",
              "      <td>-3.134800e+04</td>\n",
              "      <td>-1.302500e+04</td>\n",
              "      <td>-1.352600e+04</td>\n",
              "      <td>-3.816800e+04</td>\n",
              "      <td>-3.013251e+04</td>\n",
              "      <td>-1.466600e+04</td>\n",
              "      <td>-2.641115e+04</td>\n",
              "      <td>-1.763478e+04</td>\n",
              "      <td>-9.792000e+03</td>\n",
              "      <td>-1.725536e+04</td>\n",
              "      <td>-4.551096e+04</td>\n",
              "      <td>-2.944873e+04</td>\n",
              "      <td>-8.764000e+03</td>\n",
              "      <td>...</td>\n",
              "      <td>-3.726385e+05</td>\n",
              "      <td>-4.887282e+05</td>\n",
              "      <td>-1.095606e+06</td>\n",
              "      <td>-2.887550e+05</td>\n",
              "      <td>-8.183827e+05</td>\n",
              "      <td>-3.847435e+05</td>\n",
              "      <td>-7.367966e+05</td>\n",
              "      <td>-7.270772e+05</td>\n",
              "      <td>-6.329563e+05</td>\n",
              "      <td>-6.589068e+05</td>\n",
              "      <td>-5.988560e+05</td>\n",
              "      <td>-2.384242e+05</td>\n",
              "      <td>-2.259732e+05</td>\n",
              "      <td>-1.627833e+05</td>\n",
              "      <td>-3.411888e+05</td>\n",
              "      <td>-2.055758e+05</td>\n",
              "      <td>-9.750419e+05</td>\n",
              "      <td>-2.263537e+05</td>\n",
              "      <td>-8.414232e+05</td>\n",
              "      <td>-3.811676e+05</td>\n",
              "      <td>-7.763412e+04</td>\n",
              "      <td>-3.538707e+05</td>\n",
              "      <td>-4.859924e+05</td>\n",
              "      <td>-1.677692e+05</td>\n",
              "      <td>-2.154103e+05</td>\n",
              "      <td>-2.196209e+05</td>\n",
              "      <td>-2.198684e+05</td>\n",
              "      <td>-3.466371e+05</td>\n",
              "      <td>-1.212648e+06</td>\n",
              "      <td>-4.427120e+05</td>\n",
              "      <td>-2.430997e+05</td>\n",
              "      <td>-2.928573e+05</td>\n",
              "      <td>-1.251639e+05</td>\n",
              "      <td>-9.139100e+04</td>\n",
              "      <td>-1.032009e+06</td>\n",
              "      <td>-1.478273e+05</td>\n",
              "      <td>-1.176543e+06</td>\n",
              "      <td>-3.163695e+05</td>\n",
              "      <td>-2.288355e+05</td>\n",
              "      <td>-3.086983e+05</td>\n",
              "    </tr>\n",
              "    <tr>\n",
              "      <th>25%</th>\n",
              "      <td>12.000000</td>\n",
              "      <td>0.954000</td>\n",
              "      <td>1.000000</td>\n",
              "      <td>1.000000</td>\n",
              "      <td>1.000000e+00</td>\n",
              "      <td>7.550000e-01</td>\n",
              "      <td>1.000000e+00</td>\n",
              "      <td>1.000000e+00</td>\n",
              "      <td>1.016000e+00</td>\n",
              "      <td>1.000000e+00</td>\n",
              "      <td>1.000000e+00</td>\n",
              "      <td>1.000000e+00</td>\n",
              "      <td>1.041500e+00</td>\n",
              "      <td>1.000000e+00</td>\n",
              "      <td>1.000000e+00</td>\n",
              "      <td>1.000000e+00</td>\n",
              "      <td>1.000000e+00</td>\n",
              "      <td>5.607500e-01</td>\n",
              "      <td>1.000000e+00</td>\n",
              "      <td>2.440000e-01</td>\n",
              "      <td>7.240000e-01</td>\n",
              "      <td>2.500000e-02</td>\n",
              "      <td>6.600000e-02</td>\n",
              "      <td>4.700000e-02</td>\n",
              "      <td>1.000000e+00</td>\n",
              "      <td>8.000000e-03</td>\n",
              "      <td>1.700000e-01</td>\n",
              "      <td>6.600000e-02</td>\n",
              "      <td>1.475000e-01</td>\n",
              "      <td>5.000000e-03</td>\n",
              "      <td>0.000000e+00</td>\n",
              "      <td>0.000000e+00</td>\n",
              "      <td>9.650000e-01</td>\n",
              "      <td>-6.000000e-02</td>\n",
              "      <td>0.000000e+00</td>\n",
              "      <td>4.980000e-01</td>\n",
              "      <td>0.000000e+00</td>\n",
              "      <td>0.000000e+00</td>\n",
              "      <td>1.000000e+00</td>\n",
              "      <td>1.600000e-02</td>\n",
              "      <td>...</td>\n",
              "      <td>0.000000e+00</td>\n",
              "      <td>6.900000e-02</td>\n",
              "      <td>-8.200000e-01</td>\n",
              "      <td>0.000000e+00</td>\n",
              "      <td>0.000000e+00</td>\n",
              "      <td>-1.400000e-02</td>\n",
              "      <td>-1.200000e-02</td>\n",
              "      <td>0.000000e+00</td>\n",
              "      <td>-3.600000e-02</td>\n",
              "      <td>-3.200000e-02</td>\n",
              "      <td>2.000000e-03</td>\n",
              "      <td>0.000000e+00</td>\n",
              "      <td>0.000000e+00</td>\n",
              "      <td>0.000000e+00</td>\n",
              "      <td>0.000000e+00</td>\n",
              "      <td>0.000000e+00</td>\n",
              "      <td>-6.000000e-03</td>\n",
              "      <td>-1.000000e-03</td>\n",
              "      <td>-1.000000e-03</td>\n",
              "      <td>0.000000e+00</td>\n",
              "      <td>0.000000e+00</td>\n",
              "      <td>0.000000e+00</td>\n",
              "      <td>-1.000000e-03</td>\n",
              "      <td>0.000000e+00</td>\n",
              "      <td>-1.000000e-03</td>\n",
              "      <td>-1.000000e-03</td>\n",
              "      <td>0.000000e+00</td>\n",
              "      <td>0.000000e+00</td>\n",
              "      <td>0.000000e+00</td>\n",
              "      <td>0.000000e+00</td>\n",
              "      <td>0.000000e+00</td>\n",
              "      <td>0.000000e+00</td>\n",
              "      <td>0.000000e+00</td>\n",
              "      <td>0.000000e+00</td>\n",
              "      <td>-2.000000e-03</td>\n",
              "      <td>0.000000e+00</td>\n",
              "      <td>-1.000000e-03</td>\n",
              "      <td>-2.000000e-03</td>\n",
              "      <td>-1.000000e-03</td>\n",
              "      <td>0.000000e+00</td>\n",
              "    </tr>\n",
              "    <tr>\n",
              "      <th>50%</th>\n",
              "      <td>86.000000</td>\n",
              "      <td>15.150000</td>\n",
              "      <td>18.000000</td>\n",
              "      <td>20.000000</td>\n",
              "      <td>2.142200e+01</td>\n",
              "      <td>1.500600e+01</td>\n",
              "      <td>2.200000e+01</td>\n",
              "      <td>2.400000e+01</td>\n",
              "      <td>2.501300e+01</td>\n",
              "      <td>2.100000e+01</td>\n",
              "      <td>2.300000e+01</td>\n",
              "      <td>2.400000e+01</td>\n",
              "      <td>2.800000e+01</td>\n",
              "      <td>2.115700e+01</td>\n",
              "      <td>2.100000e+01</td>\n",
              "      <td>2.220300e+01</td>\n",
              "      <td>2.286650e+01</td>\n",
              "      <td>1.780550e+01</td>\n",
              "      <td>1.734000e+01</td>\n",
              "      <td>1.800000e+01</td>\n",
              "      <td>1.800000e+01</td>\n",
              "      <td>1.400000e+01</td>\n",
              "      <td>1.600000e+01</td>\n",
              "      <td>1.500000e+01</td>\n",
              "      <td>1.864700e+01</td>\n",
              "      <td>1.500000e+01</td>\n",
              "      <td>1.400000e+01</td>\n",
              "      <td>1.100000e+01</td>\n",
              "      <td>1.400000e+01</td>\n",
              "      <td>1.359100e+01</td>\n",
              "      <td>1.271250e+01</td>\n",
              "      <td>1.400000e+01</td>\n",
              "      <td>1.800000e+01</td>\n",
              "      <td>1.300000e+01</td>\n",
              "      <td>1.500000e+01</td>\n",
              "      <td>1.800000e+01</td>\n",
              "      <td>1.600000e+01</td>\n",
              "      <td>1.800000e+01</td>\n",
              "      <td>2.282100e+01</td>\n",
              "      <td>1.900000e+01</td>\n",
              "      <td>...</td>\n",
              "      <td>1.800000e+01</td>\n",
              "      <td>1.700000e+01</td>\n",
              "      <td>1.000000e+01</td>\n",
              "      <td>1.600000e+01</td>\n",
              "      <td>7.238000e+00</td>\n",
              "      <td>6.000000e+00</td>\n",
              "      <td>5.002000e+00</td>\n",
              "      <td>6.000000e+00</td>\n",
              "      <td>4.000000e+00</td>\n",
              "      <td>3.941000e+00</td>\n",
              "      <td>4.113000e+00</td>\n",
              "      <td>2.319000e+00</td>\n",
              "      <td>2.469000e+00</td>\n",
              "      <td>2.114000e+00</td>\n",
              "      <td>2.000000e+00</td>\n",
              "      <td>2.324000e+00</td>\n",
              "      <td>1.576000e+00</td>\n",
              "      <td>1.722000e+00</td>\n",
              "      <td>1.642000e+00</td>\n",
              "      <td>2.148000e+00</td>\n",
              "      <td>2.129000e+00</td>\n",
              "      <td>2.000000e+00</td>\n",
              "      <td>1.806000e+00</td>\n",
              "      <td>2.006000e+00</td>\n",
              "      <td>1.934000e+00</td>\n",
              "      <td>1.685500e+00</td>\n",
              "      <td>1.963000e+00</td>\n",
              "      <td>2.000000e+00</td>\n",
              "      <td>2.001000e+00</td>\n",
              "      <td>1.643000e+00</td>\n",
              "      <td>1.965000e+00</td>\n",
              "      <td>2.135000e+00</td>\n",
              "      <td>2.153000e+00</td>\n",
              "      <td>2.113000e+00</td>\n",
              "      <td>1.717000e+00</td>\n",
              "      <td>2.796000e+00</td>\n",
              "      <td>1.447000e+00</td>\n",
              "      <td>1.724000e+00</td>\n",
              "      <td>1.968000e+00</td>\n",
              "      <td>2.000000e+00</td>\n",
              "    </tr>\n",
              "    <tr>\n",
              "      <th>75%</th>\n",
              "      <td>679.000000</td>\n",
              "      <td>184.000000</td>\n",
              "      <td>203.000000</td>\n",
              "      <td>222.000000</td>\n",
              "      <td>2.510000e+02</td>\n",
              "      <td>1.951940e+02</td>\n",
              "      <td>2.480000e+02</td>\n",
              "      <td>2.837575e+02</td>\n",
              "      <td>2.909985e+02</td>\n",
              "      <td>2.751990e+02</td>\n",
              "      <td>2.870000e+02</td>\n",
              "      <td>2.880000e+02</td>\n",
              "      <td>3.250000e+02</td>\n",
              "      <td>2.750000e+02</td>\n",
              "      <td>2.592150e+02</td>\n",
              "      <td>2.900000e+02</td>\n",
              "      <td>3.010000e+02</td>\n",
              "      <td>2.680000e+02</td>\n",
              "      <td>2.510000e+02</td>\n",
              "      <td>2.700000e+02</td>\n",
              "      <td>2.780000e+02</td>\n",
              "      <td>2.380000e+02</td>\n",
              "      <td>2.740000e+02</td>\n",
              "      <td>2.630000e+02</td>\n",
              "      <td>3.214520e+02</td>\n",
              "      <td>2.677615e+02</td>\n",
              "      <td>2.550000e+02</td>\n",
              "      <td>2.231447e+02</td>\n",
              "      <td>2.700000e+02</td>\n",
              "      <td>2.740000e+02</td>\n",
              "      <td>2.350000e+02</td>\n",
              "      <td>2.860000e+02</td>\n",
              "      <td>3.600000e+02</td>\n",
              "      <td>3.044370e+02</td>\n",
              "      <td>3.256535e+02</td>\n",
              "      <td>3.950000e+02</td>\n",
              "      <td>3.870000e+02</td>\n",
              "      <td>4.132500e+02</td>\n",
              "      <td>4.630032e+02</td>\n",
              "      <td>4.290000e+02</td>\n",
              "      <td>...</td>\n",
              "      <td>5.400000e+02</td>\n",
              "      <td>5.702113e+02</td>\n",
              "      <td>3.880000e+02</td>\n",
              "      <td>5.219823e+02</td>\n",
              "      <td>3.650000e+02</td>\n",
              "      <td>3.225190e+02</td>\n",
              "      <td>2.802300e+02</td>\n",
              "      <td>3.190000e+02</td>\n",
              "      <td>2.556085e+02</td>\n",
              "      <td>2.546378e+02</td>\n",
              "      <td>2.013950e+02</td>\n",
              "      <td>1.596453e+02</td>\n",
              "      <td>1.659988e+02</td>\n",
              "      <td>1.488713e+02</td>\n",
              "      <td>1.322180e+02</td>\n",
              "      <td>1.570000e+02</td>\n",
              "      <td>1.124840e+02</td>\n",
              "      <td>1.194998e+02</td>\n",
              "      <td>1.155190e+02</td>\n",
              "      <td>1.532520e+02</td>\n",
              "      <td>1.520000e+02</td>\n",
              "      <td>1.388150e+02</td>\n",
              "      <td>1.267857e+02</td>\n",
              "      <td>1.531515e+02</td>\n",
              "      <td>1.352500e+02</td>\n",
              "      <td>1.349977e+02</td>\n",
              "      <td>1.448132e+02</td>\n",
              "      <td>1.600310e+02</td>\n",
              "      <td>1.559743e+02</td>\n",
              "      <td>1.380880e+02</td>\n",
              "      <td>1.408350e+02</td>\n",
              "      <td>1.830000e+02</td>\n",
              "      <td>1.766915e+02</td>\n",
              "      <td>1.675350e+02</td>\n",
              "      <td>1.400020e+02</td>\n",
              "      <td>2.254430e+02</td>\n",
              "      <td>1.307250e+02</td>\n",
              "      <td>1.471330e+02</td>\n",
              "      <td>1.682933e+02</td>\n",
              "      <td>1.750000e+02</td>\n",
              "    </tr>\n",
              "    <tr>\n",
              "      <th>max</th>\n",
              "      <td>846506.000000</td>\n",
              "      <td>870151.000000</td>\n",
              "      <td>900824.000000</td>\n",
              "      <td>981621.000000</td>\n",
              "      <td>1.084701e+06</td>\n",
              "      <td>1.078778e+06</td>\n",
              "      <td>1.154772e+06</td>\n",
              "      <td>1.267978e+06</td>\n",
              "      <td>1.352972e+06</td>\n",
              "      <td>1.379733e+06</td>\n",
              "      <td>1.490912e+06</td>\n",
              "      <td>1.544769e+06</td>\n",
              "      <td>1.640812e+06</td>\n",
              "      <td>1.685246e+06</td>\n",
              "      <td>1.681058e+06</td>\n",
              "      <td>1.788436e+06</td>\n",
              "      <td>1.933896e+06</td>\n",
              "      <td>1.971228e+06</td>\n",
              "      <td>1.959618e+06</td>\n",
              "      <td>2.050969e+06</td>\n",
              "      <td>2.119734e+06</td>\n",
              "      <td>2.153964e+06</td>\n",
              "      <td>2.109473e+06</td>\n",
              "      <td>2.162146e+06</td>\n",
              "      <td>2.608804e+06</td>\n",
              "      <td>2.690671e+06</td>\n",
              "      <td>2.681136e+06</td>\n",
              "      <td>2.651004e+06</td>\n",
              "      <td>2.694094e+06</td>\n",
              "      <td>2.794704e+06</td>\n",
              "      <td>2.788495e+06</td>\n",
              "      <td>2.971486e+06</td>\n",
              "      <td>3.205856e+06</td>\n",
              "      <td>3.360428e+06</td>\n",
              "      <td>3.498995e+06</td>\n",
              "      <td>3.847838e+06</td>\n",
              "      <td>4.104190e+06</td>\n",
              "      <td>4.360969e+06</td>\n",
              "      <td>4.535050e+06</td>\n",
              "      <td>4.782668e+06</td>\n",
              "      <td>...</td>\n",
              "      <td>3.569774e+07</td>\n",
              "      <td>3.595113e+07</td>\n",
              "      <td>3.418664e+07</td>\n",
              "      <td>3.473979e+07</td>\n",
              "      <td>7.596809e+07</td>\n",
              "      <td>7.789627e+07</td>\n",
              "      <td>7.841164e+07</td>\n",
              "      <td>7.651647e+07</td>\n",
              "      <td>7.589725e+07</td>\n",
              "      <td>7.883716e+07</td>\n",
              "      <td>9.674832e+07</td>\n",
              "      <td>9.828786e+07</td>\n",
              "      <td>9.908937e+07</td>\n",
              "      <td>9.410059e+07</td>\n",
              "      <td>9.244249e+07</td>\n",
              "      <td>8.927945e+07</td>\n",
              "      <td>8.992865e+07</td>\n",
              "      <td>8.900490e+07</td>\n",
              "      <td>8.940352e+07</td>\n",
              "      <td>9.399957e+07</td>\n",
              "      <td>9.574401e+07</td>\n",
              "      <td>9.662424e+07</td>\n",
              "      <td>9.142835e+07</td>\n",
              "      <td>9.562493e+07</td>\n",
              "      <td>9.830107e+07</td>\n",
              "      <td>1.006656e+08</td>\n",
              "      <td>1.023256e+08</td>\n",
              "      <td>1.068747e+08</td>\n",
              "      <td>1.026452e+08</td>\n",
              "      <td>1.017290e+08</td>\n",
              "      <td>1.020194e+08</td>\n",
              "      <td>1.036526e+08</td>\n",
              "      <td>1.056984e+08</td>\n",
              "      <td>1.048653e+08</td>\n",
              "      <td>1.059510e+08</td>\n",
              "      <td>1.083852e+08</td>\n",
              "      <td>1.121711e+08</td>\n",
              "      <td>1.178154e+08</td>\n",
              "      <td>1.234148e+08</td>\n",
              "      <td>1.217076e+08</td>\n",
              "    </tr>\n",
              "  </tbody>\n",
              "</table>\n",
              "<p>8 rows × 174 columns</p>\n",
              "</div>"
            ],
            "text/plain": [
              "             1977-Q4        1978-Q1  ...       2020-Q4       2021-Q1\n",
              "count   11993.000000   24324.000000  ...  2.356060e+05  2.338180e+05\n",
              "mean     4767.375135    2417.093270  ...  3.993199e+04  4.041286e+04\n",
              "std     30649.186664   22026.271811  ...  9.266695e+05  9.167538e+05\n",
              "min    -44673.000000  -42983.000000  ... -2.288355e+05 -3.086983e+05\n",
              "25%        12.000000       0.954000  ... -1.000000e-03  0.000000e+00\n",
              "50%        86.000000      15.150000  ...  1.968000e+00  2.000000e+00\n",
              "75%       679.000000     184.000000  ...  1.682933e+02  1.750000e+02\n",
              "max    846506.000000  870151.000000  ...  1.234148e+08  1.217076e+08\n",
              "\n",
              "[8 rows x 174 columns]"
            ]
          },
          "metadata": {},
          "execution_count": 121
        }
      ]
    },
    {
      "cell_type": "code",
      "metadata": {
        "colab": {
          "base_uri": "https://localhost:8080/"
        },
        "id": "JPjJRLVjs9wL",
        "outputId": "f4da05e8-d14d-4535-a20e-9cd1cd6c7bcf"
      },
      "source": [
        "df.columns"
      ],
      "execution_count": 122,
      "outputs": [
        {
          "output_type": "execute_result",
          "data": {
            "text/plain": [
              "Index(['FREQ', 'Frequency', 'L_MEASURE', 'Measure', 'L_POSITION',\n",
              "       'Balance sheet position', 'L_INSTR', 'Type of instruments', 'L_DENOM',\n",
              "       'Currency denomination',\n",
              "       ...\n",
              "       '2018-Q4', '2019-Q1', '2019-Q2', '2019-Q3', '2019-Q4', '2020-Q1',\n",
              "       '2020-Q2', '2020-Q3', '2020-Q4', '2021-Q1'],\n",
              "      dtype='object', length=199)"
            ]
          },
          "metadata": {},
          "execution_count": 122
        }
      ]
    },
    {
      "cell_type": "code",
      "metadata": {
        "id": "DyUgmp0StGGO"
      },
      "source": [
        "null_count = pd.DataFrame(df.isna().sum())"
      ],
      "execution_count": 134,
      "outputs": []
    },
    {
      "cell_type": "code",
      "metadata": {
        "colab": {
          "base_uri": "https://localhost:8080/",
          "height": 542
        },
        "id": "gx6F3R-VtLi6",
        "outputId": "b339b629-a1e7-4dea-c187-c2daf74f502b"
      },
      "source": [
        "import seaborn as sns\n",
        "import plotly.express as px\n",
        "\n",
        "\n",
        "fig = px.bar(x=null_count.values.ravel(), y=null_count.index.ravel());\n",
        "fig.show()"
      ],
      "execution_count": 145,
      "outputs": [
        {
          "output_type": "display_data",
          "data": {
            "text/html": [
              "<html>\n",
              "<head><meta charset=\"utf-8\" /></head>\n",
              "<body>\n",
              "    <div>\n",
              "            <script src=\"https://cdnjs.cloudflare.com/ajax/libs/mathjax/2.7.5/MathJax.js?config=TeX-AMS-MML_SVG\"></script><script type=\"text/javascript\">if (window.MathJax) {MathJax.Hub.Config({SVG: {font: \"STIX-Web\"}});}</script>\n",
              "                <script type=\"text/javascript\">window.PlotlyConfig = {MathJaxConfig: 'local'};</script>\n",
              "        <script src=\"https://cdn.plot.ly/plotly-latest.min.js\"></script>    \n",
              "            <div id=\"38206635-b27e-413b-ad9c-dae90c56729c\" class=\"plotly-graph-div\" style=\"height:525px; width:100%;\"></div>\n",
              "            <script type=\"text/javascript\">\n",
              "                \n",
              "                    window.PLOTLYENV=window.PLOTLYENV || {};\n",
              "                    \n",
              "                if (document.getElementById(\"38206635-b27e-413b-ad9c-dae90c56729c\")) {\n",
              "                    Plotly.newPlot(\n",
              "                        '38206635-b27e-413b-ad9c-dae90c56729c',\n",
              "                        [{\"alignmentgroup\": \"True\", \"hoverlabel\": {\"namelength\": 0}, \"hovertemplate\": \"x=%{x}<br>y=%{y}\", \"legendgroup\": \"\", \"marker\": {\"color\": \"#636efa\"}, \"name\": \"\", \"offsetgroup\": \"\", \"orientation\": \"v\", \"showlegend\": false, \"textposition\": \"auto\", \"type\": \"bar\", \"x\": [0, 0, 0, 0, 0, 0, 0, 0, 0, 0, 0, 0, 0, 0, 0, 0, 0, 0, 0, 0, 1142, 0, 0, 0, 0, 270870, 258539, 258288, 258067, 258377, 258622, 258508, 258473, 258265, 258186, 258105, 258062, 257943, 257458, 257395, 257316, 257387, 257169, 257116, 257191, 259428, 256965, 256109, 256119, 254614, 252660, 252440, 252477, 252509, 252466, 252293, 252256, 251602, 251560, 251492, 251570, 251551, 251615, 251495, 251466, 251293, 251091, 251190, 251195, 251112, 250913, 250827, 250715, 250397, 250248, 250105, 250151, 249987, 250195, 250327, 250267, 250363, 250663, 250692, 250439, 250625, 250698, 250604, 250602, 249652, 248475, 248207, 248265, 248152, 247969, 247974, 247978, 234556, 220366, 219935, 219926, 220084, 219944, 219774, 219006, 217221, 215979, 216391, 216204, 214429, 212973, 213196, 213073, 212910, 213104, 213516, 214937, 213750, 212195, 212074, 212299, 210106, 207081, 205929, 205748, 204607, 202624, 202279, 202012, 200656, 199487, 199633, 199739, 199234, 197581, 196594, 196048, 195807, 195758, 195212, 194860, 194047, 193494, 193168, 189771, 189258, 188725, 188949, 188959, 187505, 189109, 189661, 189107, 187932, 187883, 186658, 185846, 186083, 184828, 185269, 184713, 184308, 182777, 172946, 168355, 167344, 166545, 166600, 163649, 97880, 65481, 63429, 62835, 53894, 52040, 52198, 51819, 51692, 50682, 50294, 50876, 49685, 48040, 47910, 46683, 46667, 45670, 46187, 46526, 46902, 47125, 47636, 47816, 47899, 48134, 48534, 48479, 47257, 49045], \"xaxis\": \"x\", \"y\": [\"FREQ\", \"Frequency\", \"L_MEASURE\", \"Measure\", \"L_POSITION\", \"Balance sheet position\", \"L_INSTR\", \"Type of instruments\", \"L_DENOM\", \"Currency denomination\", \"L_CURR_TYPE\", \"Currency type of reporting country\", \"L_PARENT_CTY\", \"Parent country\", \"L_REP_BANK_TYPE\", \"Type of reporting institutions\", \"L_REP_CTY\", \"Reporting country\", \"L_CP_SECTOR\", \"Counterparty sector\", \"L_CP_COUNTRY\", \"Counterparty country\", \"L_POS_TYPE\", \"Position type\", \"Time Period\", \"1977-Q4\", \"1978-Q1\", \"1978-Q2\", \"1978-Q3\", \"1978-Q4\", \"1979-Q1\", \"1979-Q2\", \"1979-Q3\", \"1979-Q4\", \"1980-Q1\", \"1980-Q2\", \"1980-Q3\", \"1980-Q4\", \"1981-Q1\", \"1981-Q2\", \"1981-Q3\", \"1981-Q4\", \"1982-Q1\", \"1982-Q2\", \"1982-Q3\", \"1982-Q4\", \"1983-Q1\", \"1983-Q2\", \"1983-Q3\", \"1983-Q4\", \"1984-Q1\", \"1984-Q2\", \"1984-Q3\", \"1984-Q4\", \"1985-Q1\", \"1985-Q2\", \"1985-Q3\", \"1985-Q4\", \"1986-Q1\", \"1986-Q2\", \"1986-Q3\", \"1986-Q4\", \"1987-Q1\", \"1987-Q2\", \"1987-Q3\", \"1987-Q4\", \"1988-Q1\", \"1988-Q2\", \"1988-Q3\", \"1988-Q4\", \"1989-Q1\", \"1989-Q2\", \"1989-Q3\", \"1989-Q4\", \"1990-Q1\", \"1990-Q2\", \"1990-Q3\", \"1990-Q4\", \"1991-Q1\", \"1991-Q2\", \"1991-Q3\", \"1991-Q4\", \"1992-Q1\", \"1992-Q2\", \"1992-Q3\", \"1992-Q4\", \"1993-Q1\", \"1993-Q2\", \"1993-Q3\", \"1993-Q4\", \"1994-Q1\", \"1994-Q2\", \"1994-Q3\", \"1994-Q4\", \"1995-Q1\", \"1995-Q2\", \"1995-Q3\", \"1995-Q4\", \"1996-Q1\", \"1996-Q2\", \"1996-Q3\", \"1996-Q4\", \"1997-Q1\", \"1997-Q2\", \"1997-Q3\", \"1997-Q4\", \"1998-Q1\", \"1998-Q2\", \"1998-Q3\", \"1998-Q4\", \"1999-Q1\", \"1999-Q2\", \"1999-Q3\", \"1999-Q4\", \"2000-Q1\", \"2000-Q2\", \"2000-Q3\", \"2000-Q4\", \"2001-Q1\", \"2001-Q2\", \"2001-Q3\", \"2001-Q4\", \"2002-Q1\", \"2002-Q2\", \"2002-Q3\", \"2002-Q4\", \"2003-Q1\", \"2003-Q2\", \"2003-Q3\", \"2003-Q4\", \"2004-Q1\", \"2004-Q2\", \"2004-Q3\", \"2004-Q4\", \"2005-Q1\", \"2005-Q2\", \"2005-Q3\", \"2005-Q4\", \"2006-Q1\", \"2006-Q2\", \"2006-Q3\", \"2006-Q4\", \"2007-Q1\", \"2007-Q2\", \"2007-Q3\", \"2007-Q4\", \"2008-Q1\", \"2008-Q2\", \"2008-Q3\", \"2008-Q4\", \"2009-Q1\", \"2009-Q2\", \"2009-Q3\", \"2009-Q4\", \"2010-Q1\", \"2010-Q2\", \"2010-Q3\", \"2010-Q4\", \"2011-Q1\", \"2011-Q2\", \"2011-Q3\", \"2011-Q4\", \"2012-Q1\", \"2012-Q2\", \"2012-Q3\", \"2012-Q4\", \"2013-Q1\", \"2013-Q2\", \"2013-Q3\", \"2013-Q4\", \"2014-Q1\", \"2014-Q2\", \"2014-Q3\", \"2014-Q4\", \"2015-Q1\", \"2015-Q2\", \"2015-Q3\", \"2015-Q4\", \"2016-Q1\", \"2016-Q2\", \"2016-Q3\", \"2016-Q4\", \"2017-Q1\", \"2017-Q2\", \"2017-Q3\", \"2017-Q4\", \"2018-Q1\", \"2018-Q2\", \"2018-Q3\", \"2018-Q4\", \"2019-Q1\", \"2019-Q2\", \"2019-Q3\", \"2019-Q4\", \"2020-Q1\", \"2020-Q2\", \"2020-Q3\", \"2020-Q4\", \"2021-Q1\"], \"yaxis\": \"y\"}],\n",
              "                        {\"barmode\": \"relative\", \"legend\": {\"tracegroupgap\": 0}, \"margin\": {\"t\": 60}, \"template\": {\"data\": {\"bar\": [{\"error_x\": {\"color\": \"#2a3f5f\"}, \"error_y\": {\"color\": \"#2a3f5f\"}, \"marker\": {\"line\": {\"color\": \"#E5ECF6\", \"width\": 0.5}}, \"type\": \"bar\"}], \"barpolar\": [{\"marker\": {\"line\": {\"color\": \"#E5ECF6\", \"width\": 0.5}}, \"type\": \"barpolar\"}], \"carpet\": [{\"aaxis\": {\"endlinecolor\": \"#2a3f5f\", \"gridcolor\": \"white\", \"linecolor\": \"white\", \"minorgridcolor\": \"white\", \"startlinecolor\": \"#2a3f5f\"}, \"baxis\": {\"endlinecolor\": \"#2a3f5f\", \"gridcolor\": \"white\", \"linecolor\": \"white\", \"minorgridcolor\": \"white\", \"startlinecolor\": \"#2a3f5f\"}, \"type\": \"carpet\"}], \"choropleth\": [{\"colorbar\": {\"outlinewidth\": 0, \"ticks\": \"\"}, \"type\": \"choropleth\"}], \"contour\": [{\"colorbar\": {\"outlinewidth\": 0, \"ticks\": \"\"}, \"colorscale\": [[0.0, \"#0d0887\"], [0.1111111111111111, \"#46039f\"], [0.2222222222222222, \"#7201a8\"], [0.3333333333333333, \"#9c179e\"], [0.4444444444444444, \"#bd3786\"], [0.5555555555555556, \"#d8576b\"], [0.6666666666666666, \"#ed7953\"], [0.7777777777777778, \"#fb9f3a\"], [0.8888888888888888, \"#fdca26\"], [1.0, \"#f0f921\"]], \"type\": \"contour\"}], \"contourcarpet\": [{\"colorbar\": {\"outlinewidth\": 0, \"ticks\": \"\"}, \"type\": \"contourcarpet\"}], \"heatmap\": [{\"colorbar\": {\"outlinewidth\": 0, \"ticks\": \"\"}, \"colorscale\": [[0.0, \"#0d0887\"], [0.1111111111111111, \"#46039f\"], [0.2222222222222222, \"#7201a8\"], [0.3333333333333333, \"#9c179e\"], [0.4444444444444444, \"#bd3786\"], [0.5555555555555556, \"#d8576b\"], [0.6666666666666666, \"#ed7953\"], [0.7777777777777778, \"#fb9f3a\"], [0.8888888888888888, \"#fdca26\"], [1.0, \"#f0f921\"]], \"type\": \"heatmap\"}], \"heatmapgl\": [{\"colorbar\": {\"outlinewidth\": 0, \"ticks\": \"\"}, \"colorscale\": [[0.0, \"#0d0887\"], [0.1111111111111111, \"#46039f\"], [0.2222222222222222, \"#7201a8\"], [0.3333333333333333, \"#9c179e\"], [0.4444444444444444, \"#bd3786\"], [0.5555555555555556, \"#d8576b\"], [0.6666666666666666, \"#ed7953\"], [0.7777777777777778, \"#fb9f3a\"], [0.8888888888888888, \"#fdca26\"], [1.0, \"#f0f921\"]], \"type\": \"heatmapgl\"}], \"histogram\": [{\"marker\": {\"colorbar\": {\"outlinewidth\": 0, \"ticks\": \"\"}}, \"type\": \"histogram\"}], \"histogram2d\": [{\"colorbar\": {\"outlinewidth\": 0, \"ticks\": \"\"}, \"colorscale\": [[0.0, \"#0d0887\"], [0.1111111111111111, \"#46039f\"], [0.2222222222222222, \"#7201a8\"], [0.3333333333333333, \"#9c179e\"], [0.4444444444444444, \"#bd3786\"], [0.5555555555555556, \"#d8576b\"], [0.6666666666666666, \"#ed7953\"], [0.7777777777777778, \"#fb9f3a\"], [0.8888888888888888, \"#fdca26\"], [1.0, \"#f0f921\"]], \"type\": \"histogram2d\"}], \"histogram2dcontour\": [{\"colorbar\": {\"outlinewidth\": 0, \"ticks\": \"\"}, \"colorscale\": [[0.0, \"#0d0887\"], [0.1111111111111111, \"#46039f\"], [0.2222222222222222, \"#7201a8\"], [0.3333333333333333, \"#9c179e\"], [0.4444444444444444, \"#bd3786\"], [0.5555555555555556, \"#d8576b\"], [0.6666666666666666, \"#ed7953\"], [0.7777777777777778, \"#fb9f3a\"], [0.8888888888888888, \"#fdca26\"], [1.0, \"#f0f921\"]], \"type\": \"histogram2dcontour\"}], \"mesh3d\": [{\"colorbar\": {\"outlinewidth\": 0, \"ticks\": \"\"}, \"type\": \"mesh3d\"}], \"parcoords\": [{\"line\": {\"colorbar\": {\"outlinewidth\": 0, \"ticks\": \"\"}}, \"type\": \"parcoords\"}], \"pie\": [{\"automargin\": true, \"type\": \"pie\"}], \"scatter\": [{\"marker\": {\"colorbar\": {\"outlinewidth\": 0, \"ticks\": \"\"}}, \"type\": \"scatter\"}], \"scatter3d\": [{\"line\": {\"colorbar\": {\"outlinewidth\": 0, \"ticks\": \"\"}}, \"marker\": {\"colorbar\": {\"outlinewidth\": 0, \"ticks\": \"\"}}, \"type\": \"scatter3d\"}], \"scattercarpet\": [{\"marker\": {\"colorbar\": {\"outlinewidth\": 0, \"ticks\": \"\"}}, \"type\": \"scattercarpet\"}], \"scattergeo\": [{\"marker\": {\"colorbar\": {\"outlinewidth\": 0, \"ticks\": \"\"}}, \"type\": \"scattergeo\"}], \"scattergl\": [{\"marker\": {\"colorbar\": {\"outlinewidth\": 0, \"ticks\": \"\"}}, \"type\": \"scattergl\"}], \"scattermapbox\": [{\"marker\": {\"colorbar\": {\"outlinewidth\": 0, \"ticks\": \"\"}}, \"type\": \"scattermapbox\"}], \"scatterpolar\": [{\"marker\": {\"colorbar\": {\"outlinewidth\": 0, \"ticks\": \"\"}}, \"type\": \"scatterpolar\"}], \"scatterpolargl\": [{\"marker\": {\"colorbar\": {\"outlinewidth\": 0, \"ticks\": \"\"}}, \"type\": \"scatterpolargl\"}], \"scatterternary\": [{\"marker\": {\"colorbar\": {\"outlinewidth\": 0, \"ticks\": \"\"}}, \"type\": \"scatterternary\"}], \"surface\": [{\"colorbar\": {\"outlinewidth\": 0, \"ticks\": \"\"}, \"colorscale\": [[0.0, \"#0d0887\"], [0.1111111111111111, \"#46039f\"], [0.2222222222222222, \"#7201a8\"], [0.3333333333333333, \"#9c179e\"], [0.4444444444444444, \"#bd3786\"], [0.5555555555555556, \"#d8576b\"], [0.6666666666666666, \"#ed7953\"], [0.7777777777777778, \"#fb9f3a\"], [0.8888888888888888, \"#fdca26\"], [1.0, \"#f0f921\"]], \"type\": \"surface\"}], \"table\": [{\"cells\": {\"fill\": {\"color\": \"#EBF0F8\"}, \"line\": {\"color\": \"white\"}}, \"header\": {\"fill\": {\"color\": \"#C8D4E3\"}, \"line\": {\"color\": \"white\"}}, \"type\": \"table\"}]}, \"layout\": {\"annotationdefaults\": {\"arrowcolor\": \"#2a3f5f\", \"arrowhead\": 0, \"arrowwidth\": 1}, \"coloraxis\": {\"colorbar\": {\"outlinewidth\": 0, \"ticks\": \"\"}}, \"colorscale\": {\"diverging\": [[0, \"#8e0152\"], [0.1, \"#c51b7d\"], [0.2, \"#de77ae\"], [0.3, \"#f1b6da\"], [0.4, \"#fde0ef\"], [0.5, \"#f7f7f7\"], [0.6, \"#e6f5d0\"], [0.7, \"#b8e186\"], [0.8, \"#7fbc41\"], [0.9, \"#4d9221\"], [1, \"#276419\"]], \"sequential\": [[0.0, \"#0d0887\"], [0.1111111111111111, \"#46039f\"], [0.2222222222222222, \"#7201a8\"], [0.3333333333333333, \"#9c179e\"], [0.4444444444444444, \"#bd3786\"], [0.5555555555555556, \"#d8576b\"], [0.6666666666666666, \"#ed7953\"], [0.7777777777777778, \"#fb9f3a\"], [0.8888888888888888, \"#fdca26\"], [1.0, \"#f0f921\"]], \"sequentialminus\": [[0.0, \"#0d0887\"], [0.1111111111111111, \"#46039f\"], [0.2222222222222222, \"#7201a8\"], [0.3333333333333333, \"#9c179e\"], [0.4444444444444444, \"#bd3786\"], [0.5555555555555556, \"#d8576b\"], [0.6666666666666666, \"#ed7953\"], [0.7777777777777778, \"#fb9f3a\"], [0.8888888888888888, \"#fdca26\"], [1.0, \"#f0f921\"]]}, \"colorway\": [\"#636efa\", \"#EF553B\", \"#00cc96\", \"#ab63fa\", \"#FFA15A\", \"#19d3f3\", \"#FF6692\", \"#B6E880\", \"#FF97FF\", \"#FECB52\"], \"font\": {\"color\": \"#2a3f5f\"}, \"geo\": {\"bgcolor\": \"white\", \"lakecolor\": \"white\", \"landcolor\": \"#E5ECF6\", \"showlakes\": true, \"showland\": true, \"subunitcolor\": \"white\"}, \"hoverlabel\": {\"align\": \"left\"}, \"hovermode\": \"closest\", \"mapbox\": {\"style\": \"light\"}, \"paper_bgcolor\": \"white\", \"plot_bgcolor\": \"#E5ECF6\", \"polar\": {\"angularaxis\": {\"gridcolor\": \"white\", \"linecolor\": \"white\", \"ticks\": \"\"}, \"bgcolor\": \"#E5ECF6\", \"radialaxis\": {\"gridcolor\": \"white\", \"linecolor\": \"white\", \"ticks\": \"\"}}, \"scene\": {\"xaxis\": {\"backgroundcolor\": \"#E5ECF6\", \"gridcolor\": \"white\", \"gridwidth\": 2, \"linecolor\": \"white\", \"showbackground\": true, \"ticks\": \"\", \"zerolinecolor\": \"white\"}, \"yaxis\": {\"backgroundcolor\": \"#E5ECF6\", \"gridcolor\": \"white\", \"gridwidth\": 2, \"linecolor\": \"white\", \"showbackground\": true, \"ticks\": \"\", \"zerolinecolor\": \"white\"}, \"zaxis\": {\"backgroundcolor\": \"#E5ECF6\", \"gridcolor\": \"white\", \"gridwidth\": 2, \"linecolor\": \"white\", \"showbackground\": true, \"ticks\": \"\", \"zerolinecolor\": \"white\"}}, \"shapedefaults\": {\"line\": {\"color\": \"#2a3f5f\"}}, \"ternary\": {\"aaxis\": {\"gridcolor\": \"white\", \"linecolor\": \"white\", \"ticks\": \"\"}, \"baxis\": {\"gridcolor\": \"white\", \"linecolor\": \"white\", \"ticks\": \"\"}, \"bgcolor\": \"#E5ECF6\", \"caxis\": {\"gridcolor\": \"white\", \"linecolor\": \"white\", \"ticks\": \"\"}}, \"title\": {\"x\": 0.05}, \"xaxis\": {\"automargin\": true, \"gridcolor\": \"white\", \"linecolor\": \"white\", \"ticks\": \"\", \"title\": {\"standoff\": 15}, \"zerolinecolor\": \"white\", \"zerolinewidth\": 2}, \"yaxis\": {\"automargin\": true, \"gridcolor\": \"white\", \"linecolor\": \"white\", \"ticks\": \"\", \"title\": {\"standoff\": 15}, \"zerolinecolor\": \"white\", \"zerolinewidth\": 2}}}, \"xaxis\": {\"anchor\": \"y\", \"domain\": [0.0, 1.0], \"title\": {\"text\": \"x\"}}, \"yaxis\": {\"anchor\": \"x\", \"domain\": [0.0, 1.0], \"title\": {\"text\": \"y\"}}},\n",
              "                        {\"responsive\": true}\n",
              "                    ).then(function(){\n",
              "                            \n",
              "var gd = document.getElementById('38206635-b27e-413b-ad9c-dae90c56729c');\n",
              "var x = new MutationObserver(function (mutations, observer) {{\n",
              "        var display = window.getComputedStyle(gd).display;\n",
              "        if (!display || display === 'none') {{\n",
              "            console.log([gd, 'removed!']);\n",
              "            Plotly.purge(gd);\n",
              "            observer.disconnect();\n",
              "        }}\n",
              "}});\n",
              "\n",
              "// Listen for the removal of the full notebook cells\n",
              "var notebookContainer = gd.closest('#notebook-container');\n",
              "if (notebookContainer) {{\n",
              "    x.observe(notebookContainer, {childList: true});\n",
              "}}\n",
              "\n",
              "// Listen for the clearing of the current output cell\n",
              "var outputEl = gd.closest('.output');\n",
              "if (outputEl) {{\n",
              "    x.observe(outputEl, {childList: true});\n",
              "}}\n",
              "\n",
              "                        })\n",
              "                };\n",
              "                \n",
              "            </script>\n",
              "        </div>\n",
              "</body>\n",
              "</html>"
            ]
          },
          "metadata": {}
        }
      ]
    },
    {
      "cell_type": "code",
      "metadata": {
        "colab": {
          "base_uri": "https://localhost:8080/",
          "height": 423
        },
        "id": "1Nw66lyuuG8G",
        "outputId": "4169cf59-e482-4cb6-f52c-0f384290e5f5"
      },
      "source": [
        "null_count.columns = [\"count\"]\n",
        "null_count"
      ],
      "execution_count": 150,
      "outputs": [
        {
          "output_type": "execute_result",
          "data": {
            "text/html": [
              "<div>\n",
              "<style scoped>\n",
              "    .dataframe tbody tr th:only-of-type {\n",
              "        vertical-align: middle;\n",
              "    }\n",
              "\n",
              "    .dataframe tbody tr th {\n",
              "        vertical-align: top;\n",
              "    }\n",
              "\n",
              "    .dataframe thead th {\n",
              "        text-align: right;\n",
              "    }\n",
              "</style>\n",
              "<table border=\"1\" class=\"dataframe\">\n",
              "  <thead>\n",
              "    <tr style=\"text-align: right;\">\n",
              "      <th></th>\n",
              "      <th>count</th>\n",
              "    </tr>\n",
              "  </thead>\n",
              "  <tbody>\n",
              "    <tr>\n",
              "      <th>FREQ</th>\n",
              "      <td>0</td>\n",
              "    </tr>\n",
              "    <tr>\n",
              "      <th>Frequency</th>\n",
              "      <td>0</td>\n",
              "    </tr>\n",
              "    <tr>\n",
              "      <th>L_MEASURE</th>\n",
              "      <td>0</td>\n",
              "    </tr>\n",
              "    <tr>\n",
              "      <th>Measure</th>\n",
              "      <td>0</td>\n",
              "    </tr>\n",
              "    <tr>\n",
              "      <th>L_POSITION</th>\n",
              "      <td>0</td>\n",
              "    </tr>\n",
              "    <tr>\n",
              "      <th>...</th>\n",
              "      <td>...</td>\n",
              "    </tr>\n",
              "    <tr>\n",
              "      <th>2020-Q1</th>\n",
              "      <td>48134</td>\n",
              "    </tr>\n",
              "    <tr>\n",
              "      <th>2020-Q2</th>\n",
              "      <td>48534</td>\n",
              "    </tr>\n",
              "    <tr>\n",
              "      <th>2020-Q3</th>\n",
              "      <td>48479</td>\n",
              "    </tr>\n",
              "    <tr>\n",
              "      <th>2020-Q4</th>\n",
              "      <td>47257</td>\n",
              "    </tr>\n",
              "    <tr>\n",
              "      <th>2021-Q1</th>\n",
              "      <td>49045</td>\n",
              "    </tr>\n",
              "  </tbody>\n",
              "</table>\n",
              "<p>199 rows × 1 columns</p>\n",
              "</div>"
            ],
            "text/plain": [
              "            count\n",
              "FREQ            0\n",
              "Frequency       0\n",
              "L_MEASURE       0\n",
              "Measure         0\n",
              "L_POSITION      0\n",
              "...           ...\n",
              "2020-Q1     48134\n",
              "2020-Q2     48534\n",
              "2020-Q3     48479\n",
              "2020-Q4     47257\n",
              "2021-Q1     49045\n",
              "\n",
              "[199 rows x 1 columns]"
            ]
          },
          "metadata": {},
          "execution_count": 150
        }
      ]
    },
    {
      "cell_type": "code",
      "metadata": {
        "colab": {
          "base_uri": "https://localhost:8080/"
        },
        "id": "v3DifhW5wvcA",
        "outputId": "1e749a82-f197-406e-d2a7-abe270fcbc50"
      },
      "source": [
        "print(len(null_count[null_count[\"count\"]>0].index))\n",
        "null_columns = null_count[null_count[\"count\"]>0].index"
      ],
      "execution_count": 165,
      "outputs": [
        {
          "output_type": "stream",
          "name": "stdout",
          "text": [
            "175\n"
          ]
        }
      ]
    },
    {
      "cell_type": "code",
      "metadata": {
        "id": "SEJDy9cGyZor"
      },
      "source": [
        "df_null = df.loc[:, null_columns]"
      ],
      "execution_count": 166,
      "outputs": []
    },
    {
      "cell_type": "code",
      "metadata": {
        "id": "CdOxR4zoxFOY"
      },
      "source": [
        "non_null_columns = null_count[null_count[\"count\"]==0].index"
      ],
      "execution_count": 157,
      "outputs": []
    },
    {
      "cell_type": "code",
      "metadata": {
        "colab": {
          "base_uri": "https://localhost:8080/",
          "height": 711
        },
        "id": "s6mGvaulxb3_",
        "outputId": "6238f689-2fd6-460b-9e33-346d8b8e0d4a"
      },
      "source": [
        "df_non_null = df.loc[:, non_null_columns]\n",
        "df_non_null.head()"
      ],
      "execution_count": 160,
      "outputs": [
        {
          "output_type": "execute_result",
          "data": {
            "text/html": [
              "<div>\n",
              "<style scoped>\n",
              "    .dataframe tbody tr th:only-of-type {\n",
              "        vertical-align: middle;\n",
              "    }\n",
              "\n",
              "    .dataframe tbody tr th {\n",
              "        vertical-align: top;\n",
              "    }\n",
              "\n",
              "    .dataframe thead th {\n",
              "        text-align: right;\n",
              "    }\n",
              "</style>\n",
              "<table border=\"1\" class=\"dataframe\">\n",
              "  <thead>\n",
              "    <tr style=\"text-align: right;\">\n",
              "      <th></th>\n",
              "      <th>FREQ</th>\n",
              "      <th>Frequency</th>\n",
              "      <th>L_MEASURE</th>\n",
              "      <th>Measure</th>\n",
              "      <th>L_POSITION</th>\n",
              "      <th>Balance sheet position</th>\n",
              "      <th>L_INSTR</th>\n",
              "      <th>Type of instruments</th>\n",
              "      <th>L_DENOM</th>\n",
              "      <th>Currency denomination</th>\n",
              "      <th>L_CURR_TYPE</th>\n",
              "      <th>Currency type of reporting country</th>\n",
              "      <th>L_PARENT_CTY</th>\n",
              "      <th>Parent country</th>\n",
              "      <th>L_REP_BANK_TYPE</th>\n",
              "      <th>Type of reporting institutions</th>\n",
              "      <th>L_REP_CTY</th>\n",
              "      <th>Reporting country</th>\n",
              "      <th>L_CP_SECTOR</th>\n",
              "      <th>Counterparty sector</th>\n",
              "      <th>Counterparty country</th>\n",
              "      <th>L_POS_TYPE</th>\n",
              "      <th>Position type</th>\n",
              "      <th>Time Period</th>\n",
              "    </tr>\n",
              "  </thead>\n",
              "  <tbody>\n",
              "    <tr>\n",
              "      <th>0</th>\n",
              "      <td>Q</td>\n",
              "      <td>Quarterly</td>\n",
              "      <td>F</td>\n",
              "      <td>FX and break adjusted change (BIS calculated)</td>\n",
              "      <td>C</td>\n",
              "      <td>Total claims</td>\n",
              "      <td>A</td>\n",
              "      <td>All instruments</td>\n",
              "      <td>CHF</td>\n",
              "      <td>Swiss Franc</td>\n",
              "      <td>A</td>\n",
              "      <td>All currencies (=D+F+U)</td>\n",
              "      <td>5J</td>\n",
              "      <td>All countries</td>\n",
              "      <td>A</td>\n",
              "      <td>All reporting banks/institutions (domestic, fo...</td>\n",
              "      <td>5A</td>\n",
              "      <td>All reporting countries</td>\n",
              "      <td>A</td>\n",
              "      <td>All sectors</td>\n",
              "      <td>International organisations</td>\n",
              "      <td>N</td>\n",
              "      <td>Cross-border</td>\n",
              "      <td>Q:F:C:A:CHF:A:5J:A:5A:A:1C:N</td>\n",
              "    </tr>\n",
              "    <tr>\n",
              "      <th>1</th>\n",
              "      <td>Q</td>\n",
              "      <td>Quarterly</td>\n",
              "      <td>F</td>\n",
              "      <td>FX and break adjusted change (BIS calculated)</td>\n",
              "      <td>C</td>\n",
              "      <td>Total claims</td>\n",
              "      <td>A</td>\n",
              "      <td>All instruments</td>\n",
              "      <td>CHF</td>\n",
              "      <td>Swiss Franc</td>\n",
              "      <td>A</td>\n",
              "      <td>All currencies (=D+F+U)</td>\n",
              "      <td>5J</td>\n",
              "      <td>All countries</td>\n",
              "      <td>A</td>\n",
              "      <td>All reporting banks/institutions (domestic, fo...</td>\n",
              "      <td>5A</td>\n",
              "      <td>All reporting countries</td>\n",
              "      <td>A</td>\n",
              "      <td>All sectors</td>\n",
              "      <td>Offshore centres</td>\n",
              "      <td>N</td>\n",
              "      <td>Cross-border</td>\n",
              "      <td>Q:F:C:A:CHF:A:5J:A:5A:A:1N:N</td>\n",
              "    </tr>\n",
              "    <tr>\n",
              "      <th>2</th>\n",
              "      <td>Q</td>\n",
              "      <td>Quarterly</td>\n",
              "      <td>F</td>\n",
              "      <td>FX and break adjusted change (BIS calculated)</td>\n",
              "      <td>C</td>\n",
              "      <td>Total claims</td>\n",
              "      <td>A</td>\n",
              "      <td>All instruments</td>\n",
              "      <td>CHF</td>\n",
              "      <td>Swiss Franc</td>\n",
              "      <td>A</td>\n",
              "      <td>All currencies (=D+F+U)</td>\n",
              "      <td>5J</td>\n",
              "      <td>All countries</td>\n",
              "      <td>A</td>\n",
              "      <td>All reporting banks/institutions (domestic, fo...</td>\n",
              "      <td>5A</td>\n",
              "      <td>All reporting countries</td>\n",
              "      <td>A</td>\n",
              "      <td>All sectors</td>\n",
              "      <td>British Overseas Territories</td>\n",
              "      <td>N</td>\n",
              "      <td>Cross-border</td>\n",
              "      <td>Q:F:C:A:CHF:A:5J:A:5A:A:1W:N</td>\n",
              "    </tr>\n",
              "    <tr>\n",
              "      <th>3</th>\n",
              "      <td>Q</td>\n",
              "      <td>Quarterly</td>\n",
              "      <td>F</td>\n",
              "      <td>FX and break adjusted change (BIS calculated)</td>\n",
              "      <td>C</td>\n",
              "      <td>Total claims</td>\n",
              "      <td>A</td>\n",
              "      <td>All instruments</td>\n",
              "      <td>CHF</td>\n",
              "      <td>Swiss Franc</td>\n",
              "      <td>A</td>\n",
              "      <td>All currencies (=D+F+U)</td>\n",
              "      <td>5J</td>\n",
              "      <td>All countries</td>\n",
              "      <td>A</td>\n",
              "      <td>All reporting banks/institutions (domestic, fo...</td>\n",
              "      <td>5A</td>\n",
              "      <td>All reporting countries</td>\n",
              "      <td>A</td>\n",
              "      <td>All sectors</td>\n",
              "      <td>West Indies UK</td>\n",
              "      <td>N</td>\n",
              "      <td>Cross-border</td>\n",
              "      <td>Q:F:C:A:CHF:A:5J:A:5A:A:1Z:N</td>\n",
              "    </tr>\n",
              "    <tr>\n",
              "      <th>4</th>\n",
              "      <td>Q</td>\n",
              "      <td>Quarterly</td>\n",
              "      <td>F</td>\n",
              "      <td>FX and break adjusted change (BIS calculated)</td>\n",
              "      <td>C</td>\n",
              "      <td>Total claims</td>\n",
              "      <td>A</td>\n",
              "      <td>All instruments</td>\n",
              "      <td>CHF</td>\n",
              "      <td>Swiss Franc</td>\n",
              "      <td>A</td>\n",
              "      <td>All currencies (=D+F+U)</td>\n",
              "      <td>5J</td>\n",
              "      <td>All countries</td>\n",
              "      <td>A</td>\n",
              "      <td>All reporting banks/institutions (domestic, fo...</td>\n",
              "      <td>5A</td>\n",
              "      <td>All reporting countries</td>\n",
              "      <td>A</td>\n",
              "      <td>All sectors</td>\n",
              "      <td>Residual developing Europe</td>\n",
              "      <td>N</td>\n",
              "      <td>Cross-border</td>\n",
              "      <td>Q:F:C:A:CHF:A:5J:A:5A:A:2B:N</td>\n",
              "    </tr>\n",
              "  </tbody>\n",
              "</table>\n",
              "</div>"
            ],
            "text/plain": [
              "  FREQ  Frequency  ... Position type                   Time Period\n",
              "0    Q  Quarterly  ...  Cross-border  Q:F:C:A:CHF:A:5J:A:5A:A:1C:N\n",
              "1    Q  Quarterly  ...  Cross-border  Q:F:C:A:CHF:A:5J:A:5A:A:1N:N\n",
              "2    Q  Quarterly  ...  Cross-border  Q:F:C:A:CHF:A:5J:A:5A:A:1W:N\n",
              "3    Q  Quarterly  ...  Cross-border  Q:F:C:A:CHF:A:5J:A:5A:A:1Z:N\n",
              "4    Q  Quarterly  ...  Cross-border  Q:F:C:A:CHF:A:5J:A:5A:A:2B:N\n",
              "\n",
              "[5 rows x 24 columns]"
            ]
          },
          "metadata": {},
          "execution_count": 160
        }
      ]
    },
    {
      "cell_type": "code",
      "metadata": {
        "colab": {
          "base_uri": "https://localhost:8080/"
        },
        "id": "NF_XCq25xoxp",
        "outputId": "c575e74a-4e88-4f6e-9213-ae4a54cd132e"
      },
      "source": [
        "df_non_null.dtypes"
      ],
      "execution_count": 161,
      "outputs": [
        {
          "output_type": "execute_result",
          "data": {
            "text/plain": [
              "FREQ                                  object\n",
              "Frequency                             object\n",
              "L_MEASURE                             object\n",
              "Measure                               object\n",
              "L_POSITION                            object\n",
              "Balance sheet position                object\n",
              "L_INSTR                               object\n",
              "Type of instruments                   object\n",
              "L_DENOM                               object\n",
              "Currency denomination                 object\n",
              "L_CURR_TYPE                           object\n",
              "Currency type of reporting country    object\n",
              "L_PARENT_CTY                          object\n",
              "Parent country                        object\n",
              "L_REP_BANK_TYPE                       object\n",
              "Type of reporting institutions        object\n",
              "L_REP_CTY                             object\n",
              "Reporting country                     object\n",
              "L_CP_SECTOR                           object\n",
              "Counterparty sector                   object\n",
              "Counterparty country                  object\n",
              "L_POS_TYPE                            object\n",
              "Position type                         object\n",
              "Time Period                           object\n",
              "dtype: object"
            ]
          },
          "metadata": {},
          "execution_count": 161
        }
      ]
    },
    {
      "cell_type": "code",
      "metadata": {
        "colab": {
          "base_uri": "https://localhost:8080/"
        },
        "id": "YDR2NetBzt4g",
        "outputId": "44d74de3-4f12-414f-e4cb-294087e8370d"
      },
      "source": [
        "dict_val = {}\n",
        "\n",
        "for i in df_non_null.dtypes:\n",
        "  if i not in dict_val:\n",
        "    dict_val[i] = 1\n",
        "  else:\n",
        "    dict_val[i] +=1\n",
        "\n",
        "print(dict_val)"
      ],
      "execution_count": 171,
      "outputs": [
        {
          "output_type": "stream",
          "name": "stdout",
          "text": [
            "{dtype('O'): 24}\n"
          ]
        }
      ]
    },
    {
      "cell_type": "markdown",
      "metadata": {
        "id": "4SijbGLbzsw4"
      },
      "source": [
        "* Conclusion: **None of the columns have number value are all non-null**"
      ]
    },
    {
      "cell_type": "code",
      "metadata": {
        "colab": {
          "base_uri": "https://localhost:8080/",
          "height": 273
        },
        "id": "XJ5HJ3Oyx0Oy",
        "outputId": "eaed81af-293c-4b30-8404-a9b28094bb62"
      },
      "source": [
        "df_null.head()"
      ],
      "execution_count": 167,
      "outputs": [
        {
          "output_type": "execute_result",
          "data": {
            "text/html": [
              "<div>\n",
              "<style scoped>\n",
              "    .dataframe tbody tr th:only-of-type {\n",
              "        vertical-align: middle;\n",
              "    }\n",
              "\n",
              "    .dataframe tbody tr th {\n",
              "        vertical-align: top;\n",
              "    }\n",
              "\n",
              "    .dataframe thead th {\n",
              "        text-align: right;\n",
              "    }\n",
              "</style>\n",
              "<table border=\"1\" class=\"dataframe\">\n",
              "  <thead>\n",
              "    <tr style=\"text-align: right;\">\n",
              "      <th></th>\n",
              "      <th>L_CP_COUNTRY</th>\n",
              "      <th>1977-Q4</th>\n",
              "      <th>1978-Q1</th>\n",
              "      <th>1978-Q2</th>\n",
              "      <th>1978-Q3</th>\n",
              "      <th>1978-Q4</th>\n",
              "      <th>1979-Q1</th>\n",
              "      <th>1979-Q2</th>\n",
              "      <th>1979-Q3</th>\n",
              "      <th>1979-Q4</th>\n",
              "      <th>1980-Q1</th>\n",
              "      <th>1980-Q2</th>\n",
              "      <th>1980-Q3</th>\n",
              "      <th>1980-Q4</th>\n",
              "      <th>1981-Q1</th>\n",
              "      <th>1981-Q2</th>\n",
              "      <th>1981-Q3</th>\n",
              "      <th>1981-Q4</th>\n",
              "      <th>1982-Q1</th>\n",
              "      <th>1982-Q2</th>\n",
              "      <th>1982-Q3</th>\n",
              "      <th>1982-Q4</th>\n",
              "      <th>1983-Q1</th>\n",
              "      <th>1983-Q2</th>\n",
              "      <th>1983-Q3</th>\n",
              "      <th>1983-Q4</th>\n",
              "      <th>1984-Q1</th>\n",
              "      <th>1984-Q2</th>\n",
              "      <th>1984-Q3</th>\n",
              "      <th>1984-Q4</th>\n",
              "      <th>1985-Q1</th>\n",
              "      <th>1985-Q2</th>\n",
              "      <th>1985-Q3</th>\n",
              "      <th>1985-Q4</th>\n",
              "      <th>1986-Q1</th>\n",
              "      <th>1986-Q2</th>\n",
              "      <th>1986-Q3</th>\n",
              "      <th>1986-Q4</th>\n",
              "      <th>1987-Q1</th>\n",
              "      <th>1987-Q2</th>\n",
              "      <th>...</th>\n",
              "      <th>2011-Q2</th>\n",
              "      <th>2011-Q3</th>\n",
              "      <th>2011-Q4</th>\n",
              "      <th>2012-Q1</th>\n",
              "      <th>2012-Q2</th>\n",
              "      <th>2012-Q3</th>\n",
              "      <th>2012-Q4</th>\n",
              "      <th>2013-Q1</th>\n",
              "      <th>2013-Q2</th>\n",
              "      <th>2013-Q3</th>\n",
              "      <th>2013-Q4</th>\n",
              "      <th>2014-Q1</th>\n",
              "      <th>2014-Q2</th>\n",
              "      <th>2014-Q3</th>\n",
              "      <th>2014-Q4</th>\n",
              "      <th>2015-Q1</th>\n",
              "      <th>2015-Q2</th>\n",
              "      <th>2015-Q3</th>\n",
              "      <th>2015-Q4</th>\n",
              "      <th>2016-Q1</th>\n",
              "      <th>2016-Q2</th>\n",
              "      <th>2016-Q3</th>\n",
              "      <th>2016-Q4</th>\n",
              "      <th>2017-Q1</th>\n",
              "      <th>2017-Q2</th>\n",
              "      <th>2017-Q3</th>\n",
              "      <th>2017-Q4</th>\n",
              "      <th>2018-Q1</th>\n",
              "      <th>2018-Q2</th>\n",
              "      <th>2018-Q3</th>\n",
              "      <th>2018-Q4</th>\n",
              "      <th>2019-Q1</th>\n",
              "      <th>2019-Q2</th>\n",
              "      <th>2019-Q3</th>\n",
              "      <th>2019-Q4</th>\n",
              "      <th>2020-Q1</th>\n",
              "      <th>2020-Q2</th>\n",
              "      <th>2020-Q3</th>\n",
              "      <th>2020-Q4</th>\n",
              "      <th>2021-Q1</th>\n",
              "    </tr>\n",
              "  </thead>\n",
              "  <tbody>\n",
              "    <tr>\n",
              "      <th>0</th>\n",
              "      <td>1C</td>\n",
              "      <td>NaN</td>\n",
              "      <td>-1.725</td>\n",
              "      <td>39.519</td>\n",
              "      <td>-44.993</td>\n",
              "      <td>45.005</td>\n",
              "      <td>2.231</td>\n",
              "      <td>-17.743</td>\n",
              "      <td>-27.377</td>\n",
              "      <td>8.695</td>\n",
              "      <td>-4.375</td>\n",
              "      <td>6.783</td>\n",
              "      <td>4.788</td>\n",
              "      <td>8.111</td>\n",
              "      <td>-30.537</td>\n",
              "      <td>14.969</td>\n",
              "      <td>10.438</td>\n",
              "      <td>14.695</td>\n",
              "      <td>-30.734</td>\n",
              "      <td>-6.218</td>\n",
              "      <td>16.973</td>\n",
              "      <td>22.431</td>\n",
              "      <td>-19.064</td>\n",
              "      <td>-30.120</td>\n",
              "      <td>22.405</td>\n",
              "      <td>-8.142</td>\n",
              "      <td>24.217</td>\n",
              "      <td>18.917</td>\n",
              "      <td>-3.897</td>\n",
              "      <td>755.849</td>\n",
              "      <td>78.339</td>\n",
              "      <td>171.219</td>\n",
              "      <td>38.646</td>\n",
              "      <td>29.162</td>\n",
              "      <td>289.770</td>\n",
              "      <td>-214.244</td>\n",
              "      <td>-82.907</td>\n",
              "      <td>214.799</td>\n",
              "      <td>-104.702</td>\n",
              "      <td>100.839</td>\n",
              "      <td>...</td>\n",
              "      <td>12.881</td>\n",
              "      <td>32.620</td>\n",
              "      <td>-479.392</td>\n",
              "      <td>84.138</td>\n",
              "      <td>6.756</td>\n",
              "      <td>144.042</td>\n",
              "      <td>1710.610</td>\n",
              "      <td>-27.754</td>\n",
              "      <td>-283.713</td>\n",
              "      <td>-1086.346</td>\n",
              "      <td>607.883</td>\n",
              "      <td>-248.590</td>\n",
              "      <td>-358.287</td>\n",
              "      <td>249.439</td>\n",
              "      <td>-132.366</td>\n",
              "      <td>412.066</td>\n",
              "      <td>-10.601</td>\n",
              "      <td>-207.443</td>\n",
              "      <td>-68.488</td>\n",
              "      <td>-61.684</td>\n",
              "      <td>242.098</td>\n",
              "      <td>-167.746</td>\n",
              "      <td>-159.325</td>\n",
              "      <td>298.492</td>\n",
              "      <td>-352.555</td>\n",
              "      <td>-168.495</td>\n",
              "      <td>-35.811</td>\n",
              "      <td>144.544</td>\n",
              "      <td>-143.614</td>\n",
              "      <td>0.091</td>\n",
              "      <td>-75.289</td>\n",
              "      <td>-390.021</td>\n",
              "      <td>-347.322</td>\n",
              "      <td>-382.308</td>\n",
              "      <td>-55.171</td>\n",
              "      <td>-194.847</td>\n",
              "      <td>104.808</td>\n",
              "      <td>-28.299</td>\n",
              "      <td>-388.690</td>\n",
              "      <td>-347.531</td>\n",
              "    </tr>\n",
              "    <tr>\n",
              "      <th>1</th>\n",
              "      <td>1N</td>\n",
              "      <td>NaN</td>\n",
              "      <td>-72.318</td>\n",
              "      <td>-39.357</td>\n",
              "      <td>183.905</td>\n",
              "      <td>84.796</td>\n",
              "      <td>139.488</td>\n",
              "      <td>304.163</td>\n",
              "      <td>301.945</td>\n",
              "      <td>-83.247</td>\n",
              "      <td>761.755</td>\n",
              "      <td>-185.211</td>\n",
              "      <td>278.251</td>\n",
              "      <td>617.978</td>\n",
              "      <td>13.479</td>\n",
              "      <td>168.246</td>\n",
              "      <td>400.382</td>\n",
              "      <td>-68.009</td>\n",
              "      <td>247.054</td>\n",
              "      <td>247.496</td>\n",
              "      <td>71.868</td>\n",
              "      <td>79.527</td>\n",
              "      <td>267.960</td>\n",
              "      <td>380.240</td>\n",
              "      <td>259.385</td>\n",
              "      <td>776.747</td>\n",
              "      <td>627.281</td>\n",
              "      <td>674.342</td>\n",
              "      <td>682.500</td>\n",
              "      <td>-536.170</td>\n",
              "      <td>1052.406</td>\n",
              "      <td>188.209</td>\n",
              "      <td>126.705</td>\n",
              "      <td>409.798</td>\n",
              "      <td>446.748</td>\n",
              "      <td>-772.813</td>\n",
              "      <td>233.570</td>\n",
              "      <td>184.596</td>\n",
              "      <td>1284.502</td>\n",
              "      <td>-1016.548</td>\n",
              "      <td>...</td>\n",
              "      <td>-514.312</td>\n",
              "      <td>-1285.626</td>\n",
              "      <td>-3030.498</td>\n",
              "      <td>-1153.783</td>\n",
              "      <td>-1421.988</td>\n",
              "      <td>-2219.717</td>\n",
              "      <td>1317.883</td>\n",
              "      <td>-1560.924</td>\n",
              "      <td>882.527</td>\n",
              "      <td>-451.802</td>\n",
              "      <td>2331.388</td>\n",
              "      <td>-2708.770</td>\n",
              "      <td>1833.465</td>\n",
              "      <td>4680.002</td>\n",
              "      <td>1156.849</td>\n",
              "      <td>-3217.545</td>\n",
              "      <td>-1058.659</td>\n",
              "      <td>-3113.650</td>\n",
              "      <td>-767.154</td>\n",
              "      <td>-2722.832</td>\n",
              "      <td>493.930</td>\n",
              "      <td>-1698.976</td>\n",
              "      <td>576.693</td>\n",
              "      <td>-1553.547</td>\n",
              "      <td>2256.965</td>\n",
              "      <td>451.115</td>\n",
              "      <td>-1441.822</td>\n",
              "      <td>1516.788</td>\n",
              "      <td>-266.965</td>\n",
              "      <td>-1294.612</td>\n",
              "      <td>-1122.829</td>\n",
              "      <td>-764.798</td>\n",
              "      <td>1840.657</td>\n",
              "      <td>7914.651</td>\n",
              "      <td>12342.556</td>\n",
              "      <td>1299.177</td>\n",
              "      <td>-10167.751</td>\n",
              "      <td>-2013.523</td>\n",
              "      <td>-212.637</td>\n",
              "      <td>-2089.863</td>\n",
              "    </tr>\n",
              "    <tr>\n",
              "      <th>2</th>\n",
              "      <td>1W</td>\n",
              "      <td>NaN</td>\n",
              "      <td>NaN</td>\n",
              "      <td>NaN</td>\n",
              "      <td>NaN</td>\n",
              "      <td>NaN</td>\n",
              "      <td>NaN</td>\n",
              "      <td>NaN</td>\n",
              "      <td>NaN</td>\n",
              "      <td>NaN</td>\n",
              "      <td>NaN</td>\n",
              "      <td>NaN</td>\n",
              "      <td>NaN</td>\n",
              "      <td>NaN</td>\n",
              "      <td>NaN</td>\n",
              "      <td>NaN</td>\n",
              "      <td>NaN</td>\n",
              "      <td>NaN</td>\n",
              "      <td>NaN</td>\n",
              "      <td>NaN</td>\n",
              "      <td>NaN</td>\n",
              "      <td>NaN</td>\n",
              "      <td>NaN</td>\n",
              "      <td>NaN</td>\n",
              "      <td>NaN</td>\n",
              "      <td>NaN</td>\n",
              "      <td>NaN</td>\n",
              "      <td>NaN</td>\n",
              "      <td>NaN</td>\n",
              "      <td>NaN</td>\n",
              "      <td>NaN</td>\n",
              "      <td>1.978</td>\n",
              "      <td>0.616</td>\n",
              "      <td>-3.079</td>\n",
              "      <td>2.937</td>\n",
              "      <td>0.727</td>\n",
              "      <td>-0.346</td>\n",
              "      <td>2.860</td>\n",
              "      <td>1.423</td>\n",
              "      <td>-6.030</td>\n",
              "      <td>...</td>\n",
              "      <td>0.776</td>\n",
              "      <td>-0.852</td>\n",
              "      <td>1.114</td>\n",
              "      <td>-1.101</td>\n",
              "      <td>-0.904</td>\n",
              "      <td>-0.021</td>\n",
              "      <td>2.924</td>\n",
              "      <td>-0.863</td>\n",
              "      <td>-0.028</td>\n",
              "      <td>-0.123</td>\n",
              "      <td>-0.288</td>\n",
              "      <td>0.112</td>\n",
              "      <td>0.143</td>\n",
              "      <td>-0.055</td>\n",
              "      <td>-1.356</td>\n",
              "      <td>0.957</td>\n",
              "      <td>-0.402</td>\n",
              "      <td>0.611</td>\n",
              "      <td>-0.623</td>\n",
              "      <td>0.229</td>\n",
              "      <td>0.540</td>\n",
              "      <td>-0.522</td>\n",
              "      <td>-0.355</td>\n",
              "      <td>-0.034</td>\n",
              "      <td>-3.008</td>\n",
              "      <td>0.000</td>\n",
              "      <td>0.000</td>\n",
              "      <td>-0.001</td>\n",
              "      <td>0.000</td>\n",
              "      <td>0.000</td>\n",
              "      <td>0.000</td>\n",
              "      <td>38.919</td>\n",
              "      <td>33.415</td>\n",
              "      <td>0.010</td>\n",
              "      <td>-0.008</td>\n",
              "      <td>-25.838</td>\n",
              "      <td>-26.772</td>\n",
              "      <td>-23.363</td>\n",
              "      <td>-0.001</td>\n",
              "      <td>0.016</td>\n",
              "    </tr>\n",
              "    <tr>\n",
              "      <th>3</th>\n",
              "      <td>1Z</td>\n",
              "      <td>NaN</td>\n",
              "      <td>2.900</td>\n",
              "      <td>-0.021</td>\n",
              "      <td>0.374</td>\n",
              "      <td>0.175</td>\n",
              "      <td>4.220</td>\n",
              "      <td>-3.049</td>\n",
              "      <td>3.446</td>\n",
              "      <td>-2.694</td>\n",
              "      <td>13.064</td>\n",
              "      <td>-2.236</td>\n",
              "      <td>-6.769</td>\n",
              "      <td>-1.379</td>\n",
              "      <td>-1.403</td>\n",
              "      <td>-0.629</td>\n",
              "      <td>0.792</td>\n",
              "      <td>1.383</td>\n",
              "      <td>0.584</td>\n",
              "      <td>0.681</td>\n",
              "      <td>13.590</td>\n",
              "      <td>-11.969</td>\n",
              "      <td>1.463</td>\n",
              "      <td>0.219</td>\n",
              "      <td>-6.758</td>\n",
              "      <td>11.464</td>\n",
              "      <td>10.471</td>\n",
              "      <td>-9.711</td>\n",
              "      <td>6.753</td>\n",
              "      <td>-6.177</td>\n",
              "      <td>5.793</td>\n",
              "      <td>-5.404</td>\n",
              "      <td>5.838</td>\n",
              "      <td>12.785</td>\n",
              "      <td>-24.689</td>\n",
              "      <td>4.778</td>\n",
              "      <td>-2.764</td>\n",
              "      <td>38.471</td>\n",
              "      <td>-18.064</td>\n",
              "      <td>-5.561</td>\n",
              "      <td>...</td>\n",
              "      <td>104.268</td>\n",
              "      <td>-187.693</td>\n",
              "      <td>-320.530</td>\n",
              "      <td>201.370</td>\n",
              "      <td>-218.596</td>\n",
              "      <td>-243.667</td>\n",
              "      <td>-86.934</td>\n",
              "      <td>181.005</td>\n",
              "      <td>10.547</td>\n",
              "      <td>-52.305</td>\n",
              "      <td>636.548</td>\n",
              "      <td>-172.541</td>\n",
              "      <td>848.264</td>\n",
              "      <td>335.592</td>\n",
              "      <td>294.600</td>\n",
              "      <td>-491.847</td>\n",
              "      <td>-74.829</td>\n",
              "      <td>-219.457</td>\n",
              "      <td>311.228</td>\n",
              "      <td>1.639</td>\n",
              "      <td>65.728</td>\n",
              "      <td>-293.327</td>\n",
              "      <td>-201.523</td>\n",
              "      <td>-125.909</td>\n",
              "      <td>420.697</td>\n",
              "      <td>-72.450</td>\n",
              "      <td>-405.548</td>\n",
              "      <td>214.242</td>\n",
              "      <td>-15.397</td>\n",
              "      <td>101.792</td>\n",
              "      <td>-197.456</td>\n",
              "      <td>-43.168</td>\n",
              "      <td>328.134</td>\n",
              "      <td>405.777</td>\n",
              "      <td>37.479</td>\n",
              "      <td>544.669</td>\n",
              "      <td>207.914</td>\n",
              "      <td>-591.110</td>\n",
              "      <td>-38.659</td>\n",
              "      <td>-417.187</td>\n",
              "    </tr>\n",
              "    <tr>\n",
              "      <th>4</th>\n",
              "      <td>2B</td>\n",
              "      <td>NaN</td>\n",
              "      <td>-186.138</td>\n",
              "      <td>3.275</td>\n",
              "      <td>11.274</td>\n",
              "      <td>70.617</td>\n",
              "      <td>28.726</td>\n",
              "      <td>90.303</td>\n",
              "      <td>26.780</td>\n",
              "      <td>73.008</td>\n",
              "      <td>98.954</td>\n",
              "      <td>125.188</td>\n",
              "      <td>-64.535</td>\n",
              "      <td>388.950</td>\n",
              "      <td>-6.598</td>\n",
              "      <td>129.931</td>\n",
              "      <td>-16.814</td>\n",
              "      <td>-45.332</td>\n",
              "      <td>66.750</td>\n",
              "      <td>-186.967</td>\n",
              "      <td>43.483</td>\n",
              "      <td>7.091</td>\n",
              "      <td>52.921</td>\n",
              "      <td>-46.134</td>\n",
              "      <td>24.624</td>\n",
              "      <td>-21.616</td>\n",
              "      <td>-1575.008</td>\n",
              "      <td>-22.984</td>\n",
              "      <td>43.034</td>\n",
              "      <td>-27.327</td>\n",
              "      <td>-1.821</td>\n",
              "      <td>-8.117</td>\n",
              "      <td>4.962</td>\n",
              "      <td>-3.467</td>\n",
              "      <td>-3.406</td>\n",
              "      <td>-2.235</td>\n",
              "      <td>-1.149</td>\n",
              "      <td>1.933</td>\n",
              "      <td>6.592</td>\n",
              "      <td>-3.983</td>\n",
              "      <td>...</td>\n",
              "      <td>-2.831</td>\n",
              "      <td>-3.334</td>\n",
              "      <td>-3.632</td>\n",
              "      <td>20.335</td>\n",
              "      <td>0.081</td>\n",
              "      <td>-0.194</td>\n",
              "      <td>-0.212</td>\n",
              "      <td>0.746</td>\n",
              "      <td>-0.467</td>\n",
              "      <td>-0.724</td>\n",
              "      <td>-2.522</td>\n",
              "      <td>2.824</td>\n",
              "      <td>-119.684</td>\n",
              "      <td>0.818</td>\n",
              "      <td>3.123</td>\n",
              "      <td>-1.331</td>\n",
              "      <td>0.973</td>\n",
              "      <td>0.036</td>\n",
              "      <td>-1.231</td>\n",
              "      <td>2.217</td>\n",
              "      <td>-0.268</td>\n",
              "      <td>0.992</td>\n",
              "      <td>-0.207</td>\n",
              "      <td>-2.024</td>\n",
              "      <td>7.421</td>\n",
              "      <td>-2.345</td>\n",
              "      <td>1.724</td>\n",
              "      <td>-1.265</td>\n",
              "      <td>-0.139</td>\n",
              "      <td>0.770</td>\n",
              "      <td>-0.157</td>\n",
              "      <td>0.799</td>\n",
              "      <td>2.589</td>\n",
              "      <td>-1.108</td>\n",
              "      <td>-1.303</td>\n",
              "      <td>-0.170</td>\n",
              "      <td>3.711</td>\n",
              "      <td>-3.461</td>\n",
              "      <td>-0.317</td>\n",
              "      <td>-4.694</td>\n",
              "    </tr>\n",
              "  </tbody>\n",
              "</table>\n",
              "<p>5 rows × 175 columns</p>\n",
              "</div>"
            ],
            "text/plain": [
              "  L_CP_COUNTRY  1977-Q4  1978-Q1  ...   2020-Q3  2020-Q4   2021-Q1\n",
              "0           1C      NaN   -1.725  ...   -28.299 -388.690  -347.531\n",
              "1           1N      NaN  -72.318  ... -2013.523 -212.637 -2089.863\n",
              "2           1W      NaN      NaN  ...   -23.363   -0.001     0.016\n",
              "3           1Z      NaN    2.900  ...  -591.110  -38.659  -417.187\n",
              "4           2B      NaN -186.138  ...    -3.461   -0.317    -4.694\n",
              "\n",
              "[5 rows x 175 columns]"
            ]
          },
          "metadata": {},
          "execution_count": 167
        }
      ]
    },
    {
      "cell_type": "code",
      "metadata": {
        "colab": {
          "base_uri": "https://localhost:8080/"
        },
        "id": "d48cSUZGyL-i",
        "outputId": "37e71a85-e8f0-4a51-b527-742388224042"
      },
      "source": [
        "df_null.dtypes"
      ],
      "execution_count": 168,
      "outputs": [
        {
          "output_type": "execute_result",
          "data": {
            "text/plain": [
              "L_CP_COUNTRY     object\n",
              "1977-Q4         float64\n",
              "1978-Q1         float64\n",
              "1978-Q2         float64\n",
              "1978-Q3         float64\n",
              "                 ...   \n",
              "2020-Q1         float64\n",
              "2020-Q2         float64\n",
              "2020-Q3         float64\n",
              "2020-Q4         float64\n",
              "2021-Q1         float64\n",
              "Length: 175, dtype: object"
            ]
          },
          "metadata": {},
          "execution_count": 168
        }
      ]
    },
    {
      "cell_type": "code",
      "metadata": {
        "colab": {
          "base_uri": "https://localhost:8080/"
        },
        "id": "0qBDhVhIynSE",
        "outputId": "8f966fc7-9dba-45ac-f5f7-bf42823d9fb3"
      },
      "source": [
        "dict_val = {}\n",
        "\n",
        "for i in df_null.dtypes:\n",
        "  if i not in dict_val:\n",
        "    dict_val[i] = 1\n",
        "  else:\n",
        "    dict_val[i] +=1\n",
        "\n",
        "print(dict_val)"
      ],
      "execution_count": 170,
      "outputs": [
        {
          "output_type": "stream",
          "name": "stdout",
          "text": [
            "{dtype('O'): 1, dtype('float64'): 174}\n"
          ]
        }
      ]
    },
    {
      "cell_type": "markdown",
      "metadata": {
        "id": "zSvMfN5szZbk"
      },
      "source": [
        "* Conclusion : **Mainly null values are for numeric data type**\n",
        "\n",
        "> Indented block\n",
        "\n"
      ]
    },
    {
      "cell_type": "code",
      "metadata": {
        "colab": {
          "base_uri": "https://localhost:8080/"
        },
        "id": "6xc57hmPy1O-",
        "outputId": "f698b782-6037-4f6e-88d6-6cfc4194f0a2"
      },
      "source": [
        "df[\"L_CP_COUNTRY\"].value_counts()"
      ],
      "execution_count": 172,
      "outputs": [
        {
          "output_type": "execute_result",
          "data": {
            "text/plain": [
              "5J    21719\n",
              "CN     1270\n",
              "PA     1268\n",
              "KY     1264\n",
              "SG     1264\n",
              "      ...  \n",
              "DD      264\n",
              "2S      250\n",
              "2T      234\n",
              "2U      222\n",
              "2D       92\n",
              "Name: L_CP_COUNTRY, Length: 245, dtype: int64"
            ]
          },
          "metadata": {},
          "execution_count": 172
        }
      ]
    },
    {
      "cell_type": "code",
      "metadata": {
        "colab": {
          "base_uri": "https://localhost:8080/",
          "height": 455
        },
        "id": "U2mSHA600RyG",
        "outputId": "f0011b56-c0e8-414c-a467-21dcc76bcb89"
      },
      "source": [
        "df[[\"L_CP_COUNTRY\", \"1977-Q4\"]].groupby(\"L_CP_COUNTRY\").sum()"
      ],
      "execution_count": 177,
      "outputs": [
        {
          "output_type": "execute_result",
          "data": {
            "text/html": [
              "<div>\n",
              "<style scoped>\n",
              "    .dataframe tbody tr th:only-of-type {\n",
              "        vertical-align: middle;\n",
              "    }\n",
              "\n",
              "    .dataframe tbody tr th {\n",
              "        vertical-align: top;\n",
              "    }\n",
              "\n",
              "    .dataframe thead th {\n",
              "        text-align: right;\n",
              "    }\n",
              "</style>\n",
              "<table border=\"1\" class=\"dataframe\">\n",
              "  <thead>\n",
              "    <tr style=\"text-align: right;\">\n",
              "      <th></th>\n",
              "      <th>1977-Q4</th>\n",
              "    </tr>\n",
              "    <tr>\n",
              "      <th>L_CP_COUNTRY</th>\n",
              "      <th></th>\n",
              "    </tr>\n",
              "  </thead>\n",
              "  <tbody>\n",
              "    <tr>\n",
              "      <th>1C</th>\n",
              "      <td>77255.0</td>\n",
              "    </tr>\n",
              "    <tr>\n",
              "      <th>1N</th>\n",
              "      <td>1071182.0</td>\n",
              "    </tr>\n",
              "    <tr>\n",
              "      <th>1W</th>\n",
              "      <td>56.0</td>\n",
              "    </tr>\n",
              "    <tr>\n",
              "      <th>1Z</th>\n",
              "      <td>3457.0</td>\n",
              "    </tr>\n",
              "    <tr>\n",
              "      <th>2B</th>\n",
              "      <td>50060.0</td>\n",
              "    </tr>\n",
              "    <tr>\n",
              "      <th>...</th>\n",
              "      <td>...</td>\n",
              "    </tr>\n",
              "    <tr>\n",
              "      <th>YE</th>\n",
              "      <td>7717.0</td>\n",
              "    </tr>\n",
              "    <tr>\n",
              "      <th>YU</th>\n",
              "      <td>44921.0</td>\n",
              "    </tr>\n",
              "    <tr>\n",
              "      <th>ZA</th>\n",
              "      <td>76575.0</td>\n",
              "    </tr>\n",
              "    <tr>\n",
              "      <th>ZM</th>\n",
              "      <td>5541.0</td>\n",
              "    </tr>\n",
              "    <tr>\n",
              "      <th>ZW</th>\n",
              "      <td>831.0</td>\n",
              "    </tr>\n",
              "  </tbody>\n",
              "</table>\n",
              "<p>245 rows × 1 columns</p>\n",
              "</div>"
            ],
            "text/plain": [
              "                1977-Q4\n",
              "L_CP_COUNTRY           \n",
              "1C              77255.0\n",
              "1N            1071182.0\n",
              "1W                 56.0\n",
              "1Z               3457.0\n",
              "2B              50060.0\n",
              "...                 ...\n",
              "YE               7717.0\n",
              "YU              44921.0\n",
              "ZA              76575.0\n",
              "ZM               5541.0\n",
              "ZW                831.0\n",
              "\n",
              "[245 rows x 1 columns]"
            ]
          },
          "metadata": {},
          "execution_count": 177
        }
      ]
    },
    {
      "cell_type": "code",
      "metadata": {
        "colab": {
          "base_uri": "https://localhost:8080/"
        },
        "id": "JgXpFOe00knF",
        "outputId": "201cfe58-1191-42de-e8c8-32e6345b0aa5"
      },
      "source": [
        "df[[\"L_CP_COUNTRY\", \"1977-Q4\"]].groupby(\"L_CP_COUNTRY\").sum().iloc[df[[\"L_CP_COUNTRY\", \"1977-Q4\"]].groupby(\"L_CP_COUNTRY\").sum().values.argmax()]"
      ],
      "execution_count": 181,
      "outputs": [
        {
          "output_type": "execute_result",
          "data": {
            "text/plain": [
              "1977-Q4    29101573.0\n",
              "Name: 5J, dtype: float64"
            ]
          },
          "metadata": {},
          "execution_count": 181
        }
      ]
    },
    {
      "cell_type": "code",
      "metadata": {
        "colab": {
          "base_uri": "https://localhost:8080/"
        },
        "id": "a3_aD6eR21T-",
        "outputId": "f733f20f-a827-42cf-9414-80f18b8dc81f"
      },
      "source": [
        "df[[\"L_CP_COUNTRY\", \"1977-Q4\"]].groupby(\"L_CP_COUNTRY\").sum().iloc[df[[\"L_CP_COUNTRY\", \"1977-Q4\"]].groupby(\"L_CP_COUNTRY\").sum().values.argmax()].index\n",
        "df[[\"L_CP_COUNTRY\", \"1977-Q4\"]].groupby(\"L_CP_COUNTRY\").sum().iloc[df[[\"L_CP_COUNTRY\", \"1977-Q4\"]].groupby(\"L_CP_COUNTRY\").sum().values.argmax()].values\n",
        "# df[[\"L_CP_COUNTRY\", \"1977-Q4\"]].groupby(\"L_CP_COUNTRY\").sum().iloc[df[[\"L_CP_COUNTRY\", \"1977-Q4\"]].groupby(\"L_CP_COUNTRY\").sum().values.argmax()].name"
      ],
      "execution_count": 191,
      "outputs": [
        {
          "output_type": "execute_result",
          "data": {
            "text/plain": [
              "array([29101573.])"
            ]
          },
          "metadata": {},
          "execution_count": 191
        }
      ]
    },
    {
      "cell_type": "code",
      "metadata": {
        "colab": {
          "base_uri": "https://localhost:8080/"
        },
        "id": "T36vxlQ409XW",
        "outputId": "0dae385f-6584-42f6-a366-ef9d1a7a6a5c"
      },
      "source": [
        "df[[\"L_CP_COUNTRY\", \"1977-Q4\"]].groupby(\"L_CP_COUNTRY\").sum().max()"
      ],
      "execution_count": 182,
      "outputs": [
        {
          "output_type": "execute_result",
          "data": {
            "text/plain": [
              "1977-Q4    29101573.0\n",
              "dtype: float64"
            ]
          },
          "metadata": {},
          "execution_count": 182
        }
      ]
    },
    {
      "cell_type": "markdown",
      "metadata": {
        "id": "0saZ7ekz1d13"
      },
      "source": [
        "* Conclusion: *SJ has highest overall value for quarter four year 1977*"
      ]
    },
    {
      "cell_type": "code",
      "metadata": {
        "colab": {
          "base_uri": "https://localhost:8080/"
        },
        "id": "1WZolJC06RNP",
        "outputId": "dd1551b0-9da7-4b19-a6f6-3a87606358cc"
      },
      "source": [
        "print(f\"Quarter: {df[['L_CP_COUNTRY', '1977-Q4']].groupby('L_CP_COUNTRY').sum().iloc[df[['L_CP_COUNTRY', '1977-Q4']].groupby('L_CP_COUNTRY').sum().values.argmax()].index},\\\n",
        "Name: {df[['L_CP_COUNTRY', '1977-Q4']].groupby('L_CP_COUNTRY').sum().iloc[df[['L_CP_COUNTRY', '1977-Q4']].groupby('L_CP_COUNTRY').sum().values.argmax()].name}, \\\n",
        "Value: {df[['L_CP_COUNTRY', '1977-Q4']].groupby('L_CP_COUNTRY').sum().iloc[df[['L_CP_COUNTRY', '1977-Q4']].groupby('L_CP_COUNTRY').sum().values.argmax()].values[0]}\")"
      ],
      "execution_count": 195,
      "outputs": [
        {
          "output_type": "stream",
          "name": "stdout",
          "text": [
            "Quarter: Index(['1977-Q4'], dtype='object'),Name: 5J, Value: 29101573.0\n"
          ]
        }
      ]
    },
    {
      "cell_type": "code",
      "metadata": {
        "colab": {
          "base_uri": "https://localhost:8080/"
        },
        "id": "PbexawQTAo2l",
        "outputId": "a262e458-6a45-4cd7-8d06-6fd3c39007c1"
      },
      "source": [
        "for i in null_columns[1:]:\n",
        "    # print(df[[\"L_CP_COUNTRY\", i]].groupby(\"L_CP_COUNTRY\").sum().iloc[df[[\"L_CP_COUNTRY\", i]].groupby(\"L_CP_COUNTRY\").sum().values.argmax()])\n",
        "    # print(df[[\"L_CP_COUNTRY\", i]].groupby(\"L_CP_COUNTRY\").sum().iloc[df[[\"L_CP_COUNTRY\", i]].groupby(\"L_CP_COUNTRY\").sum().values.argmax()])\n",
        "    print(f\"Quarter: {df[['L_CP_COUNTRY', i]].groupby('L_CP_COUNTRY').sum().iloc[df[['L_CP_COUNTRY', i]].groupby('L_CP_COUNTRY').sum().values.argmax()].index[0]}, \\\n",
        "  Name: {df[['L_CP_COUNTRY', i]].groupby('L_CP_COUNTRY').sum().iloc[df[['L_CP_COUNTRY', i]].groupby('L_CP_COUNTRY').sum().values.argmax()].name}, \\\n",
        "  Value: {df[['L_CP_COUNTRY', i]].groupby('L_CP_COUNTRY').sum().iloc[df[['L_CP_COUNTRY', i]].groupby('L_CP_COUNTRY').sum().values.argmax()].values[0]}\")"
      ],
      "execution_count": 213,
      "outputs": [
        {
          "output_type": "stream",
          "name": "stdout",
          "text": [
            "Quarter: 1977-Q4,   Name: 5J,   Value: 29101573.0\n",
            "Quarter: 1978-Q1,   Name: 5J,   Value: 30301061.323\n",
            "Quarter: 1978-Q2,   Name: 5J,   Value: 31835785.667999998\n",
            "Quarter: 1978-Q3,   Name: 5J,   Value: 35605926.980000004\n",
            "Quarter: 1978-Q4,   Name: 5J,   Value: 40498808.525\n",
            "Quarter: 1979-Q1,   Name: 5J,   Value: 37646804.922\n",
            "Quarter: 1979-Q2,   Name: 5J,   Value: 42667686.774000004\n",
            "Quarter: 1979-Q3,   Name: 5J,   Value: 47789333.39\n",
            "Quarter: 1979-Q4,   Name: 5J,   Value: 50681582.999\n",
            "Quarter: 1980-Q1,   Name: 5J,   Value: 51458288.636\n",
            "Quarter: 1980-Q2,   Name: 5J,   Value: 54319161.543\n",
            "Quarter: 1980-Q3,   Name: 5J,   Value: 56407413.382\n",
            "Quarter: 1980-Q4,   Name: 5J,   Value: 61907426.186000004\n",
            "Quarter: 1981-Q1,   Name: 5J,   Value: 61749650.191\n",
            "Quarter: 1981-Q2,   Name: 5J,   Value: 60721474.508\n",
            "Quarter: 1981-Q3,   Name: 5J,   Value: 66077840.45\n",
            "Quarter: 1981-Q4,   Name: 5J,   Value: 70805192.373\n",
            "Quarter: 1982-Q1,   Name: 5J,   Value: 72000682.809\n",
            "Quarter: 1982-Q2,   Name: 5J,   Value: 68241262.042\n",
            "Quarter: 1982-Q3,   Name: 5J,   Value: 74857649.781\n",
            "Quarter: 1982-Q4,   Name: 5J,   Value: 66392654.495\n",
            "Quarter: 1983-Q1,   Name: 5J,   Value: 75616552.53999999\n",
            "Quarter: 1983-Q2,   Name: 5J,   Value: 98319962.32299998\n",
            "Quarter: 1983-Q3,   Name: 5J,   Value: 91848710.92899999\n",
            "Quarter: 1983-Q4,   Name: 5J,   Value: 109912290.713\n",
            "Quarter: 1984-Q1,   Name: 5J,   Value: 112873248.518\n",
            "Quarter: 1984-Q2,   Name: 5J,   Value: 112147422.271\n",
            "Quarter: 1984-Q3,   Name: 5J,   Value: 109611271.684\n",
            "Quarter: 1984-Q4,   Name: 5J,   Value: 113404849.732\n",
            "Quarter: 1985-Q1,   Name: 5J,   Value: 118359038.227\n",
            "Quarter: 1985-Q2,   Name: 5J,   Value: 114098138.932\n",
            "Quarter: 1985-Q3,   Name: 5J,   Value: 125879034.157\n",
            "Quarter: 1985-Q4,   Name: 5J,   Value: 136989586.79799998\n",
            "Quarter: 1986-Q1,   Name: 5J,   Value: 141623726.701\n",
            "Quarter: 1986-Q2,   Name: 5J,   Value: 146127475.18199998\n",
            "Quarter: 1986-Q3,   Name: 5J,   Value: 170367825.298\n",
            "Quarter: 1986-Q4,   Name: 5J,   Value: 178305778.73499998\n",
            "Quarter: 1987-Q1,   Name: 5J,   Value: 184444368.12300003\n",
            "Quarter: 1987-Q2,   Name: 5J,   Value: 195327505.689\n",
            "Quarter: 1987-Q3,   Name: 5J,   Value: 208404778.816\n",
            "Quarter: 1987-Q4,   Name: 5J,   Value: 223167385.112\n",
            "Quarter: 1988-Q1,   Name: 5J,   Value: 223919427.541\n",
            "Quarter: 1988-Q2,   Name: 5J,   Value: 219894725.74899998\n",
            "Quarter: 1988-Q3,   Name: 5J,   Value: 238784695.95699996\n",
            "Quarter: 1988-Q4,   Name: 5J,   Value: 234385454.30699998\n",
            "Quarter: 1989-Q1,   Name: 5J,   Value: 257188679.135\n",
            "Quarter: 1989-Q2,   Name: 5J,   Value: 236052353.694\n",
            "Quarter: 1989-Q3,   Name: 5J,   Value: 264446844.57\n",
            "Quarter: 1989-Q4,   Name: 5J,   Value: 281863112.838\n",
            "Quarter: 1990-Q1,   Name: 5J,   Value: 286912525.1\n",
            "Quarter: 1990-Q2,   Name: 5J,   Value: 281418513.968\n",
            "Quarter: 1990-Q3,   Name: 5J,   Value: 319725168.625\n",
            "Quarter: 1990-Q4,   Name: 5J,   Value: 327864981.99\n",
            "Quarter: 1991-Q1,   Name: 5J,   Value: 303949060.482\n",
            "Quarter: 1991-Q2,   Name: 5J,   Value: 284528995.88699996\n",
            "Quarter: 1991-Q3,   Name: 5J,   Value: 299574499.556\n",
            "Quarter: 1991-Q4,   Name: 5J,   Value: 316414361.271\n",
            "Quarter: 1992-Q1,   Name: 5J,   Value: 300172795.18700004\n",
            "Quarter: 1992-Q2,   Name: 5J,   Value: 302208626.366\n",
            "Quarter: 1992-Q3,   Name: 5J,   Value: 334575062.689\n",
            "Quarter: 1992-Q4,   Name: 5J,   Value: 307859894.481\n",
            "Quarter: 1993-Q1,   Name: 5J,   Value: 307001367.297\n",
            "Quarter: 1993-Q2,   Name: 5J,   Value: 298678200.686\n",
            "Quarter: 1993-Q3,   Name: 5J,   Value: 321160649.423\n",
            "Quarter: 1993-Q4,   Name: 5J,   Value: 320639984.337\n",
            "Quarter: 1994-Q1,   Name: 5J,   Value: 324866151.63600004\n",
            "Quarter: 1994-Q2,   Name: 5J,   Value: 326457145.26600003\n",
            "Quarter: 1994-Q3,   Name: 5J,   Value: 349511614.635\n",
            "Quarter: 1994-Q4,   Name: 5J,   Value: 365894821.912\n",
            "Quarter: 1995-Q1,   Name: 5J,   Value: 396201752.131\n",
            "Quarter: 1995-Q2,   Name: 5J,   Value: 395630242.02099997\n",
            "Quarter: 1995-Q3,   Name: 5J,   Value: 394941541.925\n",
            "Quarter: 1995-Q4,   Name: 5J,   Value: 490689981.309\n",
            "Quarter: 1996-Q1,   Name: 5J,   Value: 495353582.74899995\n",
            "Quarter: 1996-Q2,   Name: 5J,   Value: 484066203.75699997\n",
            "Quarter: 1996-Q3,   Name: 5J,   Value: 501320638.801\n",
            "Quarter: 1996-Q4,   Name: 5J,   Value: 517339778.847\n",
            "Quarter: 1997-Q1,   Name: 5J,   Value: 539530979.182\n",
            "Quarter: 1997-Q2,   Name: 5J,   Value: 538674298.027\n",
            "Quarter: 1997-Q3,   Name: 5J,   Value: 534505543.255\n",
            "Quarter: 1997-Q4,   Name: 5J,   Value: 590691646.707\n",
            "Quarter: 1998-Q1,   Name: 5J,   Value: 556552882.956\n",
            "Quarter: 1998-Q2,   Name: 5J,   Value: 580946614.6229999\n",
            "Quarter: 1998-Q3,   Name: 5J,   Value: 602239852.128\n",
            "Quarter: 1998-Q4,   Name: 5J,   Value: 586165730.791\n",
            "Quarter: 1999-Q1,   Name: 5J,   Value: 575014459.526\n",
            "Quarter: 1999-Q2,   Name: 5J,   Value: 567876314.265\n",
            "Quarter: 1999-Q3,   Name: 5J,   Value: 597698934.052\n",
            "Quarter: 1999-Q4,   Name: 5J,   Value: 606596389.498\n",
            "Quarter: 2000-Q1,   Name: 5J,   Value: 645648762.4849999\n",
            "Quarter: 2000-Q2,   Name: 5J,   Value: 631818268.399\n",
            "Quarter: 2000-Q3,   Name: 5J,   Value: 628482982.342\n",
            "Quarter: 2000-Q4,   Name: 5J,   Value: 674120455.345\n",
            "Quarter: 2001-Q1,   Name: 5J,   Value: 726659697.763\n",
            "Quarter: 2001-Q2,   Name: 5J,   Value: 657953094.298\n",
            "Quarter: 2001-Q3,   Name: 5J,   Value: 684196971.039\n",
            "Quarter: 2001-Q4,   Name: 5J,   Value: 719784358.132\n",
            "Quarter: 2002-Q1,   Name: 5J,   Value: 715166429.5339999\n",
            "Quarter: 2002-Q2,   Name: 5J,   Value: 766208535.108\n",
            "Quarter: 2002-Q3,   Name: 5J,   Value: 767906638.584\n",
            "Quarter: 2002-Q4,   Name: 5J,   Value: 829354363.3629999\n",
            "Quarter: 2003-Q1,   Name: 5J,   Value: 896283932.1520002\n",
            "Quarter: 2003-Q2,   Name: 5J,   Value: 941736271.2059999\n",
            "Quarter: 2003-Q3,   Name: 5J,   Value: 918506044.4620001\n",
            "Quarter: 2003-Q4,   Name: 5J,   Value: 1010468284.3609998\n",
            "Quarter: 2004-Q1,   Name: 5J,   Value: 1127693229.6349998\n",
            "Quarter: 2004-Q2,   Name: 5J,   Value: 1073863974.0279999\n",
            "Quarter: 2004-Q3,   Name: 5J,   Value: 1092459930.3370001\n",
            "Quarter: 2004-Q4,   Name: 5J,   Value: 1189674563.187\n",
            "Quarter: 2005-Q1,   Name: 5J,   Value: 1284123136.5709999\n",
            "Quarter: 2005-Q2,   Name: 5J,   Value: 1285063556.3579998\n",
            "Quarter: 2005-Q3,   Name: 5J,   Value: 1295976425.398\n",
            "Quarter: 2005-Q4,   Name: 5J,   Value: 1294549917.3789997\n",
            "Quarter: 2006-Q1,   Name: 5J,   Value: 1471245290.5979998\n",
            "Quarter: 2006-Q2,   Name: 5J,   Value: 1492133740.8349996\n",
            "Quarter: 2006-Q3,   Name: 5J,   Value: 1525138199.8279998\n",
            "Quarter: 2006-Q4,   Name: 5J,   Value: 1612622615.531\n",
            "Quarter: 2007-Q1,   Name: 5J,   Value: 1846619639.3229995\n",
            "Quarter: 2007-Q2,   Name: 5J,   Value: 1854561077.4100006\n",
            "Quarter: 2007-Q3,   Name: 5J,   Value: 1981766927.7200003\n",
            "Quarter: 2007-Q4,   Name: 5J,   Value: 2074623882.9559999\n",
            "Quarter: 2008-Q1,   Name: 5J,   Value: 2271175550.943\n",
            "Quarter: 2008-Q2,   Name: 5J,   Value: 2040359708.4750001\n",
            "Quarter: 2008-Q3,   Name: 5J,   Value: 2030304577.8769999\n",
            "Quarter: 2008-Q4,   Name: 5J,   Value: 1783566782.095\n",
            "Quarter: 2009-Q1,   Name: 5J,   Value: 1732995118.6840003\n",
            "Quarter: 2009-Q2,   Name: 5J,   Value: 1791797312.173\n",
            "Quarter: 2009-Q3,   Name: 5J,   Value: 1817957937.757\n",
            "Quarter: 2009-Q4,   Name: 5J,   Value: 1784424931.074\n",
            "Quarter: 2010-Q1,   Name: 5J,   Value: 1817742577.8709998\n",
            "Quarter: 2010-Q2,   Name: 5J,   Value: 1740428736.7500002\n",
            "Quarter: 2010-Q3,   Name: 5J,   Value: 1904882372.5160003\n",
            "Quarter: 2010-Q4,   Name: 5J,   Value: 1814907709.2149994\n",
            "Quarter: 2011-Q1,   Name: 5J,   Value: 1941553271.1110024\n",
            "Quarter: 2011-Q2,   Name: 5J,   Value: 1914645915.684\n",
            "Quarter: 2011-Q3,   Name: 5J,   Value: 1982366532.0640001\n",
            "Quarter: 2011-Q4,   Name: 5J,   Value: 1811232381.985\n",
            "Quarter: 2012-Q1,   Name: 5J,   Value: 1893757861.8839989\n",
            "Quarter: 2012-Q2,   Name: 5J,   Value: 3250930417.334003\n",
            "Quarter: 2012-Q3,   Name: 5J,   Value: 3357751350.7059984\n",
            "Quarter: 2012-Q4,   Name: 5J,   Value: 3333247735.504004\n",
            "Quarter: 2013-Q1,   Name: 5J,   Value: 3280262090.1940007\n",
            "Quarter: 2013-Q2,   Name: 5J,   Value: 3252999930.044998\n",
            "Quarter: 2013-Q3,   Name: 5J,   Value: 3334803762.394997\n",
            "Quarter: 2013-Q4,   Name: 5J,   Value: 4831767789.951008\n",
            "Quarter: 2014-Q1,   Name: 5J,   Value: 5164557458.542002\n",
            "Quarter: 2014-Q2,   Name: 5J,   Value: 5200789743.462993\n",
            "Quarter: 2014-Q3,   Name: 5J,   Value: 4964938910.204999\n",
            "Quarter: 2014-Q4,   Name: 5J,   Value: 5233253017.118985\n",
            "Quarter: 2015-Q1,   Name: 5J,   Value: 5157350516.483998\n",
            "Quarter: 2015-Q2,   Name: 5J,   Value: 5027894965.588\n",
            "Quarter: 2015-Q3,   Name: 5J,   Value: 5044213398.558009\n",
            "Quarter: 2015-Q4,   Name: 5J,   Value: 5018675515.73001\n",
            "Quarter: 2016-Q1,   Name: 5J,   Value: 5367538313.806003\n",
            "Quarter: 2016-Q2,   Name: 5J,   Value: 5466057243.1519985\n",
            "Quarter: 2016-Q3,   Name: 5J,   Value: 5447656907.622988\n",
            "Quarter: 2016-Q4,   Name: 5J,   Value: 5169886393.242978\n",
            "Quarter: 2017-Q1,   Name: 5J,   Value: 5525487006.601995\n",
            "Quarter: 2017-Q2,   Name: 5J,   Value: 5601090629.744003\n",
            "Quarter: 2017-Q3,   Name: 5J,   Value: 5761983020.797998\n",
            "Quarter: 2017-Q4,   Name: 5J,   Value: 5844094170.88699\n",
            "Quarter: 2018-Q1,   Name: 5J,   Value: 6170850206.774035\n",
            "Quarter: 2018-Q2,   Name: 5J,   Value: 5890686233.173009\n",
            "Quarter: 2018-Q3,   Name: 5J,   Value: 5802880394.606001\n",
            "Quarter: 2018-Q4,   Name: 5J,   Value: 5819637389.956993\n",
            "Quarter: 2019-Q1,   Name: 5J,   Value: 6030169776.604994\n",
            "Quarter: 2019-Q2,   Name: 5J,   Value: 6082863329.932984\n",
            "Quarter: 2019-Q3,   Name: 5J,   Value: 6055501942.53797\n",
            "Quarter: 2019-Q4,   Name: 5J,   Value: 5979172582.690003\n",
            "Quarter: 2020-Q1,   Name: 5J,   Value: 6577487893.333979\n",
            "Quarter: 2020-Q2,   Name: 5J,   Value: 6467696856.9419985\n",
            "Quarter: 2020-Q3,   Name: 5J,   Value: 6743792044.003997\n",
            "Quarter: 2020-Q4,   Name: 5J,   Value: 7075951054.345968\n",
            "Quarter: 2021-Q1,   Name: 5J,   Value: 7077488061.256006\n"
          ]
        }
      ]
    },
    {
      "cell_type": "code",
      "metadata": {
        "colab": {
          "base_uri": "https://localhost:8080/"
        },
        "id": "Z-GVyWfp2I0H",
        "outputId": "e62a7721-8eb3-42e4-8972-9280d79b7867"
      },
      "source": [
        "categorical_columns = list(df_non_null.columns)\n",
        "categorical_columns.append(list(df_null.columns)[0])\n",
        "print(categorical_columns)"
      ],
      "execution_count": 204,
      "outputs": [
        {
          "output_type": "stream",
          "name": "stdout",
          "text": [
            "['FREQ', 'Frequency', 'L_MEASURE', 'Measure', 'L_POSITION', 'Balance sheet position', 'L_INSTR', 'Type of instruments', 'L_DENOM', 'Currency denomination', 'L_CURR_TYPE', 'Currency type of reporting country', 'L_PARENT_CTY', 'Parent country', 'L_REP_BANK_TYPE', 'Type of reporting institutions', 'L_REP_CTY', 'Reporting country', 'L_CP_SECTOR', 'Counterparty sector', 'Counterparty country', 'L_POS_TYPE', 'Position type', 'Time Period', 'L_CP_COUNTRY']\n"
          ]
        }
      ]
    },
    {
      "cell_type": "code",
      "metadata": {
        "id": "Pjk13FCG5CY4"
      },
      "source": [
        "\n",
        "# for j in categorical_columns:\n",
        "#   for i in null_columns[1:]:\n",
        "#     print(f\"Quarter: {df[[j, i]].groupby(j).sum().iloc[df[[j, i]].groupby(j).sum().values.argmax()].index[0]}, \\\n",
        "#   Name: {df[[j, i]].groupby(j).sum().iloc[df[[j, i]].groupby(j).sum().values.argmax()].name}, \\\n",
        "#   Value: {df[[j, i]].groupby(j).sum().iloc[df[[j, i]].groupby(j).sum().values.argmax()].values[0]}\")"
      ],
      "execution_count": 214,
      "outputs": []
    },
    {
      "cell_type": "code",
      "metadata": {
        "id": "-mMBXX2T6nQ7"
      },
      "source": [
        "\n",
        "# for j in categorical_columns:\n",
        "#   for i in null_columns[1:]:\n",
        "#     print(f\"Categorical Column: {j}\\\n",
        "#     ,Numeric Column: {i}, \\\n",
        "#     Quarter: {df[[j, i]].groupby(j).sum().iloc[df[[j, i]].groupby(j).sum().values.argmax()].index[0]}, \\\n",
        "#   Name: {df[[j, i]].groupby(j).sum().iloc[df[[j, i]].groupby(j).sum().values.argmax()].name}, \\\n",
        "#   Value: {df[[j, i]].groupby(j).sum().iloc[df[[j, i]].groupby(j).sum().values.argmax()].values[0]:.2f}\")"
      ],
      "execution_count": 215,
      "outputs": []
    },
    {
      "cell_type": "code",
      "metadata": {
        "id": "WlSuGn6n9wZz"
      },
      "source": [
        "with open(\"minvalue.txt\", \"w\") as f:\n",
        "  pass\n",
        "\n",
        "with open(\"minvalue.txt\", \"a\") as f:\n",
        "  for j in categorical_columns[0:5]: # Iterating through just five categorical column as it takes quite a lot of time to run cell\n",
        "    for i in null_columns[1:]:\n",
        "      f.writelines(f\"Categorical Column: {j}\\\n",
        "      ,Numeric Column: {i}, \\\n",
        "      Quarter: {df[[j, i]].groupby(j).sum().iloc[df[[j, i]].groupby(j).sum().values.argmin()].index[0]}, \\\n",
        "    Name: {df[[j, i]].groupby(j).sum().iloc[df[[j, i]].groupby(j).sum().values.argmin()].name}, \\\n",
        "    Value: {df[[j, i]].groupby(j).sum().iloc[df[[j, i]].groupby(j).sum().values.argmin()].values[0]:.2f}\\n\")"
      ],
      "execution_count": 233,
      "outputs": []
    },
    {
      "cell_type": "code",
      "metadata": {
        "id": "wfis_BqHDaZc"
      },
      "source": [
        "with open(\"maxvalue.txt\", \"w\") as f:\n",
        "  pass\n",
        "\n",
        "with open(\"maxvalue.txt\", \"a\") as f:\n",
        "  for j in categorical_columns[0:5]: # Iterating through just five categorical column as it takes quite a lot of time to run cell\n",
        "    for i in null_columns[1:]:\n",
        "      f.writelines(f\"Categorical Column: {j}\\\n",
        "      ,Numeric Column: {i}, \\\n",
        "      Quarter: {df[[j, i]].groupby(j).sum().iloc[df[[j, i]].groupby(j).sum().values.argmax()].index[0]}, \\\n",
        "    Name: {df[[j, i]].groupby(j).sum().iloc[df[[j, i]].groupby(j).sum().values.argmax()].name}, \\\n",
        "    Value: {df[[j, i]].groupby(j).sum().iloc[df[[j, i]].groupby(j).sum().values.argmax()].values[0]:.2f}\\n\")"
      ],
      "execution_count": 234,
      "outputs": []
    },
    {
      "cell_type": "code",
      "metadata": {
        "colab": {
          "base_uri": "https://localhost:8080/"
        },
        "id": "ntk_EjWAHNQh",
        "outputId": "f57eead3-0376-44d0-92a1-8e0383d99f55"
      },
      "source": [
        "df[\"L_POSITION\"].value_counts()"
      ],
      "execution_count": 235,
      "outputs": [
        {
          "output_type": "execute_result",
          "data": {
            "text/plain": [
              "L    144708\n",
              "C    138155\n",
              "Name: L_POSITION, dtype: int64"
            ]
          },
          "metadata": {},
          "execution_count": 235
        }
      ]
    },
    {
      "cell_type": "code",
      "metadata": {
        "id": "8c474qfOIEGa"
      },
      "source": [
        ""
      ],
      "execution_count": null,
      "outputs": []
    }
  ]
}