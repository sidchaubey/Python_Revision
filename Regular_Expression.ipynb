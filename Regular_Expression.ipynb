{
  "nbformat": 4,
  "nbformat_minor": 0,
  "metadata": {
    "colab": {
      "name": "Regular Expression.ipynb",
      "provenance": [],
      "collapsed_sections": [],
      "authorship_tag": "ABX9TyMURlDVioIVuHurV2paVJWW",
      "include_colab_link": true
    },
    "kernelspec": {
      "name": "python3",
      "display_name": "Python 3"
    },
    "language_info": {
      "name": "python"
    }
  },
  "cells": [
    {
      "cell_type": "markdown",
      "metadata": {
        "id": "view-in-github",
        "colab_type": "text"
      },
      "source": [
        "<a href=\"https://colab.research.google.com/github/sidchaubey/Python_Revision/blob/master/Regular_Expression.ipynb\" target=\"_parent\"><img src=\"https://colab.research.google.com/assets/colab-badge.svg\" alt=\"Open In Colab\"/></a>"
      ]
    },
    {
      "cell_type": "code",
      "execution_count": null,
      "metadata": {
        "id": "xUecHH_1cjks"
      },
      "outputs": [],
      "source": [
        "import re"
      ]
    },
    {
      "cell_type": "code",
      "source": [
        "# re methods\n",
        "\n",
        "text = \"\"\"\n",
        "What is Colab?\n",
        "Colab, or \"Colaboratory\", allows you to write and execute Python in your browser, with\n",
        "\n",
        "Zero configuration required\n",
        "Free access to GPUs\n",
        "Easy sharing\n",
        "Whether you're a student, a data scientist or an AI researcher, Colab can make your work easier. Watch Introduction to Colab to learn more, or just get started below!\n",
        "\n",
        "Getting started\n",
        "The document you are reading is not a static web page, but an interactive environment called a Colab notebook that lets you write and execute code.\n",
        "\n",
        "For example, here is a code cell with a short Python script that computes a value, stores it in a variable, and prints the result:\n",
        "\"\"\"\n",
        "\n",
        "text1 = text.lower()\n",
        "text1"
      ],
      "metadata": {
        "colab": {
          "base_uri": "https://localhost:8080/",
          "height": 122
        },
        "id": "-dVoNH7LiR2u",
        "outputId": "8d1d37fc-db44-4f26-e6e8-1d03bcd8b9cb"
      },
      "execution_count": null,
      "outputs": [
        {
          "output_type": "execute_result",
          "data": {
            "application/vnd.google.colaboratory.intrinsic+json": {
              "type": "string"
            },
            "text/plain": [
              "'\\nwhat is colab?\\ncolab, or \"colaboratory\", allows you to write and execute python in your browser, with\\n\\nzero configuration required\\nfree access to gpus\\neasy sharing\\nwhether you\\'re a student, a data scientist or an ai researcher, colab can make your work easier. watch introduction to colab to learn more, or just get started below!\\n\\ngetting started\\nthe document you are reading is not a static web page, but an interactive environment called a colab notebook that lets you write and execute code.\\n\\nfor example, here is a code cell with a short python script that computes a value, stores it in a variable, and prints the result:\\n'"
            ]
          },
          "metadata": {},
          "execution_count": 34
        }
      ]
    },
    {
      "cell_type": "code",
      "source": [
        "# Search\n",
        "\n",
        "a = re.search(\"Colab\", text)\n",
        "print(a)\n",
        "print(type(a))\n",
        "print(a.group(), a.start(), a.end(), a.span())\n",
        "\n",
        "a = re.search(\"colab\", text)\n",
        "print(a)\n",
        "print(type(a))"
      ],
      "metadata": {
        "colab": {
          "base_uri": "https://localhost:8080/"
        },
        "id": "mCtav1wwii-6",
        "outputId": "81a1cb94-eda5-4492-f400-f68aef250a16"
      },
      "execution_count": null,
      "outputs": [
        {
          "output_type": "stream",
          "name": "stdout",
          "text": [
            "<re.Match object; span=(9, 14), match='Colab'>\n",
            "<class 're.Match'>\n",
            "Colab 9 14 (9, 14)\n",
            "None\n",
            "<class 'NoneType'>\n"
          ]
        }
      ]
    },
    {
      "cell_type": "code",
      "source": [
        "# Match matches the start of the text string\n",
        "print(text)\n",
        "a = re.match(\"Colab\", text)\n",
        "print(a)\n",
        "print(type(a))\n",
        "\n",
        "\n",
        "a = re.match(\"\", text)\n",
        "print(a)\n",
        "print(type(a))\n",
        "print(a.group(), a.start(), a.end(), a.span())"
      ],
      "metadata": {
        "colab": {
          "base_uri": "https://localhost:8080/"
        },
        "id": "t-NAzit8n1Q0",
        "outputId": "f12f064c-1183-460a-d6ec-7b9dec7c5d61"
      },
      "execution_count": null,
      "outputs": [
        {
          "output_type": "stream",
          "name": "stdout",
          "text": [
            "\n",
            "What is Colab?\n",
            "Colab, or \"Colaboratory\", allows you to write and execute Python in your browser, with\n",
            "\n",
            "Zero configuration required\n",
            "Free access to GPUs\n",
            "Easy sharing\n",
            "Whether you're a student, a data scientist or an AI researcher, Colab can make your work easier. Watch Introduction to Colab to learn more, or just get started below!\n",
            "\n",
            "Getting started\n",
            "The document you are reading is not a static web page, but an interactive environment called a Colab notebook that lets you write and execute code.\n",
            "\n",
            "For example, here is a code cell with a short Python script that computes a value, stores it in a variable, and prints the result:\n",
            "\n",
            "None\n",
            "<class 'NoneType'>\n",
            "<re.Match object; span=(0, 0), match=''>\n",
            "<class 're.Match'>\n",
            " 0 0 (0, 0)\n"
          ]
        }
      ]
    },
    {
      "cell_type": "code",
      "source": [
        "# find all\n",
        "\n",
        "import re\n",
        "\n",
        "print(text)\n",
        "\n",
        "a = re.findall(\"Colab\", text)\n",
        "print(a)\n",
        "print(\"Type returned by findall: \", type(a))\n"
      ],
      "metadata": {
        "colab": {
          "base_uri": "https://localhost:8080/"
        },
        "id": "KdZGslwWoyYV",
        "outputId": "3168941f-a541-4bc5-86f9-a83c8c4cee32"
      },
      "execution_count": null,
      "outputs": [
        {
          "output_type": "stream",
          "name": "stdout",
          "text": [
            "\n",
            "What is Colab?\n",
            "Colab, or \"Colaboratory\", allows you to write and execute Python in your browser, with\n",
            "\n",
            "Zero configuration required\n",
            "Free access to GPUs\n",
            "Easy sharing\n",
            "Whether you're a student, a data scientist or an AI researcher, Colab can make your work easier. Watch Introduction to Colab to learn more, or just get started below!\n",
            "\n",
            "Getting started\n",
            "The document you are reading is not a static web page, but an interactive environment called a Colab notebook that lets you write and execute code.\n",
            "\n",
            "For example, here is a code cell with a short Python script that computes a value, stores it in a variable, and prints the result:\n",
            "\n",
            "['Colab', 'Colab', 'Colab', 'Colab', 'Colab', 'Colab']\n",
            "Type returned by findall:  <class 'list'>\n"
          ]
        }
      ]
    },
    {
      "cell_type": "code",
      "source": [
        "# Finditer\n",
        "\n",
        "a = re.finditer(\"Colab\", text)\n",
        "print(\"type returned by finditer: \", type(a))\n",
        "print(a)\n",
        "\n",
        "print(next(a))\n",
        "print(next(a))\n",
        "print(next(a))\n",
        "for i in a:\n",
        "  print(i)\n",
        "try:\n",
        "  next(a)\n",
        "except Exception as e:\n",
        "  print(e)\n",
        "  print(\"As we have already iterated through all the elements this results in error: \")"
      ],
      "metadata": {
        "colab": {
          "base_uri": "https://localhost:8080/"
        },
        "id": "PUO_n2iZrMwQ",
        "outputId": "b0b79946-6bc9-443f-8a5a-8282facc93d4"
      },
      "execution_count": null,
      "outputs": [
        {
          "output_type": "stream",
          "name": "stdout",
          "text": [
            "type returned by finditer:  <class 'callable_iterator'>\n",
            "<callable_iterator object at 0x7fe0dd614f10>\n",
            "<re.Match object; span=(9, 14), match='Colab'>\n",
            "<re.Match object; span=(16, 21), match='Colab'>\n",
            "<re.Match object; span=(27, 32), match='Colab'>\n",
            "<re.Match object; span=(229, 234), match='Colab'>\n",
            "<re.Match object; span=(284, 289), match='Colab'>\n",
            "<re.Match object; span=(444, 449), match='Colab'>\n",
            "\n",
            "As we have already iterated through all the elements this results in error: \n"
          ]
        }
      ]
    },
    {
      "cell_type": "code",
      "source": [
        "# Re split is po\n",
        "re.split(r\"\\'\\\" \", text)"
      ],
      "metadata": {
        "colab": {
          "base_uri": "https://localhost:8080/"
        },
        "id": "c2uoQU88ruVf",
        "outputId": "36b0c331-912e-4c3b-a179-214d819be135"
      },
      "execution_count": null,
      "outputs": [
        {
          "output_type": "execute_result",
          "data": {
            "text/plain": [
              "['\\nWhat is Colab?\\nColab, or \"Colaboratory\", allows you to write and execute Python in your browser, with\\n\\nZero configuration required\\nFree access to GPUs\\nEasy sharing\\nWhether you\\'re a student, a data scientist or an AI researcher, Colab can make your work easier. Watch Introduction to Colab to learn more, or just get started below!\\n\\nGetting started\\nThe document you are reading is not a static web page, but an interactive environment called a Colab notebook that lets you write and execute code.\\n\\nFor example, here is a code cell with a short Python script that computes a value, stores it in a variable, and prints the result:\\n']"
            ]
          },
          "metadata": {},
          "execution_count": 38
        }
      ]
    },
    {
      "cell_type": "code",
      "source": [
        "a = re.compile(r\"Colab\")\n",
        "\n",
        "b = re.findall(a, text)\n",
        "print(b)"
      ],
      "metadata": {
        "colab": {
          "base_uri": "https://localhost:8080/"
        },
        "id": "K_U9lOFOs1ZR",
        "outputId": "9755694f-8e22-40d1-f561-e6d484e8fcba"
      },
      "execution_count": null,
      "outputs": [
        {
          "output_type": "stream",
          "name": "stdout",
          "text": [
            "['Colab', 'Colab', 'Colab', 'Colab', 'Colab', 'Colab']\n"
          ]
        }
      ]
    },
    {
      "cell_type": "code",
      "source": [
        "a = re.escape(text)\n",
        "print(a)\n"
      ],
      "metadata": {
        "colab": {
          "base_uri": "https://localhost:8080/"
        },
        "id": "i2ZAgEyyCv3H",
        "outputId": "f1556bf3-bb74-40d1-a51e-99907a89e666"
      },
      "execution_count": null,
      "outputs": [
        {
          "output_type": "stream",
          "name": "stdout",
          "text": [
            "\\\n",
            "What\\ is\\ Colab\\?\\\n",
            "Colab,\\ or\\ \"Colaboratory\",\\ allows\\ you\\ to\\ write\\ and\\ execute\\ Python\\ in\\ your\\ browser,\\ with\\\n",
            "\\\n",
            "Zero\\ configuration\\ required\\\n",
            "Free\\ access\\ to\\ GPUs\\\n",
            "Easy\\ sharing\\\n",
            "Whether\\ you're\\ a\\ student,\\ a\\ data\\ scientist\\ or\\ an\\ AI\\ researcher,\\ Colab\\ can\\ make\\ your\\ work\\ easier\\.\\ Watch\\ Introduction\\ to\\ Colab\\ to\\ learn\\ more,\\ or\\ just\\ get\\ started\\ below!\\\n",
            "\\\n",
            "Getting\\ started\\\n",
            "The\\ document\\ you\\ are\\ reading\\ is\\ not\\ a\\ static\\ web\\ page,\\ but\\ an\\ interactive\\ environment\\ called\\ a\\ Colab\\ notebook\\ that\\ lets\\ you\\ write\\ and\\ execute\\ code\\.\\\n",
            "\\\n",
            "For\\ example,\\ here\\ is\\ a\\ code\\ cell\\ with\\ a\\ short\\ Python\\ script\\ that\\ computes\\ a\\ value,\\ stores\\ it\\ in\\ a\\ variable,\\ and\\ prints\\ the\\ result:\\\n",
            "\n"
          ]
        }
      ]
    },
    {
      "cell_type": "code",
      "source": [
        "# Pattern MAtching\n",
        "\n",
        "print(text)\n",
        "\n",
        "a = re.findall(\"i[sn]\", text)\n",
        "print(a)\n",
        "\n",
        "a = re.findall(\"i[^sn]\", text)\n",
        "print(a)\n",
        "\n",
        "a = re.findall(\"i[a-k]\", text)\n",
        "print(a)\n",
        "\n",
        "a = re.findall(\"i[^a-n]\", text)\n",
        "print(a)"
      ],
      "metadata": {
        "colab": {
          "base_uri": "https://localhost:8080/"
        },
        "id": "gPpbaLilDP6Y",
        "outputId": "d02cb6c0-f4be-450f-b6aa-a79e72f5e2e4"
      },
      "execution_count": null,
      "outputs": [
        {
          "output_type": "stream",
          "name": "stdout",
          "text": [
            "\n",
            "What is Colab?\n",
            "Colab, or \"Colaboratory\", allows you to write and execute Python in your browser, with\n",
            "\n",
            "Zero configuration required\n",
            "Free access to GPUs\n",
            "Easy sharing\n",
            "Whether you're a student, a data scientist or an AI researcher, Colab can make your work easier. Watch Introduction to Colab to learn more, or just get started below!\n",
            "\n",
            "Getting started\n",
            "The document you are reading is not a static web page, but an interactive environment called a Colab notebook that lets you write and execute code.\n",
            "\n",
            "For example, here is a code cell with a short Python script that computes a value, stores it in a variable, and prints the result:\n",
            "\n",
            "['is', 'in', 'in', 'is', 'in', 'in', 'is', 'in', 'is', 'in', 'in']\n",
            "['it', 'it', 'ig', 'io', 'ir', 'ie', 'ie', 'io', 'ic', 'iv', 'ir', 'it', 'it', 'ip', 'it', 'ia']\n",
            "['ig', 'ie', 'ie', 'ic', 'ia']\n",
            "['is', 'it', 'it', 'io', 'ir', 'is', 'io', 'is', 'iv', 'ir', 'it', 'is', 'it', 'ip', 'it']\n"
          ]
        }
      ]
    },
    {
      "cell_type": "code",
      "source": [
        "# Pattern matching\n",
        "\n",
        "a = re.findall(r\"i[a-y]*\", text)# * 0 or n\n",
        "print(a)\n",
        "\n",
        "a = re.findall(r\"[a-h]+\", text)# * 1 or n\n",
        "print(a)\n",
        "\n",
        "a = re.findall(r\"[a-h]?\", text)# * 0 or 1\n",
        "print(a)\n",
        "\n",
        "a = re.findall(r\"i{1}[a-h]*\", text)\n",
        "print(a)\n",
        "\n",
        "a = re.findall(r\"i{1}[a-h]+\", text)\n",
        "print(a)\n",
        "\n",
        "a = re.findall(r\"es{1,2}\", text)\n",
        "print(a)\n",
        "\n",
        "a = re.findall(r\"[c-t]{2,}\", text)\n",
        "print(a)\n"
      ],
      "metadata": {
        "colab": {
          "base_uri": "https://localhost:8080/"
        },
        "id": "L1ToBHWnDWa_",
        "outputId": "c287a2e4-1b90-4532-d57f-8dec9ddf844d"
      },
      "execution_count": null,
      "outputs": [
        {
          "output_type": "stream",
          "name": "stdout",
          "text": [
            "['is', 'ite', 'in', 'ith', 'iguration', 'ired', 'ing', 'ientist', 'ier', 'ion', 'ing', 'ing', 'is', 'ic', 'interactive', 'ironment', 'ite', 'is', 'ith', 'ipt', 'it', 'in', 'iable', 'ints']\n",
            "['ha', 'ab', 'ab', 'ab', 'a', 'a', 'e', 'a', 'd', 'e', 'ec', 'e', 'h', 'b', 'e', 'h', 'e', 'c', 'f', 'g', 'a', 'e', 'ed', 'ee', 'acce', 'a', 'ha', 'g', 'he', 'he', 'e', 'a', 'de', 'a', 'da', 'a', 'c', 'e', 'a', 'e', 'ea', 'che', 'ab', 'ca', 'a', 'e', 'ea', 'e', 'a', 'ch', 'd', 'c', 'ab', 'ea', 'e', 'ge', 'a', 'ed', 'be', 'e', 'g', 'a', 'ed', 'he', 'd', 'c', 'e', 'a', 'e', 'ead', 'g', 'a', 'a', 'c', 'eb', 'age', 'b', 'a', 'e', 'ac', 'e', 'e', 'e', 'ca', 'ed', 'a', 'ab', 'eb', 'ha', 'e', 'e', 'a', 'd', 'e', 'ec', 'e', 'c', 'de', 'e', 'a', 'e', 'he', 'e', 'a', 'c', 'de', 'ce', 'h', 'a', 'h', 'h', 'c', 'ha', 'c', 'e', 'a', 'a', 'e', 'e', 'a', 'a', 'ab', 'e', 'a', 'd', 'he', 'e']\n",
            "['', '', 'h', 'a', '', '', '', '', '', '', '', '', 'a', 'b', '', '', '', '', '', 'a', 'b', '', '', '', '', '', '', '', '', '', 'a', 'b', '', '', 'a', '', '', '', '', '', '', '', 'a', '', '', '', '', '', '', '', '', '', '', '', '', '', '', '', '', '', 'e', '', 'a', '', 'd', '', 'e', '', 'e', 'c', '', '', 'e', '', '', '', '', 'h', '', '', '', '', '', '', '', '', '', '', '', 'b', '', '', '', '', 'e', '', '', '', '', '', '', 'h', '', '', '', 'e', '', '', '', 'c', '', '', 'f', '', 'g', '', '', 'a', '', '', '', '', '', '', 'e', '', '', '', '', 'e', 'd', '', '', '', 'e', 'e', '', 'a', 'c', 'c', 'e', '', '', '', '', '', '', '', '', '', '', '', '', 'a', '', '', '', '', 'h', 'a', '', '', '', 'g', '', '', 'h', 'e', '', 'h', 'e', '', '', '', '', '', '', '', 'e', '', 'a', '', '', '', '', 'd', 'e', '', '', '', '', 'a', '', 'd', 'a', '', 'a', '', '', 'c', '', 'e', '', '', '', '', '', '', '', '', '', 'a', '', '', '', '', '', '', 'e', '', 'e', 'a', '', 'c', 'h', 'e', '', '', '', '', '', '', 'a', 'b', '', 'c', 'a', '', '', '', 'a', '', 'e', '', '', '', '', '', '', '', '', '', '', '', 'e', 'a', '', '', 'e', '', '', '', '', 'a', '', 'c', 'h', '', '', '', '', '', '', 'd', '', 'c', '', '', '', '', '', '', '', '', '', '', '', 'a', 'b', '', '', '', '', '', 'e', 'a', '', '', '', '', '', '', 'e', '', '', '', '', '', '', '', '', '', '', 'g', 'e', '', '', '', '', 'a', '', '', 'e', 'd', '', 'b', 'e', '', '', '', '', '', '', '', 'e', '', '', '', '', 'g', '', '', '', 'a', '', '', 'e', 'd', '', '', 'h', 'e', '', 'd', '', 'c', '', '', 'e', '', '', '', '', '', '', '', 'a', '', 'e', '', '', 'e', 'a', 'd', '', '', 'g', '', '', '', '', '', '', '', '', 'a', '', '', '', 'a', '', '', 'c', '', '', 'e', 'b', '', '', 'a', 'g', 'e', '', '', 'b', '', '', '', 'a', '', '', '', '', '', 'e', '', 'a', 'c', '', '', '', 'e', '', 'e', '', '', '', '', '', '', '', 'e', '', '', '', 'c', 'a', '', '', 'e', 'd', '', 'a', '', '', '', '', 'a', 'b', '', '', '', '', 'e', 'b', '', '', '', '', '', 'h', 'a', '', '', '', 'e', '', '', '', '', '', '', '', '', '', '', '', 'e', '', 'a', '', 'd', '', 'e', '', 'e', 'c', '', '', 'e', '', 'c', '', 'd', 'e', '', '', '', '', '', '', '', 'e', '', 'a', '', '', '', 'e', '', '', 'h', 'e', '', 'e', '', '', '', '', 'a', '', 'c', '', 'd', 'e', '', 'c', 'e', '', '', '', '', '', '', 'h', '', 'a', '', '', 'h', '', '', '', '', '', '', '', 'h', '', '', '', '', 'c', '', '', '', '', '', '', 'h', 'a', '', '', 'c', '', '', '', '', '', 'e', '', '', 'a', '', '', 'a', '', '', 'e', '', '', '', '', '', '', 'e', '', '', '', '', '', '', '', '', 'a', '', '', 'a', '', '', 'a', 'b', '', 'e', '', '', 'a', '', 'd', '', '', '', '', '', '', '', '', '', 'h', 'e', '', '', 'e', '', '', '', '', '', '', '']\n",
            "['i', 'i', 'i', 'i', 'ig', 'i', 'i', 'i', 'ie', 'i', 'ie', 'i', 'i', 'i', 'i', 'ic', 'i', 'i', 'i', 'i', 'i', 'i', 'i', 'i', 'i', 'iab', 'i']\n",
            "['ig', 'ie', 'ie', 'ic', 'iab']\n",
            "['ess', 'es', 'es', 'es', 'es']\n",
            "['is', 'ol', 'ol', 'or', 'ol', 'or', 'tor', 'llo', 'to', 'rite', 'nd', 'ec', 'te', 'thon', 'in', 'ro', 'ser', 'ith', 'ero', 'config', 'tion', 'req', 'ired', 'ree', 'ccess', 'to', 'sh', 'ring', 'hether', 're', 'st', 'dent', 'scientist', 'or', 'rese', 'rcher', 'ol', 'ke', 'ork', 'sier', 'tch', 'ntrod', 'ction', 'to', 'ol', 'to', 'le', 'rn', 'more', 'or', 'st', 'get', 'st', 'rted', 'elo', 'etting', 'st', 'rted', 'he', 'doc', 'ment', 're', 're', 'ding', 'is', 'not', 'st', 'tic', 'ge', 'inter', 'cti', 'en', 'ironment', 'lled', 'ol', 'note', 'ook', 'th', 'lets', 'rite', 'nd', 'ec', 'te', 'code', 'or', 'mple', 'here', 'is', 'code', 'cell', 'ith', 'short', 'thon', 'script', 'th', 'comp', 'tes', 'stores', 'it', 'in', 'ri', 'le', 'nd', 'prints', 'the', 'res', 'lt']\n"
          ]
        }
      ]
    },
    {
      "cell_type": "code",
      "source": [
        "text2 = \"ab abb a a a abbbb abbbbbbb\"\n",
        "\n",
        "print(text2)\n",
        "\n",
        "# * = 0 or n\n",
        "\n",
        "matches = re.findall(r\"ab*\", text2)\n",
        "print(matches)\n",
        "\n",
        "# + = 1 or n \n",
        "\n",
        "matches = re.findall(r\"ab+\", text2)\n",
        "print(matches)\n",
        "\n",
        "# ? = 0 or 1\n",
        "\n",
        "matches = re.findall(r\"ab?\", text2)\n",
        "print(matches)\n",
        "\n",
        "# i{m} = occurance of i m times\n",
        "\n",
        "matches = re.findall(r\"ab{2}\", text2)\n",
        "print(matches)\n",
        "\n",
        "# ij{m, n} = occurance of j min m times and max n times\n",
        "\n",
        "matches = re.findall(r\"ab{2,3}\", text2)# \n",
        "print(\"ab{2}: \",matches)\n",
        "\n",
        "# ij{m, } = Occurance of j min m times and max unlimited times\n",
        "\n",
        "matches = re.findall(r\"ab{2,}\", text2)\n",
        "print(\"ab{2,}: \", matches)\n",
        "\n",
        "# . = used to check new lines\n",
        "\n",
        "print(text)\n",
        "matches = re.findall(r\".+\", text)\n",
        "print(matches)\n",
        "\n"
      ],
      "metadata": {
        "colab": {
          "base_uri": "https://localhost:8080/"
        },
        "id": "bb1PdrDOHFxs",
        "outputId": "289bf3c5-9f18-4d91-a7cc-b664f1ffb4ab"
      },
      "execution_count": null,
      "outputs": [
        {
          "output_type": "stream",
          "name": "stdout",
          "text": [
            "ab abb a a a abbbb abbbbbbb\n",
            "['ab', 'abb', 'a', 'a', 'a', 'abbbb', 'abbbbbbb']\n",
            "['ab', 'abb', 'abbbb', 'abbbbbbb']\n",
            "['ab', 'ab', 'a', 'a', 'a', 'ab', 'ab']\n",
            "['abb', 'abb', 'abb']\n",
            "ab{2}:  ['abb', 'abbb', 'abbb']\n",
            "ab{2,}:  ['abb', 'abbbb', 'abbbbbbb']\n",
            "\n",
            "What is Colab?\n",
            "Colab, or \"Colaboratory\", allows you to write and execute Python in your browser, with\n",
            "\n",
            "Zero configuration required\n",
            "Free access to GPUs\n",
            "Easy sharing\n",
            "Whether you're a student, a data scientist or an AI researcher, Colab can make your work easier. Watch Introduction to Colab to learn more, or just get started below!\n",
            "\n",
            "Getting started\n",
            "The document you are reading is not a static web page, but an interactive environment called a Colab notebook that lets you write and execute code.\n",
            "\n",
            "For example, here is a code cell with a short Python script that computes a value, stores it in a variable, and prints the result:\n",
            "\n",
            "['What is Colab?', 'Colab, or \"Colaboratory\", allows you to write and execute Python in your browser, with', 'Zero configuration required', 'Free access to GPUs', 'Easy sharing', \"Whether you're a student, a data scientist or an AI researcher, Colab can make your work easier. Watch Introduction to Colab to learn more, or just get started below!\", 'Getting started', 'The document you are reading is not a static web page, but an interactive environment called a Colab notebook that lets you write and execute code.', 'For example, here is a code cell with a short Python script that computes a value, stores it in a variable, and prints the result:']\n"
          ]
        }
      ]
    },
    {
      "cell_type": "code",
      "source": [
        "import re\n",
        "\n",
        "print(\"text2: \", text2)\n",
        "matches = re.findall(r\"ab\", text2)\n",
        "print(matches)\n",
        "\n",
        "print(\"text2: \", text2)\n",
        "matches = re.findall(r\"ab+?\", text2)# It will select only ab\n",
        "print(matches)\n",
        "\n",
        "print(\"text2: \", text2)\n",
        "matches = re.findall(r\"ab*?\", text2)# It will select only a\n",
        "print(matches)\n"
      ],
      "metadata": {
        "colab": {
          "base_uri": "https://localhost:8080/"
        },
        "id": "tOK9YoC0knBF",
        "outputId": "814242e8-c118-4058-f57e-98cdd1a5db74"
      },
      "execution_count": null,
      "outputs": [
        {
          "output_type": "stream",
          "name": "stdout",
          "text": [
            "text2:  ab abb a a a abbbb abbbbbbb\n",
            "['ab', 'ab', 'ab', 'ab']\n",
            "text2:  ab abb a a a abbbb abbbbbbb\n",
            "['ab', 'ab', 'ab', 'ab']\n",
            "text2:  ab abb a a a abbbb abbbbbbb\n",
            "['a', 'a', 'a', 'a', 'a', 'a', 'a']\n"
          ]
        }
      ]
    },
    {
      "cell_type": "code",
      "source": [
        "# Writing PAtterns : Character Sets And Character Ranges\n",
        "import re\n",
        "\n",
        "text3 = \"xyyxxyyyzzzx\"\n",
        "\n",
        "matches = re.findall(r\"x[yz]\", text3)\n",
        "print(matches)\n",
        "\n",
        "matches = re.findall(r\"x[^yz]\", text3)\n",
        "print(matches)\n",
        "\n",
        "matches = re.findall(r\"[x-z]\", text3)\n",
        "print(matches)\n",
        "\n",
        "matches =re.findall(r\"[^y-z]\", text3)\n",
        "print(matches)"
      ],
      "metadata": {
        "colab": {
          "base_uri": "https://localhost:8080/"
        },
        "id": "WEMd42Nzur3n",
        "outputId": "352efd06-78fc-4b0c-f90a-a8a31cb5f73f"
      },
      "execution_count": null,
      "outputs": [
        {
          "output_type": "stream",
          "name": "stdout",
          "text": [
            "['xy', 'xy']\n",
            "['xx']\n",
            "['xy', 'yx', 'xy', 'yy', 'zz', 'zx']\n",
            "['x', 'x', 'x', 'x']\n"
          ]
        }
      ]
    },
    {
      "cell_type": "code",
      "source": [
        "import re\n",
        "\n",
        "text4 = \"The cost of installing Python is $120.\"\n",
        "\n",
        "print(text4)\n",
        "\n",
        "# \\d: single digit comparision\n",
        "# \\D: non digit\n",
        "#\\s: Matches a single whitespace character (tab, space, newline, etc)\n",
        "#\\S: MAtches everything except single whitespace character (tab, space, newline, etc)\n",
        "#\\w: matches Matches a single alphanumeric character (a-z, A-Z, 0-9)\n",
        "#\\W: Matches a single non alphanumeric character.\n",
        "# \\b: Matches word boundary\n",
        "\n",
        "print(re.findall(r\"\\d\", text4))\n",
        "print(re.findall(r\"\\d+\", text4))\n",
        "print(re.findall(r\"\\d+?\", text4))\n",
        "print(re.findall(r\"[^a-zA-z0-9\\s]\", text4))# To select only special symbols in text\n",
        "print(re.findall(r\"\\w+\", text4))#\\w does not allow special characters\n",
        "print(re.findall(r\"[^\\s]+\", text4))\n"
      ],
      "metadata": {
        "colab": {
          "base_uri": "https://localhost:8080/"
        },
        "id": "ls2hvmL13y-Y",
        "outputId": "c671500e-7312-48a6-b72f-050a9eaf8ad2"
      },
      "execution_count": null,
      "outputs": [
        {
          "output_type": "stream",
          "name": "stdout",
          "text": [
            "The cost of installing Python is $120.\n",
            "['1', '2', '0']\n",
            "['120']\n",
            "['1', '2', '0']\n",
            "['$', '.']\n",
            "['The', 'cost', 'of', 'installing', 'Python', 'is', '120']\n",
            "['The', 'cost', 'of', 'installing', 'Python', 'is', '$120.']\n"
          ]
        }
      ]
    },
    {
      "cell_type": "code",
      "source": [
        "# Eg:\n",
        "print(text)\n",
        "\n",
        "# Find all the special symbol in the text\n",
        "print(re.findall(r\"[^a-zA-Z0-9\\n\\s]\", text))\n",
        "\n",
        "# Find all the letters that start with Capital letter\n",
        "print(re.findall(r\"[A-Z][a-z]+\", text))\n",
        "lst = re.findall(r\"[A-Z][a-z]+\", text)\n",
        "dict_count = {}\n",
        "for i in lst:\n",
        "  if dict_count.get(i):\n",
        "    dict_count[i] +=1\n",
        "  else:\n",
        "    dict_count[i] = 1\n",
        "print(dict_count)\n",
        "\n"
      ],
      "metadata": {
        "colab": {
          "base_uri": "https://localhost:8080/"
        },
        "id": "mDSLukp-4xKD",
        "outputId": "fd993d42-bdbc-419c-8dde-d2526b40be5a"
      },
      "execution_count": null,
      "outputs": [
        {
          "output_type": "stream",
          "name": "stdout",
          "text": [
            "\n",
            "What is Colab?\n",
            "Colab, or \"Colaboratory\", allows you to write and execute Python in your browser, with\n",
            "\n",
            "Zero configuration required\n",
            "Free access to GPUs\n",
            "Easy sharing\n",
            "Whether you're a student, a data scientist or an AI researcher, Colab can make your work easier. Watch Introduction to Colab to learn more, or just get started below!\n",
            "\n",
            "Getting started\n",
            "The document you are reading is not a static web page, but an interactive environment called a Colab notebook that lets you write and execute code.\n",
            "\n",
            "For example, here is a code cell with a short Python script that computes a value, stores it in a variable, and prints the result:\n",
            "\n",
            "['?', ',', '\"', '\"', ',', ',', \"'\", ',', ',', '.', ',', '!', ',', '.', ',', ',', ',', ':']\n",
            "['What', 'Colab', 'Colab', 'Colaboratory', 'Python', 'Zero', 'Free', 'Us', 'Easy', 'Whether', 'Colab', 'Watch', 'Introduction', 'Colab', 'Getting', 'The', 'Colab', 'For', 'Python']\n",
            "{'What': 1, 'Colab': 5, 'Colaboratory': 1, 'Python': 2, 'Zero': 1, 'Free': 1, 'Us': 1, 'Easy': 1, 'Whether': 1, 'Watch': 1, 'Introduction': 1, 'Getting': 1, 'The': 1, 'For': 1}\n"
          ]
        }
      ]
    },
    {
      "cell_type": "code",
      "source": [
        "from google.colab import files\n",
        "uploaded = files.upload()"
      ],
      "metadata": {
        "colab": {
          "resources": {
            "http://localhost:8080/nbextensions/google.colab/files.js": {
              "data": "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",
              "ok": true,
              "headers": [
                [
                  "content-type",
                  "application/javascript"
                ]
              ],
              "status": 200,
              "status_text": ""
            }
          },
          "base_uri": "https://localhost:8080/",
          "height": 73
        },
        "id": "H3fDXLXyAJLq",
        "outputId": "4b519ee7-21a9-4a9e-cf5a-c6d934f8bf6f"
      },
      "execution_count": null,
      "outputs": [
        {
          "output_type": "display_data",
          "data": {
            "text/html": [
              "\n",
              "     <input type=\"file\" id=\"files-0f73c698-4014-4c80-95a0-4f60a38b1185\" name=\"files[]\" multiple disabled\n",
              "        style=\"border:none\" />\n",
              "     <output id=\"result-0f73c698-4014-4c80-95a0-4f60a38b1185\">\n",
              "      Upload widget is only available when the cell has been executed in the\n",
              "      current browser session. Please rerun this cell to enable.\n",
              "      </output>\n",
              "      <script src=\"/nbextensions/google.colab/files.js\"></script> "
            ],
            "text/plain": [
              "<IPython.core.display.HTML object>"
            ]
          },
          "metadata": {}
        },
        {
          "output_type": "stream",
          "name": "stdout",
          "text": [
            "Saving PythonRE.txt to PythonRE (1).txt\n"
          ]
        }
      ]
    },
    {
      "cell_type": "code",
      "source": [
        "for filename in uploaded.keys(): # get the name of each uploaded file\n",
        "  print(filename)\n",
        "  lines = uploaded[filename].splitlines() # split the contents into lines\n",
        "  for line in lines:  # iterate over all lines\n",
        "    print(line.decode('utf-8'))  # print the line (it needs to be decoded)"
      ],
      "metadata": {
        "colab": {
          "base_uri": "https://localhost:8080/"
        },
        "id": "pDiWJqS9B4Sx",
        "outputId": "2236cfa0-f644-48a8-b102-511cefc48342"
      },
      "execution_count": null,
      "outputs": [
        {
          "output_type": "stream",
          "name": "stdout",
          "text": [
            "PythonRE.txt\n",
            "import re\n",
            "(Python re syntax is similar to Perl)\n",
            "Learning Regular express involves Two steps:\n",
            "1. Learning how to use re module methods.\n",
            "2. How to write search patterns using meta characters.\n",
            "\n",
            "re Module Methods:\n",
            "search(pattern, string, flags=0)\n",
            "Looks for match for the pattern, any where in the string.If Match found:Returns match Object If not: returns None.\n",
            "\n",
            "match(pattern, string, flags=0)\n",
            "Looks for match for the pattern, at the begining of the string. If Match found:Returns match Object If not: returns None.\n",
            "\n",
            "group(), groups(), span(), start(), end()\n",
            "Some important methods of match Object.\n",
            "\n",
            "findall(pattern, string, flags=0)\n",
            "Returns a list of all non-overlapping matches in the string.\n",
            "\n",
            "finditer(pattern, string, flags=0)\n",
            "Returns an iterator over all non-overlapping matches in the string. For each match, the iterator returns a match object.\n",
            "\n",
            "sub(pattern, repl, string, count=0, flags=0)\n",
            "String Substitution/ Replacement.\n",
            "\n",
            "compile(pattern, flags=0)\n",
            "Compile a regular expression pattern, returns a pattern object.\n",
            "\n",
            "split(pattern, string, flags=0)\n",
            "A more powerful method than a string split() method. We can split on multiple delemiters.\n",
            "\n",
            "# re Methods: Code Examples\n",
            "\n",
            "import re\n",
            "text1 = \"This is a beautiful day\"\n",
            "re.search(\"is\", text1) #OP: <span = (2,4), ,atch=\"is\">\n",
            "\n",
            "m = re.search(r\"is\", text1)\n",
            "m.group()#OP: is\n",
            "m.start(), m.end() #OP: (2,4)\n",
            "m.span()#OP: (2,4)\n",
            "\n",
            "m = re.match(r\"is\", text1)\n",
            "m.group()# OP: None\n",
            "m = re.match(r\"This\", text1)\n",
            "m.group()#OP: <span = (0, 3), ,atch=\"is\">\n",
            "m.start(), m.end()\n",
            "\n",
            "\n",
            "m = re.findall(r\"is\", text1)#OP: ['is', 'is']\n",
            "\n",
            "text2 = 'abbbaaabbbbabababa'\n",
            "re.findall(r'ba', text2) #OP: ['ba', 'ba', 'ba', 'ba', 'ba']\n",
            "\n",
            "mat = re.finditer(r'ba', text2)\n",
            "print(mat)\n",
            "type(mat)\n",
            "for i in mat:\n",
            "   print(i.group(), m.start(), m.end())\n",
            "\n",
            "\n",
            "re.sub(r\"ba\", \"xy\", text2)# OP: \"abbxyaabbbxyxyxyxy\"\n",
            "re.sub(r\"ba\", \"xy\", text2, count=2)# OP: \"abbxyaabbbxybababa\"\n",
            "\n",
            "pat = re.compile(r\"ba\")\n",
            "re.findall(pat, text2) #OP: ['ba', 'ba', 'ba', 'ba', 'ba']\n",
            "\n",
            "re.split(\"pattern\", text)\n",
            "re.split(\"[ ,-/]\", text2)\n",
            "\n",
            "\n",
            "Writing RE Patterns:\n",
            "1. Repetitions\n",
            "2. Non Greedy Repetitions\n",
            "3. Character Sets\n",
            "4. Character Ranges\n",
            "5. Escape Codes\n",
            "6. Anchoring\n",
            "7. Flags\n",
            "8. Groups and Named Groups\n",
            "\n",
            "\n",
            "\n",
            "\n",
            "\n",
            "# Writing Patterns 1: Repetition (.*+?{m}{m,n})\n",
            "\"ab*\": a followed by zero or more b's\n",
            "\n",
            "\"ab+\": a followed by one or more b's\n",
            "\n",
            "\"ab?\": a followed by zero or one b's\n",
            "\n",
            "\"ab{n}\": a followed by n b's\n",
            "\n",
            "\"ab{m,n}\": a followed by min m and max n b's\n",
            "\n",
            "\"ab{m,}\": a followed by min m and unlimited 's\n",
            "\n",
            "\"ab.\": ab followed by any single non newline character\n",
            "\n",
            "\n",
            "Code Examples\n",
            "text = \"ab abb a a a abbbb abbbbbbb\"\n",
            "\n",
            "re.findall(r\"ab*\", text) #OP: [ab, abb, a , a, a, abbbb abbbbbbb]\n",
            "\n",
            "re.findall(r'ab+', text) #OP: [ab, ab, abbb, abbbbbbb]\n",
            "\n",
            "re.findall(r'ab?', text) #OP: [ab, a, a, a, ab, ab] \n",
            "\n",
            "re.findall(r'ab{2}', text) #OP: [abb, abb, abb]\n",
            "\n",
            "re.findall(r'ab{3, 5}, text)#OP: [abbbb, abbbbb]\n",
            "\n",
            "re.findall(r'ab{3, }, text)#OP: [abbbb, abbbbbbb]\n",
            "\n",
            "re.findall(r'ab*?', text)#OP: [a, a, a, a, a, a](Non greedy can be made by adding a question mark in case of * it'll select only 0 and in case of + it'll go only upto 1)\n",
            "\n",
            "re.findall(r'ab+?', text)#OP: [ab, ab,  ab, ab]\n",
            "\n",
            "\n",
            "# Writing PAtterns : Character Sets And Character Ranges\n",
            "\n",
            "A character set is a group of characters enclosed in square brackets[], any one of which can match at that point in the pattern\n",
            "\n",
            "As character sets grow larger, typing every character that should match could become very tedious. A more compact form is using character ranges.\n",
            "\n",
            "Examples:\n",
            "\n",
            "a[xy]: Would match either ax or ay\n",
            "\n",
            "a[^xy]: Would exclude ax and ay (^ excludes characters in [])\n",
            "\n",
            "[a-k]: Match with any character between a and k.\n",
            "\n",
            "[^p-z]: Exclude matches with any character between p and z\n",
            "\n",
            "# Code Examples:\n",
            "\n",
            "text = \"xyyxxyyyzzzx\"\n",
            "re.findall(r'[xy]', text) #OP: [x,y,y,x, x, y y y z z z x]\n",
            "\n",
            "re.findall(r'x[xy]', text) #OP: [xy, xx]\n",
            "\n",
            "re.findall(r'x[xy]+', text)# OP: [xyyxxyyy]\n",
            "\n",
            "re.findall(r'x[xy]+?', text)# OP: [xy,xx]\n",
            "\n",
            "text='xxy xyxyx xaxb xxyy aaxz'\n",
            "re.findall(r'x[^xy]+', text)#OP: [\"x \" , xa, \"xb \", xz]\n",
            "\n",
            "re.findall(r'x[^xy]+?' text) #op: [\"x \", xa, xb , xz]\n",
            "\n",
            "text = \"This is a sample text. -- with some Punctuation marks!!!\"\n",
            "re.findall(r\"[A-Z][a-z]*\", text)\n",
            "\n",
            "re.findall(r'[^./-!]+', text)\n",
            "\n",
            "\n",
            "# Writing Patterns: Escape Codes\n",
            "\n",
            "We can use special escape codes to fins specific types of patterns in data, such as digits, non-digits, whitespaces etc.\n",
            "\n",
            "\\d: Matches a single digit\n",
            "\n",
            "\\D: Matches a single non digit.\n",
            "\n",
            "\\w: Matches a single alphanumeric character\n",
            "\n",
            "\\W: Matches a single non alphanumeric character.\n",
            "\n",
            "\\s: Matches a single whitespace character (tab, space, newline, etc)\n",
            "\n",
            "\\S:Matches a single non whitespace character\n",
            "\n",
            "\\b: Matches word boundary\n",
            "\n",
            "# Escape Codes Code Examples:\n",
            "\n",
            "text = \"The cost of installing Python is $0.\"\n",
            "\n",
            "re.findall(r\"\\d\", text)\n",
            "re.findall(r\"\\d+\", text)\n",
            "re.findall(r\"\\D\", text)\n",
            "re.findall(r\"\\D+\", text)\n",
            "re.findall(r\"\\s\", text)\n",
            "re.findall(r\"\\S\", text)\n",
            "re.findall(r\"\\S+\", text)\n",
            "\n",
            "re.findall(r\"\\w\", text)(Returns\n",
            "re.findall(r\"\\w+\", text)\n",
            "re.findall(r\"\\S+\", text)\n",
            "\n",
            "# Writing Patterns 6: Anchoring\n",
            "\n",
            "^ -> Start of a string\n",
            "$ -> End of a string\n",
            "\\A -> Start of a string\n",
            "\\Z -> End of a string \n",
            "\\b -> Empty string at the begining and end of a word\n",
            "\n",
            "# Anchoring Examples\n",
            "import re\n",
            "text = \"This is a beautiful day.\"\n",
            "\n",
            "re.findall(r\"is\", text)\n",
            "re.findall(r\"^is\", text)\n",
            "re.findall(r\"\\.$\", text)\n",
            "re.findall(r\"\\bis\\b\", text) # OP: [is]\n",
            "\n",
            "# Writing Patterns 7: Flags\n",
            "\n",
            "Sometimes we need to slightly tweak the behavior of the regular expression. The regular expression engine in Python, Offer a small number of flags that modify the behavior of the entire expession.\n",
            "\n",
            "re.IGNORECASE or re.I or 2: Makes the regular expression case-insensitive.\n",
            "\n",
            "re.DOTALL or re.S or 16: MAkes character to include \\n newline character\n",
            "\n",
            "re.MULTILINE or re.M or 8: Makes the ^ and $ characters which normally would only match against the beginning or end of the string, to insted match against the beginning or end of any line within the string.\n",
            "\n",
            "re.VERBOSE or re.X or 64: Makes complicated regular expression to be more readable. This flag does two things: First, it causes all whitespace (other than in character classes) to be ignored, including linebreaks. Second it treats the # character (again, unless it's inside a character class) as a comment character\n",
            "\n",
            "re.DEBUG or 128: Provides some debugging information while compiling a regular expression.\n",
            "\n",
            "Multiple Flags: Some times we may have to use multiple flags at the same time, this is done using bitwise OR operator. Eg: re.I| re.S| re.M\n",
            "\n",
            "\n",
            "# Flags Example:\n",
            "\n",
            "text = \"Python python PYTHON\"\n",
            "re.findall(r\"Python\", text)\n",
            "re.findall(r\"Python\", text, re.IGNORECASE)\n",
            "re.findall(r\"Python\", text, re.I)\n",
            "re.findall(r\"Python\", text, 2)\n",
            "\n",
            "text = \"Py\\nthon\"\n",
            "re.findall(r\".+\",text)\n",
            "re.findall(r\".+\",text)\n",
            "re.findall(r\".+\",text, re.DOTALL)\n",
            "\n",
            "text = \"Python is fun. Learning python.\"\n",
            "re.sub(r\"Py\", \"My\", text)\n",
            "re.sub(r\"Py\", \"My\", text, re.I)\n",
            "\n",
            "# Writing Patterns: Grouping\n",
            "text = \"123-4567 is my telephone\"\n",
            "re.findall(r\"\\d+\", text)\n"
          ]
        }
      ]
    },
    {
      "cell_type": "code",
      "source": [
        ""
      ],
      "metadata": {
        "id": "NpVbjk57Kr08"
      },
      "execution_count": null,
      "outputs": []
    }
  ]
}